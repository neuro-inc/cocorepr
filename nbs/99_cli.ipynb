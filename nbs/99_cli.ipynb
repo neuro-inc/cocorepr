{
 "cells": [
  {
   "cell_type": "code",
   "execution_count": null,
   "metadata": {},
   "outputs": [],
   "source": [
    "# default_exp main"
   ]
  },
  {
   "cell_type": "code",
   "execution_count": null,
   "metadata": {},
   "outputs": [],
   "source": [
    "# export\n",
    "\n",
    "import argparse\n",
    "import logging\n",
    "from pathlib import Path\n",
    "\n",
    "from cocorepr.coco import merge_datasets\n",
    "from cocorepr.json_file import *\n",
    "from cocorepr.json_tree import *\n",
    "from cocorepr.crop_tree import *\n",
    "\n",
    "logging.basicConfig(level=logging.INFO, format='%(levelname)s: %(message)s')\n",
    "logger = logging.getLogger()"
   ]
  },
  {
   "cell_type": "code",
   "execution_count": null,
   "metadata": {},
   "outputs": [],
   "source": [
    "# export\n",
    "\n",
    "def get_parser():\n",
    "    parser = argparse.ArgumentParser(\n",
    "        description=\"Tool for converting datasets in COCO format between different formats\"\n",
    "    )\n",
    "    parser.add_argument(\"--in_json_tree\", type=Path, nargs=\"*\", default=[])\n",
    "    parser.add_argument(\"--in_json_file\", type=Path, nargs=\"*\", default=[])\n",
    "    parser.add_argument(\"--in_crop_tree\", type=Path, nargs=\"*\", default=[])\n",
    "    \n",
    "    parser.add_argument(\"--out_path\", type=Path, required=True)\n",
    "    parser.add_argument(\"--out_format\", choices=['json_file', 'json_tree', 'crop_tree'], required=True)\n",
    "    \n",
    "    parser.add_argument(\"--overwrite\", action='store_true')\n",
    "    parser.add_argument(\"--indent\", default=4,\n",
    "                        type=lambda x: int(x) if str(x).lower() not in ('none', 'null', '~') else None)\n",
    "    parser.add_argument(\"--debug\", action='store_true')\n",
    "    \n",
    "    return parser\n"
   ]
  },
  {
   "cell_type": "code",
   "execution_count": null,
   "metadata": {},
   "outputs": [],
   "source": [
    "# export\n",
    "\n",
    "def main(args=None):\n",
    "    args = args or get_parser().parse_args()\n",
    "    \n",
    "    if args.debug:\n",
    "        logging.getLogger().setLevel(logging.DEBUG)\n",
    "    \n",
    "    logger.info(f'Arguments: {args}')\n",
    "\n",
    "    in_json_tree_list = args.in_json_tree\n",
    "    in_json_file_list = args.in_json_file\n",
    "    in_crop_tree_list = args.in_crop_tree\n",
    "    \n",
    "    out_path = args.out_path\n",
    "    out_format = args.out_format\n",
    "    overwrite = args.overwrite\n",
    "    indent = args.indent\n",
    "    \n",
    "    coco = None\n",
    "    for in_json_tree in in_json_tree_list:\n",
    "        coco = merge_datasets(coco, load_json_tree(in_json_tree))\n",
    "    for in_json_file in in_json_file_list:\n",
    "        coco = merge_datasets(coco, load_json_file(in_json_file))\n",
    "    \n",
    "    if coco is None:\n",
    "        raise ValueError(f'Not found base dataset, please specify either of: '\n",
    "                         '--in_json_tree / --in_json_file (multiple arguments allowed)')\n",
    "    logger.info(f'Loaded total json dataset: '\n",
    "                f'len(annotations)={len(coco.annotations)} '\n",
    "                f'len(images)={len(coco.images)} '\n",
    "                f'len(categories)={len(coco.categories)}')\n",
    "    \n",
    "    coco_crop = None\n",
    "    for in_crop_tree in in_crop_tree_list:\n",
    "        coco_crop = merge_datasets(coco_crop, load_crop_tree(in_crop_tree, coco))\n",
    "    if coco_crop is not None:\n",
    "        logger.info(f'Loaded total coco_crop dataset: '\n",
    "                    f'len(annotations)={len(coco_crop.annotations)} '\n",
    "                    f'len(images)={len(coco_crop.images)} '\n",
    "                    f'len(categories)={len(coco_crop.categories)}')\n",
    "        logger.info('Using coco_crop dataset as primary')\n",
    "        coco = coco_crop\n",
    "\n",
    "    if out_format == 'json_file':\n",
    "        dump_fun = dump_json_file\n",
    "    elif out_format == 'json_tree':\n",
    "        dump_fun = dump_json_tree\n",
    "    elif out_format == 'crop_tree':\n",
    "        dump_fun = dump_crop_tree\n",
    "    else:\n",
    "        raise ValueError(out_format)\n",
    "    dump_fun(coco, out_path, skip_nulls=True, overwrite=overwrite, indent=indent)\n",
    "    \n",
    "    details = f': {[p.name for p in out_path.iterdir()]}' if out_path.is_dir() else ''\n",
    "    logger.info(f'[+] Success: {out_format} dumped to {out_path}' + details)"
   ]
  }
 ],
 "metadata": {
  "kernelspec": {
   "display_name": "Python 3",
   "language": "python",
   "name": "python3"
  },
  "language_info": {
   "codemirror_mode": {
    "name": "ipython",
    "version": 3
   },
   "file_extension": ".py",
   "mimetype": "text/x-python",
   "name": "python",
   "nbconvert_exporter": "python",
   "pygments_lexer": "ipython3",
   "version": "3.7.6"
  }
 },
 "nbformat": 4,
 "nbformat_minor": 2
}
