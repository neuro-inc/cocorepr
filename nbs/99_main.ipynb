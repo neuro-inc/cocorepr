{
 "cells": [
  {
   "cell_type": "code",
   "execution_count": null,
   "metadata": {},
   "outputs": [],
   "source": [
    "# default_exp main"
   ]
  },
  {
   "cell_type": "code",
   "execution_count": null,
   "metadata": {},
   "outputs": [],
   "source": [
    "# export\n",
    "\n",
    "import argparse\n",
    "import logging\n",
    "from pathlib import Path\n",
    "\n",
    "from cococleaner.json_file import *\n",
    "from cococleaner.json_tree import *\n",
    "from cococleaner.crop_tree import *\n",
    "\n",
    "logging.basicConfig(level=logging.INFO)\n",
    "logger = logging.getLogger()"
   ]
  },
  {
   "cell_type": "code",
   "execution_count": null,
   "metadata": {},
   "outputs": [],
   "source": [
    "# export\n",
    "\n",
    "def get_parser():\n",
    "    parser = argparse.ArgumentParser(\n",
    "        description=\"Tool for converting datasets in COCO format between different formats\"\n",
    "    )\n",
    "    parser.add_argument(\"--in_json_path\", type=Path, required=True)\n",
    "    parser.add_argument(\"--in_crop_tree_path\", type=Path)\n",
    "    parser.add_argument(\"--out_path\", type=Path, required=True)\n",
    "    parser.add_argument(\"--out_format\", choices=['json_file', 'json_tree', 'crop_tree'], required=True)\n",
    "    parser.add_argument(\"--overwrite\", action='store_true')\n",
    "    parser.add_argument(\"--indent\", default=4,\n",
    "                        type=lambda x: int(x) if str(x).lower() not in ('none', 'null', '~') else None)\n",
    "    return parser\n"
   ]
  },
  {
   "cell_type": "code",
   "execution_count": null,
   "metadata": {},
   "outputs": [],
   "source": [
    "# export\n",
    "\n",
    "def main(args=None):\n",
    "    args = args or get_parser().parse_args()\n",
    "    logger.info(f'Arguments: {args}')\n",
    "    in_json_path = args.in_json_path\n",
    "    in_crop_tree_path = args.in_crop_tree_path\n",
    "    \n",
    "    out_path = args.out_path\n",
    "    out_format = args.out_format\n",
    "    overwrite = args.overwrite\n",
    "    indent = args.indent\n",
    "    \n",
    "    coco = None\n",
    "    in_format = None\n",
    "    if in_json_path.is_file():\n",
    "        in_format = 'json_file'\n",
    "        ext = in_json_path.suffix\n",
    "        if ext != '.json':\n",
    "            raise ValueError(f'Expect .json file as input, got: {in_json_path}')\n",
    "        coco = load_json_file(in_json_path)\n",
    "    elif in_json_path.is_dir():\n",
    "        in_format = 'json_tree'\n",
    "        coco = load_json_tree(in_json_path)\n",
    "    else:\n",
    "        raise ValueError(f'Neither json_file nor json_tree found: {in_json_path}')\n",
    "    logger.info(f'Detected input dataset type: {in_format}: {in_json_path}')\n",
    "    \n",
    "    if in_crop_tree_path:\n",
    "        coco_merged = load_crop_tree(in_crop_tree_path, coco)\n",
    "        coco = coco_merged\n",
    "    elif in_format == out_format:\n",
    "        raise ValueError(f'Conversion not supported (without input crop_tree): '\n",
    "                         f'{in_format} -> {out_format}')\n",
    "\n",
    "    if out_format == 'json_file':\n",
    "        dump_fun = dump_json_file\n",
    "    elif out_format == 'json_tree':\n",
    "        dump_fun = dump_json_tree\n",
    "    elif out_format == 'crop_tree':\n",
    "        dump_fun = dump_crop_tree\n",
    "    else:\n",
    "        raise ValueError(out_format)\n",
    "    dump_fun(coco, out_path, skip_nulls=True, overwrite=overwrite, indent=indent)\n",
    "    \n",
    "    details = f': {[p.name for p in out_path.iterdir()]}' if out_path.is_dir() else ''\n",
    "    logger.info(f'[+] Success: {out_format} dumped to {out_path}' + details)"
   ]
  },
  {
   "cell_type": "code",
   "execution_count": null,
   "metadata": {},
   "outputs": [],
   "source": [
    "# To test below, you need to do:\n",
    "# $ cd <project root>\n",
    "# $ make build\n",
    "# $ pip install -e .\n",
    "# reload current notebook kernel"
   ]
  },
  {
   "cell_type": "code",
   "execution_count": null,
   "metadata": {},
   "outputs": [
    {
     "name": "stdout",
     "output_type": "stream",
     "text": [
      "INFO:root:Arguments: Namespace(in_crop_tree_path=None, in_json_path=PosixPath('../examples/coco_chunk/json_file/instances_train2017_chunk3x2.json'), indent=4, out_format='json_tree', out_path=PosixPath('/tmp/cococo/json_tree'), overwrite=True)\r\n",
      "INFO:root:Loading json file from file: ../examples/coco_chunk/json_file/instances_train2017_chunk3x2.json\r\n",
      "INFO:root:Loaded: images=6, annotations=6, categories=3\r\n",
      "INFO:root:Detected input dataset type: json_file: ../examples/coco_chunk/json_file/instances_train2017_chunk3x2.json\r\n",
      "INFO:root:Dumping json tree to dir: /tmp/cococo/json_tree\r\n",
      "DEBUG:root:Written 6 elements to /tmp/cococo/json_tree/images\r\n",
      "DEBUG:root:Written 8 elements to /tmp/cococo/json_tree/licenses\r\n",
      "DEBUG:root:Written 6 elements to /tmp/cococo/json_tree/annotations\r\n",
      "DEBUG:root:Written 3 elements to /tmp/cococo/json_tree/categories\r\n",
      "DEBUG:root:Written single element to /tmp/cococo/json_tree/info\r\n",
      "INFO:root:[+] Success: json_tree dumped to /tmp/cococo/json_tree: ['info.json', 'info', 'categories', 'annotations', 'licenses', 'images']\r\n"
     ]
    }
   ],
   "source": [
    "# json_file -> json_tree\n",
    "\n",
    "! rm -rf /tmp/cococo/json_tree\n",
    "! cococleaner \\\n",
    "    --in_json_path ../examples/coco_chunk/json_file/instances_train2017_chunk3x2.json \\\n",
    "    --out_path /tmp/cococo/json_tree \\\n",
    "    --out_format json_tree \\\n",
    "    --overwrite"
   ]
  },
  {
   "cell_type": "code",
   "execution_count": null,
   "metadata": {},
   "outputs": [
    {
     "name": "stdout",
     "output_type": "stream",
     "text": [
      "INFO:root:Arguments: Namespace(in_crop_tree_path=None, in_json_path=PosixPath('../examples/coco_chunk/json_tree'), indent=None, out_format='json_file', out_path=PosixPath('/tmp/cococo/json_file/annotations.json'), overwrite=False)\r\n",
      "INFO:root:Loading json tree from dir: ../examples/coco_chunk/json_tree\r\n",
      "DEBUG:root:Loaded 6 json chunks from ../examples/coco_chunk/json_tree/images\r\n",
      "DEBUG:root:Loaded 8 json chunks from ../examples/coco_chunk/json_tree/licenses\r\n",
      "DEBUG:root:Loaded 6 json chunks from ../examples/coco_chunk/json_tree/annotations\r\n",
      "DEBUG:root:Loaded 3 json chunks from ../examples/coco_chunk/json_tree/categories\r\n",
      "DEBUG:root:Loaded single-file 3 json chunk ../examples/coco_chunk/json_tree/categories\r\n",
      "INFO:root:Detected input dataset type: json_tree: ../examples/coco_chunk/json_tree\r\n",
      "INFO:root:Dumping json file to file: /tmp/cococo/json_file/annotations.json\r\n",
      "INFO:root:Writing dataset to json file: /tmp/cococo/json_file/annotations.json\r\n",
      "INFO:root:[+] Success: json_file dumped to /tmp/cococo/json_file/annotations.json\r\n"
     ]
    }
   ],
   "source": [
    "# json_tree -> json_file\n",
    "\n",
    "! rm -rf /tmp/cococo/json_file\n",
    "! cococleaner \\\n",
    "    --in_json_path ../examples/coco_chunk/json_tree \\\n",
    "    --out_path /tmp/cococo/json_file/annotations.json \\\n",
    "    --out_format json_file \\\n",
    "    --indent=None"
   ]
  },
  {
   "cell_type": "code",
   "execution_count": null,
   "metadata": {},
   "outputs": [
    {
     "name": "stdout",
     "output_type": "stream",
     "text": [
      "INFO:root:Arguments: Namespace(in_crop_tree_path=None, in_json_path=PosixPath('../examples/coco_chunk/json_file/instances_train2017_chunk3x2.json'), indent=4, out_format='crop_tree', out_path=PosixPath('/tmp/cococo/crop_tree'), overwrite=True)\n",
      "INFO:root:Loading json file from file: ../examples/coco_chunk/json_file/instances_train2017_chunk3x2.json\n",
      "INFO:root:Loaded: images=6, annotations=6, categories=3\n",
      "INFO:root:Detected input dataset type: json_file: ../examples/coco_chunk/json_file/instances_train2017_chunk3x2.json\n",
      "INFO:root:Dumping crop tree to dir: /tmp/cococo/crop_tree\n",
      "Processing images: 100%|██████████████████████████| 6/6 [00:03<00:00,  1.53it/s]\n",
      "INFO:root:[+] Success: crop_tree dumped to /tmp/cococo/crop_tree: ['crops', 'images']\n"
     ]
    }
   ],
   "source": [
    "# json_file -> crop_tree\n",
    "\n",
    "! rm -rf /tmp/cococo/crop_tree\n",
    "! cococleaner \\\n",
    "    --in_json_path ../examples/coco_chunk/json_file/instances_train2017_chunk3x2.json \\\n",
    "    --out_path /tmp/cococo/crop_tree \\\n",
    "    --out_format crop_tree \\\n",
    "    --overwrite"
   ]
  },
  {
   "cell_type": "code",
   "execution_count": null,
   "metadata": {},
   "outputs": [
    {
     "data": {
      "text/plain": [
       "'bicycle--2'"
      ]
     },
     "execution_count": null,
     "metadata": {},
     "output_type": "execute_result"
    }
   ],
   "source": [
    "cats = !ls /tmp/cococo/crop_tree/crops\n",
    "cat = cats[0]\n",
    "cat"
   ]
  },
  {
   "cell_type": "code",
   "execution_count": null,
   "metadata": {},
   "outputs": [],
   "source": [
    "# modify crop_tree"
   ]
  },
  {
   "cell_type": "code",
   "execution_count": null,
   "metadata": {},
   "outputs": [
    {
     "data": {
      "text/plain": [
       "'124710.png'"
      ]
     },
     "execution_count": null,
     "metadata": {},
     "output_type": "execute_result"
    }
   ],
   "source": [
    "crops = !ls /tmp/cococo/crop_tree/crops/{cat}\n",
    "deleted_crop = crops[0]\n",
    "deleted_crop"
   ]
  },
  {
   "cell_type": "code",
   "execution_count": null,
   "metadata": {},
   "outputs": [
    {
     "name": "stdout",
     "output_type": "stream",
     "text": [
      "124710.png  124713.png\n",
      "124713.png\n"
     ]
    }
   ],
   "source": [
    "! ls /tmp/cococo/crop_tree/crops/{cat}\n",
    "! rm /tmp/cococo/crop_tree/crops/{cat}/{deleted_crop}\n",
    "! ls /tmp/cococo/crop_tree/crops/{cat}"
   ]
  },
  {
   "cell_type": "code",
   "execution_count": null,
   "metadata": {},
   "outputs": [
    {
     "name": "stdout",
     "output_type": "stream",
     "text": [
      "INFO:root:Arguments: Namespace(in_crop_tree_path=PosixPath('/tmp/cococo/crop_tree'), in_json_path=PosixPath('../examples/coco_chunk/json_file/instances_train2017_chunk3x2.json'), indent=4, out_format='json_tree', out_path=PosixPath('/tmp/cococo/json_tree_2'), overwrite=False)\n",
      "INFO:root:Loading json file from file: ../examples/coco_chunk/json_file/instances_train2017_chunk3x2.json\n",
      "INFO:root:Loaded: images=6, annotations=6, categories=3\n",
      "INFO:root:Detected input dataset type: json_file: ../examples/coco_chunk/json_file/instances_train2017_chunk3x2.json\n",
      "INFO:root:Loading blob list from dir: /tmp/cococo/crop_tree\n",
      "DEBUG:root:Loaded 2 crops from: /tmp/cococo/crop_tree/crops/person--1\n",
      "DEBUG:root:Loaded 2 crops from: /tmp/cococo/crop_tree/crops/car--3\n",
      "DEBUG:root:Loaded 1 crops from: /tmp/cococo/crop_tree/crops/bicycle--2\n",
      "INFO:root:Loaded crop tree: len(annotations)=5 len(images)=5 len(categories)=3\n",
      "INFO:root:Dumping json tree to dir: /tmp/cococo/json_tree_2\n",
      "DEBUG:root:Written 5 elements to /tmp/cococo/json_tree_2/images\n",
      "DEBUG:root:Written 8 elements to /tmp/cococo/json_tree_2/licenses\n",
      "DEBUG:root:Written 5 elements to /tmp/cococo/json_tree_2/annotations\n",
      "DEBUG:root:Written 3 elements to /tmp/cococo/json_tree_2/categories\n",
      "DEBUG:root:Written single element to /tmp/cococo/json_tree_2/info\n",
      "INFO:root:[+] Success: json_tree dumped to /tmp/cococo/json_tree_2: ['info.json', 'info', 'categories', 'annotations', 'licenses', 'images']\n",
      "[+] File successfully not exists\n"
     ]
    }
   ],
   "source": [
    "# json_file + crop_tree (modified) -> json_tree\n",
    "\n",
    "! rm -rf /tmp/json_tree_2\n",
    "! cococleaner \\\n",
    "    --in_json_path ../examples/coco_chunk/json_file/instances_train2017_chunk3x2.json \\\n",
    "    --in_crop_tree_path /tmp/cococo/crop_tree \\\n",
    "    --out_path /tmp/cococo/json_tree_2 \\\n",
    "    --out_format json_tree\n",
    "\n",
    "! [ ! -f {TMP2}/annotations/{deleted_crop} ] && echo \"[+] File successfully not exists\""
   ]
  },
  {
   "cell_type": "code",
   "execution_count": null,
   "metadata": {},
   "outputs": [
    {
     "name": "stdout",
     "output_type": "stream",
     "text": [
      "INFO:root:Arguments: Namespace(in_crop_tree_path=PosixPath('/tmp/cococo/crop_tree'), in_json_path=PosixPath('/tmp/cococo/json_tree_2'), indent=4, out_format='crop_tree', out_path=PosixPath('/tmp/cococo/crop_tree_2'), overwrite=False)\n",
      "INFO:root:Loading json tree from dir: /tmp/cococo/json_tree_2\n",
      "DEBUG:root:Loaded 5 json chunks from /tmp/cococo/json_tree_2/images\n",
      "DEBUG:root:Loaded 8 json chunks from /tmp/cococo/json_tree_2/licenses\n",
      "DEBUG:root:Loaded 5 json chunks from /tmp/cococo/json_tree_2/annotations\n",
      "DEBUG:root:Loaded 3 json chunks from /tmp/cococo/json_tree_2/categories\n",
      "DEBUG:root:Loaded single-file 3 json chunk /tmp/cococo/json_tree_2/categories\n",
      "INFO:root:Detected input dataset type: json_tree: /tmp/cococo/json_tree_2\n",
      "INFO:root:Loading blob list from dir: /tmp/cococo/crop_tree\n",
      "DEBUG:root:Loaded 2 crops from: /tmp/cococo/crop_tree/crops/person--1\n",
      "DEBUG:root:Loaded 2 crops from: /tmp/cococo/crop_tree/crops/car--3\n",
      "DEBUG:root:Loaded 1 crops from: /tmp/cococo/crop_tree/crops/bicycle--2\n",
      "INFO:root:Loaded crop tree: len(annotations)=5 len(images)=5 len(categories)=3\n",
      "INFO:root:Dumping crop tree to dir: /tmp/cococo/crop_tree_2\n",
      "Processing images: 100%|██████████████████████████| 5/5 [00:03<00:00,  1.56it/s]\n",
      "INFO:root:[+] Success: crop_tree dumped to /tmp/cococo/crop_tree_2: ['crops', 'images']\n",
      "crops\n"
     ]
    }
   ],
   "source": [
    "# json_tree + crop_tree -> crop_tree\n",
    "\n",
    "! rm -rf /tmp/cococo/crop_tree_2\n",
    "! cococleaner \\\n",
    "    --in_json_path /tmp/cococo/json_tree_2 \\\n",
    "    --in_crop_tree_path /tmp/cococo/crop_tree \\\n",
    "    --out_path /tmp/cococo/crop_tree_2 \\\n",
    "    --out_format crop_tree\n",
    "! ls /tmp/cococo/crop_tree_2 | grep crops"
   ]
  },
  {
   "cell_type": "code",
   "execution_count": null,
   "metadata": {},
   "outputs": [
    {
     "name": "stdout",
     "output_type": "stream",
     "text": [
      "INFO:root:Arguments: Namespace(in_crop_tree_path=PosixPath('/tmp/cococo/crop_tree'), in_json_path=PosixPath('/tmp/cococo/json_tree_2'), indent=4, out_format='json_file', out_path=PosixPath('/tmp/cococo/json_file_2/annotations.json'), overwrite=False)\n",
      "INFO:root:Loading json tree from dir: /tmp/cococo/json_tree_2\n",
      "DEBUG:root:Loaded 5 json chunks from /tmp/cococo/json_tree_2/images\n",
      "DEBUG:root:Loaded 8 json chunks from /tmp/cococo/json_tree_2/licenses\n",
      "DEBUG:root:Loaded 5 json chunks from /tmp/cococo/json_tree_2/annotations\n",
      "DEBUG:root:Loaded 3 json chunks from /tmp/cococo/json_tree_2/categories\n",
      "DEBUG:root:Loaded single-file 3 json chunk /tmp/cococo/json_tree_2/categories\n",
      "INFO:root:Detected input dataset type: json_tree: /tmp/cococo/json_tree_2\n",
      "INFO:root:Loading blob list from dir: /tmp/cococo/crop_tree\n",
      "DEBUG:root:Loaded 2 crops from: /tmp/cococo/crop_tree/crops/person--1\n",
      "DEBUG:root:Loaded 2 crops from: /tmp/cococo/crop_tree/crops/car--3\n",
      "DEBUG:root:Loaded 1 crops from: /tmp/cococo/crop_tree/crops/bicycle--2\n",
      "INFO:root:Loaded crop tree: len(annotations)=5 len(images)=5 len(categories)=3\n",
      "INFO:root:Dumping json file to file: /tmp/cococo/json_file_2/annotations.json\n",
      "INFO:root:Writing dataset to json file: /tmp/cococo/json_file_2/annotations.json\n",
      "INFO:root:[+] Success: json_file dumped to /tmp/cococo/json_file_2/annotations.json\n",
      "/tmp/cococo/json_file_2/annotations.json\n"
     ]
    }
   ],
   "source": [
    "# json_tree + crop_tree -> json_file\n",
    "\n",
    "! rm -rf /tmp/cococo/json_file_2\n",
    "! cococleaner \\\n",
    "    --in_json_path /tmp/cococo/json_tree_2 \\\n",
    "    --in_crop_tree_path /tmp/cococo/crop_tree \\\n",
    "    --out_path /tmp/cococo/json_file_2/annotations.json \\\n",
    "    --out_format json_file\n",
    "\n",
    "! ls /tmp/cococo/json_file_2/annotations.json"
   ]
  },
  {
   "cell_type": "code",
   "execution_count": null,
   "metadata": {},
   "outputs": [
    {
     "name": "stdout",
     "output_type": "stream",
     "text": [
      "INFO:root:Arguments: Namespace(in_crop_tree_path=None, in_json_path=PosixPath('/tmp/cococo/json_tree_2'), indent=4, out_format='json_tree', out_path=PosixPath('/tmp/cococo/json_file_3/annotations.json'), overwrite=False)\n",
      "INFO:root:Loading json tree from dir: /tmp/cococo/json_tree_2\n",
      "DEBUG:root:Loaded 5 json chunks from /tmp/cococo/json_tree_2/images\n",
      "DEBUG:root:Loaded 8 json chunks from /tmp/cococo/json_tree_2/licenses\n",
      "DEBUG:root:Loaded 5 json chunks from /tmp/cococo/json_tree_2/annotations\n",
      "DEBUG:root:Loaded 3 json chunks from /tmp/cococo/json_tree_2/categories\n",
      "DEBUG:root:Loaded single-file 3 json chunk /tmp/cococo/json_tree_2/categories\n",
      "INFO:root:Detected input dataset type: json_tree: /tmp/cococo/json_tree_2\n",
      "Traceback (most recent call last):\n",
      "  File \"/home/ay/.pyenv/versions/3.7.6/bin/cococleaner\", line 33, in <module>\n",
      "    sys.exit(load_entry_point('cococleaner', 'console_scripts', 'cococleaner')())\n",
      "  File \"/plain/github/nm/cococleaner/cococleaner/main.py\", line 72, in main\n",
      "    raise ValueError(f'Conversion not supported (without input crop_tree): '\n",
      "ValueError: Conversion not supported (without input crop_tree): json_tree -> json_tree\n",
      "[+] test passed\n"
     ]
    }
   ],
   "source": [
    "# json_tree -> json_tree\n",
    "\n",
    "! cococleaner \\\n",
    "    --in_json_path /tmp/cococo/json_tree_2 \\\n",
    "    --out_path /tmp/cococo/json_file_3/annotations.json \\\n",
    "    --out_format json_tree \\\n",
    "|| echo \"[+] Test passed\""
   ]
  },
  {
   "cell_type": "code",
   "execution_count": null,
   "metadata": {},
   "outputs": [],
   "source": []
  }
 ],
 "metadata": {
  "kernelspec": {
   "display_name": "Python 3",
   "language": "python",
   "name": "python3"
  }
 },
 "nbformat": 4,
 "nbformat_minor": 2
}
