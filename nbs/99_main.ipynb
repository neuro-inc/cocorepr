{
 "cells": [
  {
   "cell_type": "code",
   "execution_count": null,
   "metadata": {},
   "outputs": [],
   "source": [
    "# default_exp main"
   ]
  },
  {
   "cell_type": "code",
   "execution_count": null,
   "metadata": {},
   "outputs": [],
   "source": [
    "# export\n",
    "\n",
    "import argparse\n",
    "import logging\n",
    "\n",
    "from cococleaner.json_file import *\n",
    "from cococleaner.json_tree import *\n",
    "from cococleaner.crop_tree import *\n",
    "\n",
    "logging.basicConfig(level=logging.INFO)\n",
    "logger = logging.getLogger()"
   ]
  },
  {
   "cell_type": "code",
   "execution_count": null,
   "metadata": {},
   "outputs": [],
   "source": [
    "# export \n",
    "\n",
    "def get_parser():\n",
    "    parser = argparse.ArgumentParser(\n",
    "        description=\"Tool for converting datasets in COCO format between different formats\"\n",
    "    )\n",
    "    subparsers = parser.add_subparsers(help='mode')\n",
    "    parser_convert = subparsers.add_parser('a', help='a help')\n",
    "\n",
    "    parser.add_argument(\"--in_json_path\", type=Path, required=True)\n",
    "    parser.add_argument(\"--in_crop_tree_path\", type=Path)\n",
    "    parser.add_argument(\"--out_path\", type=Path, required=True)\n",
    "    parser.add_argument(\"--out_format\", choice=['json_file', 'json_tree', 'crop_tree'], required=True)\n",
    "    parser.add_argument(\"--overwrite\", action='store_true')\n",
    "    return parser\n"
   ]
  },
  {
   "cell_type": "code",
   "execution_count": null,
   "metadata": {},
   "outputs": [],
   "source": [
    "# export\n",
    "\n",
    "def main(args):\n",
    "    logger.info(f'Arguments: {args}')\n",
    "    in_json_path = args.in_json_path\n",
    "    in_crop_tree_path = args.in_crop_tree_path\n",
    "    \n",
    "    out_path = args.out_path\n",
    "    out_format = args.out_format\n",
    "    overwrite = args.overwrite\n",
    "    \n",
    "    if in_crop_tree and out_format == 'crop_tree':\n",
    "        raise ValueError('Incompatible options: --in_crop_tree=... '\n",
    "                         'and --out_format=crop_tree')\n",
    "    \n",
    "    coco = None\n",
    "    if in_json_path.is_file():\n",
    "        ext = in_json_path.suffix\n",
    "        if ext != '.json':\n",
    "            raise ValueError(f'Expect .json file as input, got: {in_json_path}')\n",
    "        coco = load_json_file(in_json_path)\n",
    "    elif in_json_path.is_dir():\n",
    "        coco = load_json_tree(in_json_tree)\n",
    "    \n",
    "    if coco is None:\n",
    "        raise ValueError(f'Neither json file nor json tree found in path: {in_json_path}')\n",
    "    \n",
    "    if in_crop_tree:\n",
    "        coco = load_crop_tree(in_crop_tree_path, coco)\n",
    "    \n",
    "    if out_format == 'json_file':\n",
    "        dump_fun = dump_json_file\n",
    "    elif out_format == 'json_tree':\n",
    "        dump_fun = dump_json_tree\n",
    "    elif out_format == 'crop_tree':\n",
    "        dump_fun = dump_crop_tree\n",
    "    else:\n",
    "        raise ValueError(out_format)\n",
    "    dump_fun(coco, out_path, skip_nulls=True, overwrite=overwrite)\n",
    "    \n",
    "    logger.info(f'[+] Success: see {out_path}: {list(out_path.iterdir())}')"
   ]
  },
  {
   "cell_type": "code",
   "execution_count": null,
   "metadata": {},
   "outputs": [],
   "source": []
  }
 ],
 "metadata": {
  "kernelspec": {
   "display_name": "Python 3",
   "language": "python",
   "name": "python3"
  }
 },
 "nbformat": 4,
 "nbformat_minor": 2
}
