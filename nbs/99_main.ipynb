{
 "cells": [
  {
   "cell_type": "code",
   "execution_count": null,
   "metadata": {},
   "outputs": [],
   "source": [
    "# default_exp main"
   ]
  },
  {
   "cell_type": "code",
   "execution_count": null,
   "metadata": {},
   "outputs": [],
   "source": [
    "# export\n",
    "\n",
    "import argparse\n",
    "import logging\n",
    "from pathlib import Path\n",
    "\n",
    "from cococleaner.coco import merge_datasets\n",
    "from cococleaner.json_file import *\n",
    "from cococleaner.json_tree import *\n",
    "from cococleaner.crop_tree import *\n",
    "\n",
    "logging.basicConfig(level=logging.INFO, format='%(levelname)s: %(message)s')\n",
    "logger = logging.getLogger()"
   ]
  },
  {
   "cell_type": "code",
   "execution_count": null,
   "metadata": {},
   "outputs": [],
   "source": [
    "# export\n",
    "\n",
    "def get_parser():\n",
    "    parser = argparse.ArgumentParser(\n",
    "        description=\"Tool for converting datasets in COCO format between different formats\"\n",
    "    )\n",
    "    parser.add_argument(\"--in_json_trees\", type=Path, nargs=\"*\", default=[])\n",
    "    parser.add_argument(\"--in_json_files\", type=Path, nargs=\"*\", default=[])\n",
    "    parser.add_argument(\"--in_crop_tree\", type=Path)\n",
    "    \n",
    "    parser.add_argument(\"--out_path\", type=Path, required=True)\n",
    "    parser.add_argument(\"--out_format\", choices=['json_file', 'json_tree', 'crop_tree'], required=True)\n",
    "    \n",
    "    parser.add_argument(\"--overwrite\", action='store_true')\n",
    "    parser.add_argument(\"--indent\", default=4,\n",
    "                        type=lambda x: int(x) if str(x).lower() not in ('none', 'null', '~') else None)\n",
    "    parser.add_argument(\"--debug\", action='store_true')\n",
    "    \n",
    "    return parser\n"
   ]
  },
  {
   "cell_type": "code",
   "execution_count": null,
   "metadata": {},
   "outputs": [],
   "source": [
    "# export\n",
    "\n",
    "def main(args=None):\n",
    "    args = args or get_parser().parse_args()\n",
    "    \n",
    "    if args.debug:\n",
    "        logging.getLogger().setLevel(logging.DEBUG)\n",
    "    \n",
    "    logger.info(f'Arguments: {args}')\n",
    "\n",
    "    in_json_trees = args.in_json_trees\n",
    "    in_json_files = args.in_json_files\n",
    "    in_crop_tree = args.in_crop_tree\n",
    "    \n",
    "    out_path = args.out_path\n",
    "    out_format = args.out_format\n",
    "    overwrite = args.overwrite\n",
    "    indent = args.indent\n",
    "    \n",
    "    coco = None\n",
    "    for in_json_tree in in_json_trees:\n",
    "        coco = merge_datasets(coco, load_json_tree(in_json_tree))\n",
    "    for in_json_file in in_json_files:\n",
    "        coco = merge_datasets(coco, load_json_file(in_json_file))\n",
    "    \n",
    "    if coco is None:\n",
    "        raise ValueError(f'Not found base dataset, please specify either of: '\n",
    "                         '--in_json_trees / --in_json_files')\n",
    "    \n",
    "    if in_crop_tree:\n",
    "        coco_merged = load_crop_tree(in_crop_tree, coco)\n",
    "        coco = coco_merged\n",
    "\n",
    "    if out_format == 'json_file':\n",
    "        dump_fun = dump_json_file\n",
    "    elif out_format == 'json_tree':\n",
    "        dump_fun = dump_json_tree\n",
    "    elif out_format == 'crop_tree':\n",
    "        dump_fun = dump_crop_tree\n",
    "    else:\n",
    "        raise ValueError(out_format)\n",
    "    dump_fun(coco, out_path, skip_nulls=True, overwrite=overwrite, indent=indent)\n",
    "    \n",
    "    details = f': {[p.name for p in out_path.iterdir()]}' if out_path.is_dir() else ''\n",
    "    logger.info(f'[+] Success: {out_format} dumped to {out_path}' + details)"
   ]
  },
  {
   "cell_type": "code",
   "execution_count": null,
   "metadata": {},
   "outputs": [],
   "source": [
    "# To test below, you need to do:\n",
    "# $ cd <project root>\n",
    "# $ make build\n",
    "# $ pip install -e .\n",
    "# reload current notebook kernel"
   ]
  },
  {
   "cell_type": "code",
   "execution_count": null,
   "metadata": {},
   "outputs": [
    {
     "name": "stdout",
     "output_type": "stream",
     "text": [
      "INFO: Arguments: Namespace(debug=False, in_crop_tree=None, in_json_files=[PosixPath('../examples/coco_chunk/json_file/instances_train2017_chunk3x2.json')], in_json_trees=[], indent=4, out_format='json_tree', out_path=PosixPath('/tmp/cococo/json_tree'), overwrite=True)\r\n",
      "INFO: Loading json file from file: ../examples/coco_chunk/json_file/instances_train2017_chunk3x2.json\r\n",
      "INFO: Loaded: images=6, annotations=6, categories=3\r\n",
      "INFO: Dumping json tree to dir: /tmp/cococo/json_tree\r\n",
      "INFO: [+] Success: json_tree dumped to /tmp/cococo/json_tree: ['info.json', 'info', 'categories', 'annotations', 'licenses', 'images']\r\n"
     ]
    }
   ],
   "source": [
    "# json_file -> json_tree\n",
    "\n",
    "! rm -rf /tmp/cococo/json_tree\n",
    "! cococleaner \\\n",
    "    --in_json_files ../examples/coco_chunk/json_file/instances_train2017_chunk3x2.json \\\n",
    "    --out_path /tmp/cococo/json_tree \\\n",
    "    --out_format json_tree \\\n",
    "    --overwrite"
   ]
  },
  {
   "cell_type": "code",
   "execution_count": null,
   "metadata": {},
   "outputs": [
    {
     "name": "stdout",
     "output_type": "stream",
     "text": [
      "INFO: Arguments: Namespace(debug=False, in_crop_tree=None, in_json_files=[], in_json_trees=[PosixPath('../examples/coco_chunk/json_tree')], indent=None, out_format='json_file', out_path=PosixPath('/tmp/cococo/json_file/annotations.json'), overwrite=False)\r\n",
      "INFO: Loading json tree from dir: ../examples/coco_chunk/json_tree\r\n",
      "INFO: Dumping json file to file: /tmp/cococo/json_file/annotations.json\r\n",
      "INFO: Writing dataset to json file: /tmp/cococo/json_file/annotations.json\r\n",
      "INFO: [+] Success: json_file dumped to /tmp/cococo/json_file/annotations.json\r\n"
     ]
    }
   ],
   "source": [
    "# json_tree -> json_file\n",
    "\n",
    "! rm -rf /tmp/cococo/json_file\n",
    "! cococleaner \\\n",
    "    --in_json_trees ../examples/coco_chunk/json_tree \\\n",
    "    --out_path /tmp/cococo/json_file/annotations.json \\\n",
    "    --out_format json_file \\\n",
    "    --indent=None"
   ]
  },
  {
   "cell_type": "code",
   "execution_count": null,
   "metadata": {},
   "outputs": [
    {
     "name": "stdout",
     "output_type": "stream",
     "text": [
      "INFO: Arguments: Namespace(debug=False, in_crop_tree=None, in_json_files=[PosixPath('../examples/coco_chunk/json_file/instances_train2017_chunk3x2.json')], in_json_trees=[], indent=4, out_format='crop_tree', out_path=PosixPath('/tmp/cococo/crop_tree'), overwrite=True)\n",
      "INFO: Loading json file from file: ../examples/coco_chunk/json_file/instances_train2017_chunk3x2.json\n",
      "INFO: Loaded: images=6, annotations=6, categories=3\n",
      "INFO: Dumping crop tree to dir: /tmp/cococo/crop_tree\n",
      "Processing images: 100%|██████████████████████████| 6/6 [00:03<00:00,  1.53it/s]\n",
      "INFO: [+] Success: crop_tree dumped to /tmp/cococo/crop_tree: ['crops', 'images']\n"
     ]
    }
   ],
   "source": [
    "# json_file -> crop_tree\n",
    "\n",
    "! rm -rf /tmp/cococo/crop_tree\n",
    "! cococleaner \\\n",
    "    --in_json_files ../examples/coco_chunk/json_file/instances_train2017_chunk3x2.json \\\n",
    "    --out_path /tmp/cococo/crop_tree \\\n",
    "    --out_format crop_tree \\\n",
    "    --overwrite"
   ]
  },
  {
   "cell_type": "code",
   "execution_count": null,
   "metadata": {},
   "outputs": [
    {
     "data": {
      "text/plain": [
       "'bicycle--2'"
      ]
     },
     "execution_count": null,
     "metadata": {},
     "output_type": "execute_result"
    }
   ],
   "source": [
    "cats = !ls /tmp/cococo/crop_tree/crops\n",
    "cat = cats[0]\n",
    "cat"
   ]
  },
  {
   "cell_type": "code",
   "execution_count": null,
   "metadata": {},
   "outputs": [],
   "source": [
    "# modify crop_tree"
   ]
  },
  {
   "cell_type": "code",
   "execution_count": null,
   "metadata": {},
   "outputs": [
    {
     "data": {
      "text/plain": [
       "'124710.png'"
      ]
     },
     "execution_count": null,
     "metadata": {},
     "output_type": "execute_result"
    }
   ],
   "source": [
    "crops = !ls /tmp/cococo/crop_tree/crops/{cat}\n",
    "deleted_crop = crops[0]\n",
    "deleted_crop"
   ]
  },
  {
   "cell_type": "code",
   "execution_count": null,
   "metadata": {},
   "outputs": [
    {
     "name": "stdout",
     "output_type": "stream",
     "text": [
      "124710.png  124713.png\n",
      "124713.png\n"
     ]
    }
   ],
   "source": [
    "! ls /tmp/cococo/crop_tree/crops/{cat}\n",
    "! rm /tmp/cococo/crop_tree/crops/{cat}/{deleted_crop}\n",
    "! ls /tmp/cococo/crop_tree/crops/{cat}"
   ]
  },
  {
   "cell_type": "code",
   "execution_count": null,
   "metadata": {},
   "outputs": [
    {
     "name": "stdout",
     "output_type": "stream",
     "text": [
      "INFO: Arguments: Namespace(debug=False, in_crop_tree=PosixPath('/tmp/cococo/crop_tree'), in_json_files=[PosixPath('../examples/coco_chunk/json_file/instances_train2017_chunk3x2.json')], in_json_trees=[], indent=4, out_format='json_tree', out_path=PosixPath('/tmp/cococo/json_tree_2'), overwrite=False)\n",
      "INFO: Loading json file from file: ../examples/coco_chunk/json_file/instances_train2017_chunk3x2.json\n",
      "INFO: Loaded: images=6, annotations=6, categories=3\n",
      "INFO: Loading blob list from dir: /tmp/cococo/crop_tree\n",
      "INFO: Loaded crop tree: len(annotations)=5 len(images)=5 len(categories)=3\n",
      "INFO: Dumping json tree to dir: /tmp/cococo/json_tree_2\n",
      "Traceback (most recent call last):\n",
      "  File \"/home/ay/.pyenv/versions/3.7.6/bin/cococleaner\", line 33, in <module>\n",
      "    sys.exit(load_entry_point('cococleaner', 'console_scripts', 'cococleaner')())\n",
      "  File \"/plain/github/nm/cococleaner/cococleaner/main.py\", line 81, in main\n",
      "    dump_fun(coco, out_path, skip_nulls=True, overwrite=overwrite, indent=indent)\n",
      "  File \"/plain/github/nm/cococleaner/cococleaner/json_tree.py\", line 78, in dump_json_tree\n",
      "    raise ValueError(f\"Destination json tree dir already exists: {target_dir}\")\n",
      "ValueError: Destination json tree dir already exists: /tmp/cococo/json_tree_2\n",
      "[+] File successfully not exists\n"
     ]
    }
   ],
   "source": [
    "# json_file + crop_tree (modified) -> json_tree\n",
    "\n",
    "! rm -rf /tmp/json_tree_2\n",
    "! cococleaner \\\n",
    "    --in_json_files ../examples/coco_chunk/json_file/instances_train2017_chunk3x2.json \\\n",
    "    --in_crop_tree /tmp/cococo/crop_tree \\\n",
    "    --out_path /tmp/cococo/json_tree_2 \\\n",
    "    --out_format json_tree\n",
    "\n",
    "! [ ! -f {TMP2}/annotations/{deleted_crop} ] && echo \"[+] File successfully not exists\""
   ]
  },
  {
   "cell_type": "code",
   "execution_count": null,
   "metadata": {},
   "outputs": [
    {
     "name": "stdout",
     "output_type": "stream",
     "text": [
      "INFO: Arguments: Namespace(debug=False, in_crop_tree=PosixPath('/tmp/cococo/crop_tree'), in_json_files=[], in_json_trees=[PosixPath('/tmp/cococo/json_tree_2')], indent=4, out_format='crop_tree', out_path=PosixPath('/tmp/cococo/crop_tree_2'), overwrite=False)\n",
      "INFO: Loading json tree from dir: /tmp/cococo/json_tree_2\n",
      "INFO: Loading blob list from dir: /tmp/cococo/crop_tree\n",
      "INFO: Loaded crop tree: len(annotations)=5 len(images)=5 len(categories)=3\n",
      "INFO: Dumping crop tree to dir: /tmp/cococo/crop_tree_2\n",
      "Processing images: 100%|██████████████████████████| 5/5 [00:04<00:00,  1.20it/s]\n",
      "INFO: [+] Success: crop_tree dumped to /tmp/cococo/crop_tree_2: ['crops', 'images']\n",
      "crops\n"
     ]
    }
   ],
   "source": [
    "# json_tree + crop_tree -> crop_tree\n",
    "\n",
    "! rm -rf /tmp/cococo/crop_tree_2\n",
    "! cococleaner \\\n",
    "    --in_json_trees /tmp/cococo/json_tree_2 \\\n",
    "    --in_crop_tree /tmp/cococo/crop_tree \\\n",
    "    --out_path /tmp/cococo/crop_tree_2 \\\n",
    "    --out_format crop_tree\n",
    "! ls /tmp/cococo/crop_tree_2 | grep crops"
   ]
  },
  {
   "cell_type": "code",
   "execution_count": null,
   "metadata": {},
   "outputs": [
    {
     "name": "stdout",
     "output_type": "stream",
     "text": [
      "INFO: Arguments: Namespace(debug=False, in_crop_tree=PosixPath('/tmp/cococo/crop_tree'), in_json_files=[], in_json_trees=[PosixPath('/tmp/cococo/json_tree_2')], indent=4, out_format='json_file', out_path=PosixPath('/tmp/cococo/json_file_2/annotations.json'), overwrite=False)\n",
      "INFO: Loading json tree from dir: /tmp/cococo/json_tree_2\n",
      "INFO: Loading blob list from dir: /tmp/cococo/crop_tree\n",
      "INFO: Loaded crop tree: len(annotations)=5 len(images)=5 len(categories)=3\n",
      "INFO: Dumping json file to file: /tmp/cococo/json_file_2/annotations.json\n",
      "INFO: Writing dataset to json file: /tmp/cococo/json_file_2/annotations.json\n",
      "INFO: [+] Success: json_file dumped to /tmp/cococo/json_file_2/annotations.json\n",
      "/tmp/cococo/json_file_2/annotations.json\n"
     ]
    }
   ],
   "source": [
    "# json_tree + crop_tree -> json_file\n",
    "\n",
    "! rm -rf /tmp/cococo/json_file_2\n",
    "! cococleaner \\\n",
    "    --in_json_trees /tmp/cococo/json_tree_2 \\\n",
    "    --in_crop_tree /tmp/cococo/crop_tree \\\n",
    "    --out_path /tmp/cococo/json_file_2/annotations.json \\\n",
    "    --out_format json_file\n",
    "\n",
    "! ls /tmp/cococo/json_file_2/annotations.json"
   ]
  },
  {
   "cell_type": "code",
   "execution_count": null,
   "metadata": {},
   "outputs": [
    {
     "name": "stdout",
     "output_type": "stream",
     "text": [
      "INFO: Arguments: Namespace(debug=False, in_crop_tree=None, in_json_files=[PosixPath('/tmp/cococo/json_file/annotations.json')], in_json_trees=[PosixPath('/tmp/cococo/json_tree_2')], indent=4, out_format='json_file', out_path=PosixPath('/tmp/cococo/json_file_3/annotations.json'), overwrite=True)\r\n",
      "INFO: Loading json tree from dir: /tmp/cococo/json_tree_2\r\n",
      "INFO: Loading json file from file: /tmp/cococo/json_file/annotations.json\r\n",
      "INFO: Loaded: images=6, annotations=6, categories=3\r\n",
      "INFO: Dumping json file to file: /tmp/cococo/json_file_3/annotations.json\r\n",
      "INFO: Writing dataset to json file: /tmp/cococo/json_file_3/annotations.json\r\n",
      "INFO: [+] Success: json_file dumped to /tmp/cococo/json_file_3/annotations.json\r\n"
     ]
    }
   ],
   "source": [
    "# json_tree + json_file + crop_tree -> json_tree\n",
    "\n",
    "! rm -rf /tmp/cococo/json_file_3/\n",
    "! cococleaner \\\n",
    "    --in_json_trees /tmp/cococo/json_tree_2 \\\n",
    "    --in_json_files /tmp/cococo/json_file/annotations.json \\\n",
    "    --out_path /tmp/cococo/json_file_3/annotations.json \\\n",
    "    --out_format json_file \\\n",
    "    --overwrite\n"
   ]
  },
  {
   "cell_type": "code",
   "execution_count": null,
   "metadata": {},
   "outputs": [],
   "source": []
  }
 ],
 "metadata": {
  "kernelspec": {
   "display_name": "Python 3",
   "language": "python",
   "name": "python3"
  }
 },
 "nbformat": 4,
 "nbformat_minor": 2
}
