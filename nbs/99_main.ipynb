{
 "cells": [
  {
   "cell_type": "code",
   "execution_count": null,
   "metadata": {},
   "outputs": [],
   "source": [
    "# default_exp main"
   ]
  },
  {
   "cell_type": "code",
   "execution_count": null,
   "metadata": {},
   "outputs": [],
   "source": [
    "# export\n",
    "\n",
    "import argparse\n",
    "import logging\n",
    "from pathlib import Path\n",
    "\n",
    "from cococleaner.json_file import *\n",
    "from cococleaner.json_tree import *\n",
    "from cococleaner.crop_tree import *\n",
    "\n",
    "logging.basicConfig(level=logging.INFO)\n",
    "logger = logging.getLogger()"
   ]
  },
  {
   "cell_type": "code",
   "execution_count": null,
   "metadata": {},
   "outputs": [],
   "source": [
    "# export \n",
    "\n",
    "def get_parser():\n",
    "    parser = argparse.ArgumentParser(\n",
    "        description=\"Tool for converting datasets in COCO format between different formats\"\n",
    "    )\n",
    "\n",
    "    parser.add_argument(\"--in_json_path\", type=Path, required=True)\n",
    "    parser.add_argument(\"--in_crop_tree_path\", type=Path)\n",
    "    parser.add_argument(\"--out_path\", type=Path, required=True)\n",
    "    parser.add_argument(\"--out_format\", choices=['json_file', 'json_tree', 'crop_tree'], required=True)\n",
    "    parser.add_argument(\"--overwrite\", action='store_true')\n",
    "    return parser\n"
   ]
  },
  {
   "cell_type": "code",
   "execution_count": null,
   "metadata": {},
   "outputs": [],
   "source": [
    "# export\n",
    "\n",
    "def main(args=None):\n",
    "    args = args or get_parser().parse_args()\n",
    "    logger.info(f'Arguments: {args}')\n",
    "    in_json_path = args.in_json_path\n",
    "    in_crop_tree_path = args.in_crop_tree_path\n",
    "    \n",
    "    out_path = args.out_path\n",
    "    out_format = args.out_format\n",
    "    overwrite = args.overwrite\n",
    "    \n",
    "    if in_crop_tree_path and out_format == 'crop_tree':\n",
    "        raise ValueError('Incompatible options: --in_crop_tree_path=... '\n",
    "                         'and --out_format=crop_tree')\n",
    "    \n",
    "    coco = None\n",
    "    if in_json_path.is_file():\n",
    "        ext = in_json_path.suffix\n",
    "        if ext != '.json':\n",
    "            raise ValueError(f'Expect .json file as input, got: {in_json_path}')\n",
    "        coco = load_json_file(in_json_path)\n",
    "    elif in_json_path.is_dir():\n",
    "        coco = load_json_tree(in_json_path)\n",
    "    \n",
    "    if coco is None:\n",
    "        raise ValueError(f'Neither json file nor json tree found in path: {in_json_path}')\n",
    "    \n",
    "    if in_crop_tree_path:\n",
    "        coco = load_crop_tree(in_crop_tree_path, coco)\n",
    "    \n",
    "    if out_format == 'json_file':\n",
    "        dump_fun = dump_json_file\n",
    "    elif out_format == 'json_tree':\n",
    "        dump_fun = dump_json_tree\n",
    "    elif out_format == 'crop_tree':\n",
    "        dump_fun = dump_crop_tree\n",
    "    else:\n",
    "        raise ValueError(out_format)\n",
    "    dump_fun(coco, out_path, skip_nulls=True, overwrite=overwrite)\n",
    "    \n",
    "    logger.info(f'[+] Success: {out_format} dumped to {out_path}: '\n",
    "                f'{[p.name for p in out_path.iterdir()]}')"
   ]
  },
  {
   "cell_type": "code",
   "execution_count": null,
   "metadata": {},
   "outputs": [
    {
     "name": "stdout",
     "output_type": "stream",
     "text": [
      "INFO:root:Arguments: Namespace(in_crop_tree_path=None, in_json_path=PosixPath('../examples/coco_chunk/json_file/instances_train2017_chunk3x2.json'), out_format='json_tree', out_path=PosixPath('/tmp/tmp.CsaX2FKhsA'), overwrite=True)\n",
      "INFO:root:Loading json file from file: ../examples/coco_chunk/json_file/instances_train2017_chunk3x2.json\n",
      "INFO:root:Loaded: images=6, annotations=6, categories=3\n",
      "INFO:root:Dumping json tree to dir: /tmp/tmp.CsaX2FKhsA\n",
      "WARNING:root:Destination dir exists and will be overwritten: /tmp/tmp.CsaX2FKhsA\n",
      "INFO:root:Deleting old target tree directory /tmp/tmp.CsaX2FKhsA\n",
      "DEBUG:root:Written 6 elements to /tmp/tmp.CsaX2FKhsA/images\n",
      "DEBUG:root:Written 8 elements to /tmp/tmp.CsaX2FKhsA/licenses\n",
      "DEBUG:root:Written 6 elements to /tmp/tmp.CsaX2FKhsA/annotations\n",
      "DEBUG:root:Written 3 elements to /tmp/tmp.CsaX2FKhsA/categories\n",
      "DEBUG:root:Written single element to /tmp/tmp.CsaX2FKhsA/info\n",
      "INFO:root:[+] Success: json_tree dumped to /tmp/tmp.CsaX2FKhsA: ['info.json', 'info', 'categories', 'annotations', 'licenses', 'images']\n"
     ]
    }
   ],
   "source": [
    "! cococleaner \\\n",
    "    --in_json_path ../examples/coco_chunk/json_file/instances_train2017_chunk3x2.json \\\n",
    "    --out_path $(mktemp -d) \\\n",
    "    --out_format json_tree \\\n",
    "    --overwrite"
   ]
  },
  {
   "cell_type": "code",
   "execution_count": null,
   "metadata": {},
   "outputs": [
    {
     "name": "stdout",
     "output_type": "stream",
     "text": [
      "INFO:root:Arguments: Namespace(in_crop_tree_path=None, in_json_path=PosixPath('../examples/coco_chunk/json_tree'), out_format='json_tree', out_path=PosixPath('/tmp/tmp.WiC8talkFw'), overwrite=True)\r\n",
      "INFO:root:Loading json tree from dir: ../examples/coco_chunk/json_tree\r\n",
      "DEBUG:root:Loaded 6 json chunks from ../examples/coco_chunk/json_tree/images\r\n",
      "DEBUG:root:Loaded 8 json chunks from ../examples/coco_chunk/json_tree/licenses\r\n",
      "DEBUG:root:Loaded 6 json chunks from ../examples/coco_chunk/json_tree/annotations\r\n",
      "DEBUG:root:Loaded 3 json chunks from ../examples/coco_chunk/json_tree/categories\r\n",
      "DEBUG:root:Loaded single-file 3 json chunk ../examples/coco_chunk/json_tree/categories\r\n",
      "INFO:root:Dumping json tree to dir: /tmp/tmp.WiC8talkFw\r\n",
      "WARNING:root:Destination dir exists and will be overwritten: /tmp/tmp.WiC8talkFw\r\n",
      "INFO:root:Deleting old target tree directory /tmp/tmp.WiC8talkFw\r\n",
      "DEBUG:root:Written 6 elements to /tmp/tmp.WiC8talkFw/images\r\n",
      "DEBUG:root:Written 8 elements to /tmp/tmp.WiC8talkFw/licenses\r\n",
      "DEBUG:root:Written 6 elements to /tmp/tmp.WiC8talkFw/annotations\r\n",
      "DEBUG:root:Written 3 elements to /tmp/tmp.WiC8talkFw/categories\r\n",
      "DEBUG:root:Written single element to /tmp/tmp.WiC8talkFw/info\r\n",
      "INFO:root:[+] Success: json_tree dumped to /tmp/tmp.WiC8talkFw: ['info.json', 'info', 'categories', 'annotations', 'licenses', 'images']\r\n"
     ]
    }
   ],
   "source": [
    "! cococleaner \\\n",
    "    --in_json_path ../examples/coco_chunk/json_tree \\\n",
    "    --out_path $(mktemp -d) \\\n",
    "    --out_format json_tree \\\n",
    "    --overwrite"
   ]
  },
  {
   "cell_type": "code",
   "execution_count": null,
   "metadata": {},
   "outputs": [
    {
     "name": "stdout",
     "output_type": "stream",
     "text": [
      "INFO:root:Arguments: Namespace(in_crop_tree_path=None, in_json_path=PosixPath('../examples/coco_chunk/json_file/instances_train2017_chunk3x2.json'), out_format='crop_tree', out_path=PosixPath('/tmp/tmp.96iXXQ4rjj'), overwrite=True)\n",
      "INFO:root:Loading json file from file: ../examples/coco_chunk/json_file/instances_train2017_chunk3x2.json\n",
      "INFO:root:Loaded: images=6, annotations=6, categories=3\n",
      "INFO:root:Dumping crop tree to dir: /tmp/tmp.96iXXQ4rjj\n",
      "WARNING:root:Destination and will be overwritten: /tmp/tmp.96iXXQ4rjj\n",
      "INFO:root:Deleting old target directory /tmp/tmp.96iXXQ4rjj\n",
      "Processing images: 100%|██████████████████████████| 6/6 [00:05<00:00,  1.15it/s]\n",
      "INFO:root:[+] Success: crop_tree dumped to /tmp/tmp.96iXXQ4rjj: ['crops', 'images']\n"
     ]
    }
   ],
   "source": [
    "TMP = !mktemp -d\n",
    "TMP = TMP[0]\n",
    "! cococleaner \\\n",
    "    --in_json_path ../examples/coco_chunk/json_file/instances_train2017_chunk3x2.json \\\n",
    "    --out_path {TMP} \\\n",
    "    --out_format crop_tree \\\n",
    "    --overwrite"
   ]
  },
  {
   "cell_type": "code",
   "execution_count": null,
   "metadata": {},
   "outputs": [
    {
     "data": {
      "text/plain": [
       "'bicycle--2'"
      ]
     },
     "execution_count": null,
     "metadata": {},
     "output_type": "execute_result"
    }
   ],
   "source": [
    "cats = !ls {TMP}/crops\n",
    "cat = cats[0]\n",
    "cat"
   ]
  },
  {
   "cell_type": "code",
   "execution_count": null,
   "metadata": {},
   "outputs": [
    {
     "data": {
      "text/plain": [
       "'124713.png'"
      ]
     },
     "execution_count": null,
     "metadata": {},
     "output_type": "execute_result"
    }
   ],
   "source": [
    "crops = !ls {TMP}/crops/{cat}\n",
    "deleted_crop = crops[0]\n",
    "deleted_crop"
   ]
  },
  {
   "cell_type": "code",
   "execution_count": null,
   "metadata": {},
   "outputs": [],
   "source": [
    "! rm {TMP}/crops/{cat}/{deleted_crop}\n",
    "! ls {TMP}/crops/{cat}"
   ]
  },
  {
   "cell_type": "code",
   "execution_count": null,
   "metadata": {},
   "outputs": [
    {
     "name": "stdout",
     "output_type": "stream",
     "text": [
      "INFO:root:Arguments: Namespace(in_crop_tree_path=PosixPath('/tmp/tmp.96iXXQ4rjj'), in_json_path=PosixPath('../examples/coco_chunk/json_file/instances_train2017_chunk3x2.json'), out_format='json_tree', out_path=PosixPath('/tmp/tmp.LQfBh6qqKC'), overwrite=False)\n",
      "INFO:root:Loading json file from file: ../examples/coco_chunk/json_file/instances_train2017_chunk3x2.json\n",
      "INFO:root:Loaded: images=6, annotations=6, categories=3\n",
      "INFO:root:Loading blob list from dir: /tmp/tmp.96iXXQ4rjj\n",
      "DEBUG:root:Loaded 2 crops from: /tmp/tmp.96iXXQ4rjj/crops/person--1\n",
      "DEBUG:root:Loaded 2 crops from: /tmp/tmp.96iXXQ4rjj/crops/car--3\n",
      "DEBUG:root:Loaded 2 crops from: /tmp/tmp.96iXXQ4rjj/crops/bicycle--2\n",
      "INFO:root:Loaded crop tree: len(annotations)=4 len(images)=4 len(categories)=2\n",
      "INFO:root:Dumping json tree to dir: /tmp/tmp.LQfBh6qqKC\n",
      "DEBUG:root:Written 4 elements to /tmp/tmp.LQfBh6qqKC/images\n",
      "DEBUG:root:Written 8 elements to /tmp/tmp.LQfBh6qqKC/licenses\n",
      "DEBUG:root:Written 4 elements to /tmp/tmp.LQfBh6qqKC/annotations\n",
      "DEBUG:root:Written 2 elements to /tmp/tmp.LQfBh6qqKC/categories\n",
      "DEBUG:root:Written single element to /tmp/tmp.LQfBh6qqKC/info\n",
      "INFO:root:[+] Success: json_tree dumped to /tmp/tmp.LQfBh6qqKC: ['info.json', 'info', 'categories', 'annotations', 'licenses', 'images']\n",
      "ls: cannot access '/tmp/tmp.LQfBh6qqKC/annotations/124713.png': No such file or directory\n",
      "File successfully not exists\n"
     ]
    }
   ],
   "source": [
    "TMP2 = !mktemp -d\n",
    "TMP2 = TMP2[0]\n",
    "\n",
    "! rmdir {TMP2}\n",
    "! cococleaner \\\n",
    "    --in_json_path ../examples/coco_chunk/json_file/instances_train2017_chunk3x2.json \\\n",
    "    --in_crop_tree_path {TMP} \\\n",
    "    --out_path {TMP2} \\\n",
    "    --out_format json_tree\n",
    "\n",
    "! ls {TMP2}/annotations/{deleted_crop} || echo \"File successfully not exists\""
   ]
  },
  {
   "cell_type": "code",
   "execution_count": null,
   "metadata": {},
   "outputs": [],
   "source": []
  }
 ],
 "metadata": {
  "kernelspec": {
   "display_name": "Python 3",
   "language": "python",
   "name": "python3"
  }
 },
 "nbformat": 4,
 "nbformat_minor": 2
}
