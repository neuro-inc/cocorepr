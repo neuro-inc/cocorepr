{
 "cells": [
  {
   "cell_type": "code",
   "execution_count": null,
   "metadata": {},
   "outputs": [],
   "source": [
    "# default_exp json_file"
   ]
  },
  {
   "cell_type": "code",
   "execution_count": null,
   "metadata": {},
   "outputs": [],
   "source": [
    "# export\n",
    "\n",
    "import logging\n",
    "from dataclasses import dataclass\n",
    "from typing import *\n",
    "from pathlib import Path\n",
    "import json\n",
    "\n",
    "from cococleaner.utils import sort_dict\n",
    "from cococleaner.coco import *\n",
    "\n",
    "logger = logging.getLogger()"
   ]
  },
  {
   "cell_type": "code",
   "execution_count": null,
   "metadata": {},
   "outputs": [],
   "source": [
    "#export\n",
    "\n",
    "def load_json_file(annotations_json: Union[str, Path], *, kind: str = \"object_detection\") -> CocoDataset:\n",
    "    from_dict_function = get_dataset_class(kind).from_dict\n",
    "\n",
    "    annotations_json = Path(annotations_json)\n",
    "    logger.info(f\"Loading json file from file: {annotations_json}\")\n",
    "    D = json.loads(annotations_json.read_text())\n",
    "    logger.info(\n",
    "        f\"Loaded: images={len(D['images'])}, \"\n",
    "        f\"annotations={len(D['annotations'])}, \"\n",
    "        f\"categories={len(D['categories'])}\"\n",
    "    )\n",
    "    return from_dict_function(D)\n"
   ]
  },
  {
   "cell_type": "code",
   "execution_count": null,
   "metadata": {},
   "outputs": [
    {
     "name": "stderr",
     "output_type": "stream",
     "text": [
      "INFO:root:Loading json file from file: ../examples/coco-dataset/json.file/instances_train2017_chunk3x2.json\n",
      "INFO:root:Loaded: images=6, annotations=6, categories=3\n"
     ]
    },
    {
     "data": {
      "text/plain": [
       "CocoInfo(year=2017, version='1.0', description='COCO 2017 Dataset', contributor='COCO Consortium', url='http://cocodataset.org', date_created='2017/09/01')"
      ]
     },
     "metadata": {},
     "output_type": "display_data"
    },
    {
     "data": {
      "text/plain": [
       "CocoObjectDetectionAnnotation(id=124710, image_id=140006, category_id=2, bbox=(496.52, 125.94, 143.48, 113.54), supercategory=None, area=9387.706200000002, iscrowd=0)"
      ]
     },
     "metadata": {},
     "output_type": "display_data"
    },
    {
     "data": {
      "text/plain": [
       "CocoImage(id=49428, coco_url='http://images.cocodataset.org/train2017/000000049428.jpg', width=640, height=427, license=6, file_name='000000049428.jpg', flickr_url='http://farm7.staticflickr.com/6014/5923365195_bee5603371_z.jpg', date_captured='2013-11-15 04:30:29')"
      ]
     },
     "metadata": {},
     "output_type": "display_data"
    },
    {
     "data": {
      "text/plain": [
       "CocoObjectDetectionCategory(id=1, name='person', supercategory='person')"
      ]
     },
     "metadata": {},
     "output_type": "display_data"
    }
   ],
   "source": [
    "# hide\n",
    "PATH = '../examples/coco_chunk/json_file/instances_train2017_chunk3x2.json'\n",
    "d = load_json_file(PATH)\n",
    "  \n",
    "display(d.info)\n",
    "display(d.annotations[0])\n",
    "display(d.images[0])\n",
    "display(d.categories[0])\n",
    "\n",
    "assert isinstance(d.info, CocoInfo)\n",
    "assert isinstance(d.annotations[0], CocoObjectDetectionAnnotation)\n",
    "assert isinstance(d.images[0], CocoImage)\n",
    "assert isinstance(d.categories[0], CocoObjectDetectionCategory)"
   ]
  },
  {
   "cell_type": "code",
   "execution_count": null,
   "metadata": {},
   "outputs": [
    {
     "ename": "NameError",
     "evalue": "name 'CocoDataset' is not defined",
     "output_type": "error",
     "traceback": [
      "\u001b[0;31m---------------------------------------------------------------------------\u001b[0m",
      "\u001b[0;31mNameError\u001b[0m                                 Traceback (most recent call last)",
      "\u001b[0;32m<ipython-input-3-085c262c42e0>\u001b[0m in \u001b[0;36m<module>\u001b[0;34m\u001b[0m\n\u001b[1;32m      8\u001b[0m     \u001b[0mskip_nulls\u001b[0m\u001b[0;34m:\u001b[0m \u001b[0mbool\u001b[0m \u001b[0;34m=\u001b[0m \u001b[0;32mFalse\u001b[0m\u001b[0;34m,\u001b[0m\u001b[0;34m\u001b[0m\u001b[0;34m\u001b[0m\u001b[0m\n\u001b[1;32m      9\u001b[0m     \u001b[0moverwrite\u001b[0m\u001b[0;34m:\u001b[0m \u001b[0mbool\u001b[0m \u001b[0;34m=\u001b[0m \u001b[0;32mFalse\u001b[0m\u001b[0;34m,\u001b[0m\u001b[0;34m\u001b[0m\u001b[0;34m\u001b[0m\u001b[0m\n\u001b[0;32m---> 10\u001b[0;31m     \u001b[0mindent\u001b[0m\u001b[0;34m:\u001b[0m \u001b[0mOptional\u001b[0m\u001b[0;34m[\u001b[0m\u001b[0mint\u001b[0m\u001b[0;34m]\u001b[0m \u001b[0;34m=\u001b[0m \u001b[0;36m4\u001b[0m\u001b[0;34m,\u001b[0m\u001b[0;34m\u001b[0m\u001b[0;34m\u001b[0m\u001b[0m\n\u001b[0m\u001b[1;32m     11\u001b[0m ) -> None:\n\u001b[1;32m     12\u001b[0m     \u001b[0mdataset_class\u001b[0m \u001b[0;34m=\u001b[0m \u001b[0mget_dataset_class\u001b[0m\u001b[0;34m(\u001b[0m\u001b[0mkind\u001b[0m\u001b[0;34m)\u001b[0m\u001b[0;34m\u001b[0m\u001b[0;34m\u001b[0m\u001b[0m\n",
      "\u001b[0;31mNameError\u001b[0m: name 'CocoDataset' is not defined"
     ]
    }
   ],
   "source": [
    "# export\n",
    "\n",
    "def dump_json_file(\n",
    "    coco: CocoDataset, \n",
    "    annotations_json: Union[str, Path],\n",
    "    *,\n",
    "    kind: str = \"object_detection\",\n",
    "    skip_nulls: bool = False,\n",
    "    overwrite: bool = False,\n",
    "    indent: Optional[int] = 4,\n",
    ") -> None:\n",
    "    dataset_class = get_dataset_class(kind)\n",
    "    if skip_nulls:\n",
    "        to_dict_function = dataset_class.to_dict_skip_nulls\n",
    "    else:\n",
    "        to_dict_function = dataset_class.to_dict\n",
    "\n",
    "    annotations_json = Path(annotations_json)\n",
    "    logger.info(f\"Dumping json file to file: {annotations_json}\")\n",
    "    if annotations_json.is_file() and not overwrite:\n",
    "        raise ValueError(f\"Destination json file already exists: {annotations_json}\")\n",
    "    raw = sort_dict(to_dict_function(coco))\n",
    "    logger.info(f\"Writing dataset to json file: {annotations_json}\")\n",
    "    annotations_json.parent.mkdir(parents=True, exist_ok=True)\n",
    "    annotations_json.write_text(json.dumps(raw, indent=indent))\n"
   ]
  },
  {
   "cell_type": "code",
   "execution_count": null,
   "metadata": {},
   "outputs": [
    {
     "name": "stderr",
     "output_type": "stream",
     "text": [
      "INFO:root:Dumping json file to file: /tmp/tmpqnqdcnup\n",
      "INFO:root:Writing dataset to json file: /tmp/tmpqnqdcnup\n"
     ]
    },
    {
     "name": "stdout",
     "output_type": "stream",
     "text": [
      "\u001b[1;39m{\n",
      "  \u001b[0m\u001b[34;1m\"year\"\u001b[0m\u001b[1;39m: \u001b[0m\u001b[0;39m2017\u001b[0m\u001b[1;39m,\n",
      "  \u001b[0m\u001b[34;1m\"version\"\u001b[0m\u001b[1;39m: \u001b[0m\u001b[0;32m\"1.0\"\u001b[0m\u001b[1;39m,\n",
      "  \u001b[0m\u001b[34;1m\"description\"\u001b[0m\u001b[1;39m: \u001b[0m\u001b[0;32m\"COCO 2017 Dataset\"\u001b[0m\u001b[1;39m,\n",
      "  \u001b[0m\u001b[34;1m\"contributor\"\u001b[0m\u001b[1;39m: \u001b[0m\u001b[0;32m\"COCO Consortium\"\u001b[0m\u001b[1;39m,\n",
      "  \u001b[0m\u001b[34;1m\"url\"\u001b[0m\u001b[1;39m: \u001b[0m\u001b[0;32m\"http://cocodataset.org\"\u001b[0m\u001b[1;39m,\n",
      "  \u001b[0m\u001b[34;1m\"date_created\"\u001b[0m\u001b[1;39m: \u001b[0m\u001b[0;32m\"2017/09/01\"\u001b[0m\u001b[1;39m\n",
      "\u001b[1;39m}\u001b[0m\n",
      "\u001b[1;39m{\n",
      "  \u001b[0m\u001b[34;1m\"id\"\u001b[0m\u001b[1;39m: \u001b[0m\u001b[0;39m49428\u001b[0m\u001b[1;39m,\n",
      "  \u001b[0m\u001b[34;1m\"coco_url\"\u001b[0m\u001b[1;39m: \u001b[0m\u001b[0;32m\"http://images.cocodataset.org/train2017/000000049428.jpg\"\u001b[0m\u001b[1;39m,\n",
      "  \u001b[0m\u001b[34;1m\"width\"\u001b[0m\u001b[1;39m: \u001b[0m\u001b[0;39m640\u001b[0m\u001b[1;39m,\n",
      "  \u001b[0m\u001b[34;1m\"height\"\u001b[0m\u001b[1;39m: \u001b[0m\u001b[0;39m427\u001b[0m\u001b[1;39m,\n",
      "  \u001b[0m\u001b[34;1m\"license\"\u001b[0m\u001b[1;39m: \u001b[0m\u001b[0;39m6\u001b[0m\u001b[1;39m,\n",
      "  \u001b[0m\u001b[34;1m\"file_name\"\u001b[0m\u001b[1;39m: \u001b[0m\u001b[0;32m\"000000049428.jpg\"\u001b[0m\u001b[1;39m,\n",
      "  \u001b[0m\u001b[34;1m\"flickr_url\"\u001b[0m\u001b[1;39m: \u001b[0m\u001b[0;32m\"http://farm7.staticflickr.com/6014/5923365195_bee5603371_z.jpg\"\u001b[0m\u001b[1;39m,\n",
      "  \u001b[0m\u001b[34;1m\"date_captured\"\u001b[0m\u001b[1;39m: \u001b[0m\u001b[0;32m\"2013-11-15 04:30:29\"\u001b[0m\u001b[1;39m\n",
      "\u001b[1;39m}\u001b[0m\n",
      "\u001b[1;39m{\n",
      "  \u001b[0m\u001b[34;1m\"id\"\u001b[0m\u001b[1;39m: \u001b[0m\u001b[0;39m124710\u001b[0m\u001b[1;39m,\n",
      "  \u001b[0m\u001b[34;1m\"image_id\"\u001b[0m\u001b[1;39m: \u001b[0m\u001b[0;39m140006\u001b[0m\u001b[1;39m,\n",
      "  \u001b[0m\u001b[34;1m\"category_id\"\u001b[0m\u001b[1;39m: \u001b[0m\u001b[0;39m2\u001b[0m\u001b[1;39m,\n",
      "  \u001b[0m\u001b[34;1m\"bbox\"\u001b[0m\u001b[1;39m: \u001b[0m\u001b[1;39m[\n",
      "    \u001b[0;39m496.52\u001b[0m\u001b[1;39m,\n",
      "    \u001b[0;39m125.94\u001b[0m\u001b[1;39m,\n",
      "    \u001b[0;39m143.48\u001b[0m\u001b[1;39m,\n",
      "    \u001b[0;39m113.54\u001b[0m\u001b[1;39m\n",
      "  \u001b[1;39m]\u001b[0m\u001b[1;39m,\n",
      "  \u001b[0m\u001b[34;1m\"supercategory\"\u001b[0m\u001b[1;39m: \u001b[0m\u001b[1;30mnull\u001b[0m\u001b[1;39m,\n",
      "  \u001b[0m\u001b[34;1m\"area\"\u001b[0m\u001b[1;39m: \u001b[0m\u001b[0;39m9387.706200000002\u001b[0m\u001b[1;39m,\n",
      "  \u001b[0m\u001b[34;1m\"iscrowd\"\u001b[0m\u001b[1;39m: \u001b[0m\u001b[0;39m0\u001b[0m\u001b[1;39m\n",
      "\u001b[1;39m}\u001b[0m\n",
      "\u001b[1;39m{\n",
      "  \u001b[0m\u001b[34;1m\"id\"\u001b[0m\u001b[1;39m: \u001b[0m\u001b[0;39m1\u001b[0m\u001b[1;39m,\n",
      "  \u001b[0m\u001b[34;1m\"name\"\u001b[0m\u001b[1;39m: \u001b[0m\u001b[0;32m\"person\"\u001b[0m\u001b[1;39m,\n",
      "  \u001b[0m\u001b[34;1m\"supercategory\"\u001b[0m\u001b[1;39m: \u001b[0m\u001b[0;32m\"person\"\u001b[0m\u001b[1;39m\n",
      "\u001b[1;39m}\u001b[0m\n"
     ]
    }
   ],
   "source": [
    "# hide\n",
    "import tempfile\n",
    "tmp = tempfile.mktemp()\n",
    "\n",
    "dump_json_file(d, tmp)\n",
    "! cat {tmp} | jq .info\n",
    "! cat {tmp} | jq .images[0]\n",
    "! cat {tmp} | jq .annotations[0]\n",
    "! cat {tmp} | jq .categories[0]"
   ]
  },
  {
   "cell_type": "code",
   "execution_count": null,
   "metadata": {},
   "outputs": [],
   "source": []
  }
 ],
 "metadata": {
  "kernelspec": {
   "display_name": "Python 3.7.6 (via pyenv)",
   "language": "python",
   "name": "pyenv-3.7.6"
  }
 },
 "nbformat": 4,
 "nbformat_minor": 2
}
