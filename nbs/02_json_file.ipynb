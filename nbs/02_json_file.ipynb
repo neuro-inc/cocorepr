{
 "cells": [
  {
   "cell_type": "code",
   "execution_count": 9,
   "metadata": {},
   "outputs": [],
   "source": [
    "# default_exp json_file"
   ]
  },
  {
   "cell_type": "code",
   "execution_count": 10,
   "metadata": {},
   "outputs": [],
   "source": [
    "# export\n",
    "\n",
    "import logging\n",
    "from dataclasses import dataclass\n",
    "from typing import *\n",
    "from pathlib import Path\n",
    "import json\n",
    "\n",
    "from cocorepr.utils import sort_dict\n",
    "from cocorepr.coco import *\n",
    "\n",
    "logger = logging.getLogger()"
   ]
  },
  {
   "cell_type": "code",
   "execution_count": 11,
   "metadata": {},
   "outputs": [],
   "source": [
    "# hide\n",
    "logging.getLogger().setLevel(logging.DEBUG)"
   ]
  },
  {
   "cell_type": "code",
   "execution_count": 12,
   "metadata": {},
   "outputs": [],
   "source": [
    "#export\n",
    "\n",
    "def load_json_file(annotations_json: Union[str, Path], *, kind: str = \"object_detection\") -> CocoDataset:\n",
    "    from_dict_function = get_dataset_class(kind).from_dict\n",
    "\n",
    "    annotations_json = Path(annotations_json)\n",
    "    logger.info(f\"Loading json file from file: {annotations_json}\")\n",
    "    ext = annotations_json.suffix\n",
    "    if ext != '.json':\n",
    "        raise ValueError(f'Expect .json file as input, got: {annotations_json}')\n",
    "\n",
    "    D = json.loads(annotations_json.read_text())\n",
    "    coco = from_dict_function(D)\n",
    "    logger.info(f\"Loaded from json file: {coco.to_full_str()}\")\n",
    "    return coco"
   ]
  },
  {
   "cell_type": "code",
   "execution_count": 13,
   "metadata": {},
   "outputs": [
    {
     "data": {
      "text/plain": [
       "CocoInfo(year=2017, version='1.0', description='COCO 2017 Dataset', contributor='COCO Consortium', url='http://cocodataset.org', date_created='2017/09/01')"
      ]
     },
     "metadata": {},
     "output_type": "display_data"
    },
    {
     "data": {
      "text/plain": [
       "CocoObjectDetectionAnnotation(id=124710, image_id=140006, category_id=2, bbox=(496.52, 125.94, 143.48, 113.54), supercategory=None, area=9387.706200000002, iscrowd=0)"
      ]
     },
     "metadata": {},
     "output_type": "display_data"
    },
    {
     "data": {
      "text/plain": [
       "CocoImage(id=49428, coco_url='http://images.cocodataset.org/train2017/000000049428.jpg', width=640, height=427, license=6, file_name='000000049428.jpg', flickr_url='http://farm7.staticflickr.com/6014/5923365195_bee5603371_z.jpg', date_captured='2013-11-15 04:30:29')"
      ]
     },
     "metadata": {},
     "output_type": "display_data"
    },
    {
     "data": {
      "text/plain": [
       "CocoObjectDetectionCategory(id=1, name='person', supercategory='person')"
      ]
     },
     "metadata": {},
     "output_type": "display_data"
    }
   ],
   "source": [
    "# hide\n",
    "PATH = '../examples/coco_chunk/json_file/instances_train2017_chunk3x2.json'\n",
    "d = load_json_file(PATH)\n",
    "  \n",
    "display(d.info)\n",
    "display(d.annotations[0])\n",
    "display(d.images[0])\n",
    "display(d.categories[0])\n",
    "\n",
    "assert isinstance(d.info, CocoInfo)\n",
    "assert isinstance(d.annotations[0], CocoObjectDetectionAnnotation)\n",
    "assert isinstance(d.images[0], CocoImage)\n",
    "assert isinstance(d.categories[0], CocoObjectDetectionCategory)"
   ]
  },
  {
   "cell_type": "code",
   "execution_count": 15,
   "metadata": {},
   "outputs": [],
   "source": [
    "# export\n",
    "\n",
    "def dump_json_file(\n",
    "    coco: CocoDataset,\n",
    "    annotations_json: Union[str, Path],\n",
    "    *,\n",
    "    kind: str = \"object_detection\",\n",
    "    skip_nulls: bool = False,\n",
    "    overwrite: bool = False,\n",
    "    indent: Optional[int] = 4,\n",
    ") -> None:\n",
    "    dataset_class = get_dataset_class(kind)\n",
    "    if skip_nulls:\n",
    "        to_dict_function = dataset_class.to_dict_skip_nulls\n",
    "    else:\n",
    "        to_dict_function = dataset_class.to_dict\n",
    "\n",
    "    annotations_json = Path(annotations_json)\n",
    "    logger.info(f\"Dumping json file to file: {annotations_json}\")\n",
    "    if annotations_json.is_file() and not overwrite:\n",
    "        raise ValueError(f\"Destination json file already exists: {annotations_json}\")\n",
    "    raw = sort_dict(to_dict_function(coco))\n",
    "    logger.info(f\"Writing dataset {coco.to_full_str()} to json file: {annotations_json}\")\n",
    "    annotations_json.parent.mkdir(parents=True, exist_ok=True)\n",
    "    annotations_json.write_text(json.dumps(raw, indent=indent))"
   ]
  },
  {
   "cell_type": "code",
   "execution_count": 16,
   "metadata": {},
   "outputs": [
    {
     "name": "stdout",
     "output_type": "stream",
     "text": [
      "\u001b[1;39m{\n",
      "  \u001b[0m\u001b[34;1m\"year\"\u001b[0m\u001b[1;39m: \u001b[0m\u001b[0;39m2017\u001b[0m\u001b[1;39m,\n",
      "  \u001b[0m\u001b[34;1m\"version\"\u001b[0m\u001b[1;39m: \u001b[0m\u001b[0;32m\"1.0\"\u001b[0m\u001b[1;39m,\n",
      "  \u001b[0m\u001b[34;1m\"description\"\u001b[0m\u001b[1;39m: \u001b[0m\u001b[0;32m\"COCO 2017 Dataset\"\u001b[0m\u001b[1;39m,\n",
      "  \u001b[0m\u001b[34;1m\"contributor\"\u001b[0m\u001b[1;39m: \u001b[0m\u001b[0;32m\"COCO Consortium\"\u001b[0m\u001b[1;39m,\n",
      "  \u001b[0m\u001b[34;1m\"url\"\u001b[0m\u001b[1;39m: \u001b[0m\u001b[0;32m\"http://cocodataset.org\"\u001b[0m\u001b[1;39m,\n",
      "  \u001b[0m\u001b[34;1m\"date_created\"\u001b[0m\u001b[1;39m: \u001b[0m\u001b[0;32m\"2017/09/01\"\u001b[0m\u001b[1;39m\n",
      "\u001b[1;39m}\u001b[0m\n",
      "\u001b[1;39m{\n",
      "  \u001b[0m\u001b[34;1m\"id\"\u001b[0m\u001b[1;39m: \u001b[0m\u001b[0;39m49428\u001b[0m\u001b[1;39m,\n",
      "  \u001b[0m\u001b[34;1m\"coco_url\"\u001b[0m\u001b[1;39m: \u001b[0m\u001b[0;32m\"http://images.cocodataset.org/train2017/000000049428.jpg\"\u001b[0m\u001b[1;39m,\n",
      "  \u001b[0m\u001b[34;1m\"width\"\u001b[0m\u001b[1;39m: \u001b[0m\u001b[0;39m640\u001b[0m\u001b[1;39m,\n",
      "  \u001b[0m\u001b[34;1m\"height\"\u001b[0m\u001b[1;39m: \u001b[0m\u001b[0;39m427\u001b[0m\u001b[1;39m,\n",
      "  \u001b[0m\u001b[34;1m\"license\"\u001b[0m\u001b[1;39m: \u001b[0m\u001b[0;39m6\u001b[0m\u001b[1;39m,\n",
      "  \u001b[0m\u001b[34;1m\"file_name\"\u001b[0m\u001b[1;39m: \u001b[0m\u001b[0;32m\"000000049428.jpg\"\u001b[0m\u001b[1;39m,\n",
      "  \u001b[0m\u001b[34;1m\"flickr_url\"\u001b[0m\u001b[1;39m: \u001b[0m\u001b[0;32m\"http://farm7.staticflickr.com/6014/5923365195_bee5603371_z.jpg\"\u001b[0m\u001b[1;39m,\n",
      "  \u001b[0m\u001b[34;1m\"date_captured\"\u001b[0m\u001b[1;39m: \u001b[0m\u001b[0;32m\"2013-11-15 04:30:29\"\u001b[0m\u001b[1;39m\n",
      "\u001b[1;39m}\u001b[0m\n",
      "\u001b[1;39m{\n",
      "  \u001b[0m\u001b[34;1m\"id\"\u001b[0m\u001b[1;39m: \u001b[0m\u001b[0;39m124710\u001b[0m\u001b[1;39m,\n",
      "  \u001b[0m\u001b[34;1m\"image_id\"\u001b[0m\u001b[1;39m: \u001b[0m\u001b[0;39m140006\u001b[0m\u001b[1;39m,\n",
      "  \u001b[0m\u001b[34;1m\"category_id\"\u001b[0m\u001b[1;39m: \u001b[0m\u001b[0;39m2\u001b[0m\u001b[1;39m,\n",
      "  \u001b[0m\u001b[34;1m\"bbox\"\u001b[0m\u001b[1;39m: \u001b[0m\u001b[1;39m[\n",
      "    \u001b[0;39m496.52\u001b[0m\u001b[1;39m,\n",
      "    \u001b[0;39m125.94\u001b[0m\u001b[1;39m,\n",
      "    \u001b[0;39m143.48\u001b[0m\u001b[1;39m,\n",
      "    \u001b[0;39m113.54\u001b[0m\u001b[1;39m\n",
      "  \u001b[1;39m]\u001b[0m\u001b[1;39m,\n",
      "  \u001b[0m\u001b[34;1m\"supercategory\"\u001b[0m\u001b[1;39m: \u001b[0m\u001b[1;30mnull\u001b[0m\u001b[1;39m,\n",
      "  \u001b[0m\u001b[34;1m\"area\"\u001b[0m\u001b[1;39m: \u001b[0m\u001b[0;39m9387.706200000002\u001b[0m\u001b[1;39m,\n",
      "  \u001b[0m\u001b[34;1m\"iscrowd\"\u001b[0m\u001b[1;39m: \u001b[0m\u001b[0;39m0\u001b[0m\u001b[1;39m\n",
      "\u001b[1;39m}\u001b[0m\n",
      "\u001b[1;39m{\n",
      "  \u001b[0m\u001b[34;1m\"id\"\u001b[0m\u001b[1;39m: \u001b[0m\u001b[0;39m1\u001b[0m\u001b[1;39m,\n",
      "  \u001b[0m\u001b[34;1m\"name\"\u001b[0m\u001b[1;39m: \u001b[0m\u001b[0;32m\"person\"\u001b[0m\u001b[1;39m,\n",
      "  \u001b[0m\u001b[34;1m\"supercategory\"\u001b[0m\u001b[1;39m: \u001b[0m\u001b[0;32m\"person\"\u001b[0m\u001b[1;39m\n",
      "\u001b[1;39m}\u001b[0m\n"
     ]
    }
   ],
   "source": [
    "# hide\n",
    "import tempfile\n",
    "tmp = tempfile.mktemp()\n",
    "\n",
    "dump_json_file(d, tmp)\n",
    "! cat {tmp} | jq .info\n",
    "! cat {tmp} | jq .images[0]\n",
    "! cat {tmp} | jq .annotations[0]\n",
    "! cat {tmp} | jq .categories[0]"
   ]
  },
  {
   "cell_type": "code",
   "execution_count": null,
   "metadata": {},
   "outputs": [],
   "source": []
  }
 ],
 "metadata": {
  "kernelspec": {
   "display_name": "Python 3.7.6 (via pyenv)",
   "language": "python",
   "name": "pyenv-3.7.6"
  },
  "language_info": {
   "codemirror_mode": {
    "name": "ipython",
    "version": 3
   },
   "file_extension": ".py",
   "mimetype": "text/x-python",
   "name": "python",
   "nbconvert_exporter": "python",
   "pygments_lexer": "ipython3",
   "version": "3.7.6"
  }
 },
 "nbformat": 4,
 "nbformat_minor": 4
}
