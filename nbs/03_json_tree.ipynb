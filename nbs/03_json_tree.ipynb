{
 "cells": [
  {
   "cell_type": "code",
   "execution_count": null,
   "metadata": {},
   "outputs": [],
   "source": [
    "# default_exp json_tree"
   ]
  },
  {
   "cell_type": "code",
   "execution_count": null,
   "metadata": {},
   "outputs": [],
   "source": [
    "# export\n",
    "\n",
    "import logging\n",
    "from dataclasses import dataclass, Field\n",
    "from typing import *\n",
    "from pathlib import Path\n",
    "import json\n",
    "import shutil\n",
    "\n",
    "from cococleaner.utils import sort_dict\n",
    "from cococleaner.coco import *\n",
    "\n",
    "logging.basicConfig(level=logging.DEBUG)\n",
    "logger = logging.getLogger()"
   ]
  },
  {
   "cell_type": "code",
   "execution_count": null,
   "metadata": {},
   "outputs": [],
   "source": [
    "# export\n",
    "\n",
    "def load_json_tree(tree_dir: Union[str, Path], *, kind: str = \"object_detection\") -> CocoDataset:\n",
    "    dataset_class = get_dataset_class(kind)\n",
    "    from_dict_function = dataset_class.from_dict\n",
    "\n",
    "    tree_dir = Path(tree_dir)\n",
    "    logger.info(f\"Loading json tree from dir: {tree_dir}\")\n",
    "    if not tree_dir.is_dir():\n",
    "        raise ValueError(f\"Source json tree dir not found: {tree_dir}\")\n",
    "    \n",
    "    D = {}\n",
    "    for el_name in dataset_class.get_collective_elements():\n",
    "        el_dir = tree_dir / el_name\n",
    "        if not el_dir.is_dir():\n",
    "            logger.debug(f'Chunks dir not found: {el_dir}')\n",
    "            el_list = []\n",
    "        else:\n",
    "            el_list = [json.loads(f.read_text()) for f in el_dir.glob('*.json')]\n",
    "        logger.debug(f'Loaded {len(el_list)} json chunks from {el_dir}')\n",
    "        D[el_name] = el_list\n",
    "    \n",
    "    for el_name in dataset_class.get_non_collective_elements():\n",
    "        el_file = tree_dir / f'{el_name}.json'\n",
    "        if not el_file.is_file():\n",
    "            logger.debug(f'Chunks file not found: {el_file}')\n",
    "            el = {}\n",
    "        else:\n",
    "            el = json.loads(el_file.read_text())\n",
    "        logger.debug(f'Loaded single-file {len(el_list)} json chunk {el_dir}')\n",
    "        D[el_name] = el\n",
    "\n",
    "    return dataset_class.from_dict(D)"
   ]
  },
  {
   "cell_type": "code",
   "execution_count": null,
   "metadata": {},
   "outputs": [
    {
     "name": "stderr",
     "output_type": "stream",
     "text": [
      "INFO:root:Loading json tree from dir: ../examples/coco_chunk/json_tree\n",
      "DEBUG:root:Loaded 6 json chunks from ../examples/coco_chunk/json_tree/images\n",
      "DEBUG:root:Loaded 8 json chunks from ../examples/coco_chunk/json_tree/licenses\n",
      "DEBUG:root:Loaded 6 json chunks from ../examples/coco_chunk/json_tree/annotations\n",
      "DEBUG:root:Loaded 3 json chunks from ../examples/coco_chunk/json_tree/categories\n"
     ]
    },
    {
     "data": {
      "text/plain": [
       "CocoInfo(year=2017, version='1.0', description='COCO 2017 Dataset', contributor='COCO Consortium', url='http://cocodataset.org', date_created='2017/09/01')"
      ]
     },
     "metadata": {},
     "output_type": "display_data"
    },
    {
     "data": {
      "text/plain": [
       "CocoObjectDetectionAnnotation(id=124710, image_id=140006, category_id=2, bbox=(496.52, 125.94, 143.48, 113.54), supercategory=None, area=9387.706200000002, iscrowd=0)"
      ]
     },
     "metadata": {},
     "output_type": "display_data"
    },
    {
     "data": {
      "text/plain": [
       "CocoImage(id=117891, coco_url='http://images.cocodataset.org/train2017/000000117891.jpg', width=640, height=427, license=4, file_name='000000117891.jpg', flickr_url='http://farm1.staticflickr.com/121/256249222_f4c8375c29_z.jpg', date_captured='2013-11-15 14:46:14')"
      ]
     },
     "metadata": {},
     "output_type": "display_data"
    },
    {
     "data": {
      "text/plain": [
       "CocoObjectDetectionCategory(id=2, name='bicycle', supercategory='vehicle')"
      ]
     },
     "metadata": {},
     "output_type": "display_data"
    }
   ],
   "source": [
    "# hide\n",
    "PATH = '../examples/coco_chunk/json_tree/'\n",
    "d = load_json_tree(PATH)\n",
    "\n",
    "display(d.info)\n",
    "display(d.annotations[0])\n",
    "display(d.images[0])\n",
    "display(d.categories[0])\n",
    "\n",
    "assert isinstance(d.info, CocoInfo)\n",
    "assert isinstance(d.annotations[0], CocoObjectDetectionAnnotation)\n",
    "assert isinstance(d.images[0], CocoImage)\n",
    "assert isinstance(d.categories[0], CocoObjectDetectionCategory)"
   ]
  },
  {
   "cell_type": "code",
   "execution_count": null,
   "metadata": {},
   "outputs": [],
   "source": [
    "# export\n",
    "\n",
    "def dump_json_tree(\n",
    "    coco: CocoDataset, \n",
    "    target_dir: Union[str, Path],\n",
    "    *,\n",
    "    kind: str = 'object_detection',\n",
    "    skip_nulls: bool = False,\n",
    "    overwrite: bool = False,\n",
    "    indent: Optional[int] = 4,\n",
    ") -> None:\n",
    "    dataset_class = get_dataset_class(kind)\n",
    "    if skip_nulls:\n",
    "        to_dict_function = dataset_class.to_dict_skip_nulls\n",
    "    else:\n",
    "        to_dict_function = dataset_class.to_dict\n",
    "    \n",
    "    target_dir = Path(target_dir)\n",
    "    raw = to_dict_function(coco)\n",
    "    logger.info(f\"Dumping json tree to dir: {target_dir}\")\n",
    "    \n",
    "    if overwrite:\n",
    "        if target_dir.is_dir():\n",
    "            logger.warning(f'Destination dir exists and will be overwritten: {target_dir}')\n",
    "    elif target_dir.is_dir():\n",
    "        raise ValueError(f\"Destination json tree dir already exists: {target_dir}\")\n",
    "\n",
    "    if target_dir.is_dir():\n",
    "        logger.info(f'Deleting old target tree directory {target_dir}')\n",
    "        shutil.rmtree(str(target_dir))\n",
    "\n",
    "    target_dir.mkdir(parents=True)\n",
    "    \n",
    "    # TODO: rename cat -> el_kind\n",
    "    for cat in dataset_class.get_collective_elements():\n",
    "        el_dir = target_dir / cat\n",
    "        if not raw.get(cat):\n",
    "            logger.debug(f'Skipping empty category {el_dir}')\n",
    "            continue\n",
    "        el_dir.mkdir()\n",
    "        for el in raw[cat]:\n",
    "            el_file = el_dir / f'{el[\"id\"]}.json'\n",
    "            el = sort_dict(el)\n",
    "            el_file.write_text(json.dumps(el, indent=indent))\n",
    "        logger.debug(f'Written {len(raw[cat])} elements to {el_dir}')\n",
    "    \n",
    "    for cat in dataset_class.get_non_collective_elements():\n",
    "        el_dir = target_dir / cat\n",
    "        el_dir.mkdir()\n",
    "        el_file = target_dir / f'{cat}.json'\n",
    "        el = raw[cat]        \n",
    "        el = sort_dict(el)\n",
    "        el_file.write_text(json.dumps(el, indent=indent))\n",
    "        logger.debug(f'Written single element to {el_dir}')"
   ]
  },
  {
   "cell_type": "code",
   "execution_count": null,
   "metadata": {},
   "outputs": [
    {
     "name": "stderr",
     "output_type": "stream",
     "text": [
      "INFO:root:Loading json file from file: ../examples/coco-dataset/json.file/instances_train2017_chunk3x2.json\n",
      "INFO:root:Loaded: images=6, annotations=6, categories=3\n",
      "INFO:root:Dumping json tree to dir: /tmp/tmp1f6r2u0y\n",
      "DEBUG:root:Written 6 elements to /tmp/tmp1f6r2u0y/images\n",
      "DEBUG:root:Written 8 elements to /tmp/tmp1f6r2u0y/licenses\n",
      "DEBUG:root:Written 6 elements to /tmp/tmp1f6r2u0y/annotations\n",
      "DEBUG:root:Written 3 elements to /tmp/tmp1f6r2u0y/categories\n",
      "DEBUG:root:Written single element to /tmp/tmp1f6r2u0y/info\n"
     ]
    },
    {
     "name": "stdout",
     "output_type": "stream",
     "text": [
      "annotations  categories  images  info  info.json  licenses\n",
      "\u001b[1;39m{\n",
      "  \u001b[0m\u001b[34;1m\"area\"\u001b[0m\u001b[1;39m: \u001b[0m\u001b[0;39m9387.706200000002\u001b[0m\u001b[1;39m,\n",
      "  \u001b[0m\u001b[34;1m\"bbox\"\u001b[0m\u001b[1;39m: \u001b[0m\u001b[1;39m[\n",
      "    \u001b[0;39m496.52\u001b[0m\u001b[1;39m,\n",
      "    \u001b[0;39m125.94\u001b[0m\u001b[1;39m,\n",
      "    \u001b[0;39m143.48\u001b[0m\u001b[1;39m,\n",
      "    \u001b[0;39m113.54\u001b[0m\u001b[1;39m\n",
      "  \u001b[1;39m]\u001b[0m\u001b[1;39m,\n",
      "  \u001b[0m\u001b[34;1m\"category_id\"\u001b[0m\u001b[1;39m: \u001b[0m\u001b[0;39m2\u001b[0m\u001b[1;39m,\n",
      "  \u001b[0m\u001b[34;1m\"id\"\u001b[0m\u001b[1;39m: \u001b[0m\u001b[0;39m124710\u001b[0m\u001b[1;39m,\n",
      "  \u001b[0m\u001b[34;1m\"image_id\"\u001b[0m\u001b[1;39m: \u001b[0m\u001b[0;39m140006\u001b[0m\u001b[1;39m,\n",
      "  \u001b[0m\u001b[34;1m\"iscrowd\"\u001b[0m\u001b[1;39m: \u001b[0m\u001b[0;39m0\u001b[0m\u001b[1;39m,\n",
      "  \u001b[0m\u001b[34;1m\"supercategory\"\u001b[0m\u001b[1;39m: \u001b[0m\u001b[1;30mnull\u001b[0m\u001b[1;39m\n",
      "\u001b[1;39m}\u001b[0m\n"
     ]
    }
   ],
   "source": [
    "# hide\n",
    "import tempfile\n",
    "from cococleaner.json_file import load_json_file\n",
    "\n",
    "SRC = '../examples/coco_chunk/json_file/instances_train2017_chunk3x2.json'\n",
    "DST = tempfile.mktemp()\n",
    "d = load_json_file(SRC)\n",
    "\n",
    "dump_json_tree(d, DST)\n",
    "\n",
    "! ls {DST}\n",
    "\n",
    "IMG = ! echo {DST}/annotations/$(ls {DST}/annotations | head -n1)\n",
    "IMG = IMG[0]\n",
    "!cat {IMG} | jq"
   ]
  },
  {
   "cell_type": "code",
   "execution_count": null,
   "metadata": {},
   "outputs": [
    {
     "name": "stderr",
     "output_type": "stream",
     "text": [
      "INFO:root:Dumping json tree to dir: /tmp/tmp1f6r2u0y\n",
      "WARNING:root:Destination dir exists and will be overwritten: /tmp/tmp1f6r2u0y\n",
      "INFO:root:Deleting old target tree directory /tmp/tmp1f6r2u0y\n",
      "DEBUG:root:Written 6 elements to /tmp/tmp1f6r2u0y/images\n",
      "DEBUG:root:Written 8 elements to /tmp/tmp1f6r2u0y/licenses\n",
      "DEBUG:root:Written 6 elements to /tmp/tmp1f6r2u0y/annotations\n",
      "DEBUG:root:Written 3 elements to /tmp/tmp1f6r2u0y/categories\n",
      "DEBUG:root:Written single element to /tmp/tmp1f6r2u0y/info\n"
     ]
    },
    {
     "name": "stdout",
     "output_type": "stream",
     "text": [
      "\u001b[1;39m{\r\n",
      "  \u001b[0m\u001b[34;1m\"area\"\u001b[0m\u001b[1;39m: \u001b[0m\u001b[0;39m9387.706200000002\u001b[0m\u001b[1;39m,\r\n",
      "  \u001b[0m\u001b[34;1m\"bbox\"\u001b[0m\u001b[1;39m: \u001b[0m\u001b[1;39m[\r\n",
      "    \u001b[0;39m496.52\u001b[0m\u001b[1;39m,\r\n",
      "    \u001b[0;39m125.94\u001b[0m\u001b[1;39m,\r\n",
      "    \u001b[0;39m143.48\u001b[0m\u001b[1;39m,\r\n",
      "    \u001b[0;39m113.54\u001b[0m\u001b[1;39m\r\n",
      "  \u001b[1;39m]\u001b[0m\u001b[1;39m,\r\n",
      "  \u001b[0m\u001b[34;1m\"category_id\"\u001b[0m\u001b[1;39m: \u001b[0m\u001b[0;39m2\u001b[0m\u001b[1;39m,\r\n",
      "  \u001b[0m\u001b[34;1m\"id\"\u001b[0m\u001b[1;39m: \u001b[0m\u001b[0;39m124710\u001b[0m\u001b[1;39m,\r\n",
      "  \u001b[0m\u001b[34;1m\"image_id\"\u001b[0m\u001b[1;39m: \u001b[0m\u001b[0;39m140006\u001b[0m\u001b[1;39m,\r\n",
      "  \u001b[0m\u001b[34;1m\"iscrowd\"\u001b[0m\u001b[1;39m: \u001b[0m\u001b[0;39m0\u001b[0m\u001b[1;39m,\r\n",
      "  \u001b[0m\u001b[34;1m\"supercategory\"\u001b[0m\u001b[1;39m: \u001b[0m\u001b[1;30mnull\u001b[0m\u001b[1;39m\r\n",
      "\u001b[1;39m}\u001b[0m\r\n"
     ]
    }
   ],
   "source": [
    "# hide\n",
    "! rm {IMG}\n",
    "dump_json_tree(d, DST, overwrite=True)\n",
    "!cat {IMG} | jq"
   ]
  },
  {
   "cell_type": "code",
   "execution_count": null,
   "metadata": {},
   "outputs": [
    {
     "name": "stderr",
     "output_type": "stream",
     "text": [
      "INFO:root:Dumping json tree to dir: /tmp/tmp1f6r2u0y\n",
      "WARNING:root:Destination dir exists and will be overwritten: /tmp/tmp1f6r2u0y\n",
      "INFO:root:Deleting old target tree directory /tmp/tmp1f6r2u0y\n",
      "DEBUG:root:Written 6 elements to /tmp/tmp1f6r2u0y/images\n",
      "DEBUG:root:Written 8 elements to /tmp/tmp1f6r2u0y/licenses\n",
      "DEBUG:root:Written 6 elements to /tmp/tmp1f6r2u0y/annotations\n",
      "DEBUG:root:Written 3 elements to /tmp/tmp1f6r2u0y/categories\n",
      "DEBUG:root:Written single element to /tmp/tmp1f6r2u0y/info\n"
     ]
    },
    {
     "name": "stdout",
     "output_type": "stream",
     "text": [
      "/tmp/tmp1f6r2u0y/images/dummy.json not exists :)\r\n"
     ]
    }
   ],
   "source": [
    "# hide\n",
    "\n",
    "# Test that non-tree files got deleted after the algorithm\n",
    "! echo 123 > {DST}/images/dummy.json\n",
    "dump_json_tree(d, DST, overwrite=True)\n",
    "! [ ! -f {DST}/images/dummy.json ] && echo \"{DST}/images/dummy.json not exists :)\""
   ]
  },
  {
   "cell_type": "code",
   "execution_count": null,
   "metadata": {},
   "outputs": [],
   "source": []
  }
 ],
 "metadata": {
  "kernelspec": {
   "display_name": "Python 3.7.6 (via pyenv)",
   "language": "python",
   "name": "pyenv-3.7.6"
  }
 },
 "nbformat": 4,
 "nbformat_minor": 2
}
