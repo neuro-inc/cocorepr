{
 "cells": [
  {
   "cell_type": "code",
   "execution_count": null,
   "metadata": {},
   "outputs": [],
   "source": [
    "# default_exp crop_tree"
   ]
  },
  {
   "cell_type": "code",
   "execution_count": null,
   "metadata": {},
   "outputs": [],
   "source": [
    "# export\n",
    "\n",
    "import json\n",
    "import shutil\n",
    "import logging\n",
    "from collections import defaultdict\n",
    "from dataclasses import dataclass, Field\n",
    "from typing import *\n",
    "from pathlib import Path\n",
    "from tqdm.auto import tqdm\n",
    "\n",
    "from cocorepr.utils import *\n",
    "from cocorepr.coco import *\n",
    "\n",
    "logger = logging.getLogger()"
   ]
  },
  {
   "cell_type": "code",
   "execution_count": null,
   "metadata": {},
   "outputs": [],
   "source": [
    "# hide\n",
    "logging.basicConfig(level=logging.DEBUG)"
   ]
  },
  {
   "cell_type": "code",
   "execution_count": null,
   "metadata": {},
   "outputs": [],
   "source": [
    "# export\n",
    "\n",
    "def load_crop_tree(\n",
    "    source_dir: Union[str, Path],\n",
    "    base_coco: CocoDataset,\n",
    "    *,\n",
    "    kind: str = \"object_detection\",\n",
    ") -> CocoDataset:\n",
    "    \"\"\" Load modified set of crops from `{path}/crops` and use it\n",
    "        to filter out the annotations in `base_coco`.\n",
    "    \"\"\"\n",
    "    dataset_class = get_dataset_class(kind)\n",
    "\n",
    "    source_dir = Path(source_dir)\n",
    "    logger.info(f\"Loading blob list from dir: {source_dir}\")\n",
    "    if not source_dir.is_dir():\n",
    "        raise ValueError(f\"Source dir not found: {source_dir}\")\n",
    "\n",
    "    crops_dir = source_dir / 'crops'\n",
    "    if not crops_dir.exists():\n",
    "        raise ValueError(f'Source crops dir not found: {crops_dir}')\n",
    "\n",
    "    catid2cat = {cat.id: cat for cat in base_coco.categories}\n",
    "    imgid2img = {img.id: img for img in base_coco.images}\n",
    "    annid2ann = {ann.id: ann for ann in base_coco.annotations}\n",
    "    annid2imgid = {ann.id: ann.image_id for ann in base_coco.annotations}\n",
    "\n",
    "    res_cats = {}\n",
    "    res_imgs = {}\n",
    "    res_anns = {}\n",
    "\n",
    "    for ann_dir in crops_dir.iterdir():\n",
    "        cat_id = int(ann_dir.name.split('--')[-1])\n",
    "        cat = catid2cat[cat_id]\n",
    "\n",
    "        for i, ann_file in enumerate(ann_dir.glob('*.png'), 1):\n",
    "            ann_id = int(ann_file.stem)\n",
    "            ann = annid2ann[ann_id]\n",
    "            img_id = annid2imgid[ann_id]\n",
    "            img = imgid2img[img_id]\n",
    "\n",
    "            res_cats[cat.id] = cat\n",
    "            res_imgs[img.id] = img\n",
    "            res_anns[ann.id] = ann\n",
    "        logger.debug(f'Loaded {i} crops from: {ann_dir}')\n",
    "\n",
    "    D = {\n",
    "        **base_coco.to_dict(),\n",
    "        'images': list(res_imgs.values()),\n",
    "        'annotations': list(res_anns.values()),\n",
    "        'categories': list(res_cats.values()),\n",
    "    }\n",
    "    logger.info(f'Loaded crop tree: len(annotations)={len(D[\"annotations\"])} '\n",
    "                f'len(images)={len(D[\"images\"])} '\n",
    "                f'len(categories)={len(D[\"categories\"])}')\n",
    "    return dataset_class.from_dict(D)"
   ]
  },
  {
   "cell_type": "code",
   "execution_count": null,
   "metadata": {},
   "outputs": [
    {
     "data": {
      "text/plain": [
       "[124710, 124713, 131774, 131812, 183020, 183030]"
      ]
     },
     "metadata": {},
     "output_type": "display_data"
    },
    {
     "name": "stderr",
     "output_type": "stream",
     "text": [
      "INFO:root:Loading json tree from dir: ../examples/coco_chunk/json_tree\n",
      "DEBUG:root:Loaded 6 json chunks from ../examples/coco_chunk/json_tree/images\n",
      "DEBUG:root:Loaded 8 json chunks from ../examples/coco_chunk/json_tree/licenses\n",
      "DEBUG:root:Loaded 6 json chunks from ../examples/coco_chunk/json_tree/annotations\n",
      "DEBUG:root:Loaded 3 json chunks from ../examples/coco_chunk/json_tree/categories\n",
      "INFO:root:Loading blob list from dir: ../examples/coco_chunk/crop_tree\n",
      "DEBUG:root:Loaded 2 crops from: ../examples/coco_chunk/crop_tree/crops/bicycle--2\n",
      "DEBUG:root:Loaded 2 crops from: ../examples/coco_chunk/crop_tree/crops/person--1\n",
      "DEBUG:root:Loaded 2 crops from: ../examples/coco_chunk/crop_tree/crops/car--3\n",
      "INFO:root:Loaded crop tree: len(annotations)=6 len(images)=6 len(categories)=3\n"
     ]
    },
    {
     "data": {
      "text/plain": [
       "[124710, 124713, 131774, 131812, 183020, 183030]"
      ]
     },
     "metadata": {},
     "output_type": "display_data"
    }
   ],
   "source": [
    "# hide\n",
    "import tempfile\n",
    "from cocorepr.json_tree import load_json_tree, dump_json_tree\n",
    "from pathlib import Path\n",
    "\n",
    "SRC_COCO = '../examples/coco_chunk/json_tree/'\n",
    "SRC_BLOB = '../examples/coco_chunk/crop_tree/'\n",
    "\n",
    "expected_crop_ids = sorted([int(p.stem)\n",
    "                            for cat_p in (Path(SRC_BLOB)/'crops').iterdir()\n",
    "                            for p in cat_p.iterdir()])\n",
    "display(expected_crop_ids)\n",
    "\n",
    "DST = tempfile.mktemp()\n",
    "d = load_crop_tree(SRC_BLOB, load_json_tree(SRC_COCO))\n",
    "\n",
    "actual_crop_ids = sorted([ann.id for ann in d.annotations])\n",
    "display(actual_crop_ids)\n",
    "assert actual_crop_ids == expected_crop_ids, actual_crop_ids"
   ]
  },
  {
   "cell_type": "code",
   "execution_count": null,
   "metadata": {},
   "outputs": [],
   "source": [
    "# export\n",
    "\n",
    "def dump_crop_tree(\n",
    "    coco: CocoDataset,\n",
    "    target_dir: Union[str, Path],\n",
    "    *,\n",
    "    kind: str = 'object_detection',\n",
    "    skip_nulls: bool = False,\n",
    "    overwrite: bool = False,\n",
    "    indent: Optional[int] = 4,\n",
    ") -> None:\n",
    "    dataset_class = get_dataset_class(kind)\n",
    "    if skip_nulls:\n",
    "        to_dict_function = dataset_class.to_dict_skip_nulls\n",
    "    else:\n",
    "        to_dict_function = dataset_class.to_dict\n",
    "\n",
    "    target_dir = Path(target_dir)\n",
    "    logger.info(f\"Dumping crop tree to dir: {target_dir}\")\n",
    "\n",
    "    if overwrite:\n",
    "        if target_dir.is_dir():\n",
    "            logger.warning(f'Destination and will be overwritten: {target_dir}')\n",
    "    elif target_dir.is_dir():\n",
    "        raise ValueError(f\"Destination json tree dir already exists: {target_dir}\")\n",
    "\n",
    "    if target_dir.is_dir():\n",
    "        logger.info(f'Deleting old target directory {target_dir}')\n",
    "        shutil.rmtree(str(target_dir))\n",
    "\n",
    "    target_dir.mkdir(parents=True)\n",
    "    catid2cat = {cat.id: cat for cat in coco.categories}\n",
    "\n",
    "    imgid2img = {img.id: img for img in coco.images}\n",
    "    imgid2anns = defaultdict(list)\n",
    "    for ann in coco.annotations:\n",
    "        imgid2anns[ann.image_id].append(ann)\n",
    "\n",
    "    images_dir = target_dir / 'images'\n",
    "    images_dir.mkdir(exist_ok=True)\n",
    "\n",
    "    crops_dir = target_dir / 'crops'\n",
    "    crops_dir.mkdir(exist_ok=True)\n",
    "\n",
    "    for imgid, anns in tqdm(imgid2anns.items(), desc='Processing images'):\n",
    "        img = imgid2img[imgid]\n",
    "        assert img.file_name, f'Empty file name for img: {img}'\n",
    "        image_file = images_dir / img.file_name\n",
    "        image = read_image(image_file, download_url=img.coco_url)\n",
    "\n",
    "        for ann in anns:\n",
    "            cat = catid2cat[ann.category_id]\n",
    "            cat_dir = crops_dir / cat.get_dir_name()\n",
    "            cat_dir.mkdir(exist_ok=True)\n",
    "\n",
    "            ann_file = cat_dir / f'{ann.id}.png'\n",
    "            box = cut_bbox(image, ann.bbox)\n",
    "            write_image(box, ann_file)"
   ]
  },
  {
   "cell_type": "code",
   "execution_count": null,
   "metadata": {},
   "outputs": [
    {
     "name": "stderr",
     "output_type": "stream",
     "text": [
      "INFO:root:Loading json tree from dir: ../examples/coco-dataset/json_tree\n",
      "DEBUG:root:Loaded 6 json chunks from ../examples/coco-dataset/json_tree/images\n",
      "DEBUG:root:Loaded 8 json chunks from ../examples/coco-dataset/json_tree/licenses\n",
      "DEBUG:root:Loaded 6 json chunks from ../examples/coco-dataset/json_tree/annotations\n",
      "DEBUG:root:Loaded 3 json chunks from ../examples/coco-dataset/json_tree/categories\n",
      "INFO:root:Dumping crop tree to dir: /tmp/tmpf_klkr79\n"
     ]
    },
    {
     "data": {
      "application/vnd.jupyter.widget-view+json": {
       "model_id": "773ff823fb1846ef8c5ccf97c3c66d26",
       "version_major": 2,
       "version_minor": 0
      },
      "text/plain": [
       "Processing images:   0%|          | 0/6 [00:00<?, ?it/s]"
      ]
     },
     "metadata": {},
     "output_type": "display_data"
    }
   ],
   "source": [
    "# hide\n",
    "import tempfile\n",
    "from cocorepr.json_tree import load_json_tree\n",
    "\n",
    "SRC = '../examples/coco_chunk/json_tree/'\n",
    "DST = tempfile.mktemp()\n",
    "d = load_json_tree(SRC)\n",
    "\n",
    "dump_crop_tree(d, DST)\n",
    "\n",
    "actual = ! ls {DST}/crops\n",
    "actual = set(actual)\n",
    "expected = set(c.get_dir_name() for c in d.categories)\n",
    "assert expected == actual, (expected, actual)"
   ]
  },
  {
   "cell_type": "code",
   "execution_count": null,
   "metadata": {},
   "outputs": [],
   "source": []
  }
 ],
 "metadata": {
  "kernelspec": {
   "display_name": "Python 3",
   "language": "python",
   "name": "python3"
  }
 },
 "nbformat": 4,
 "nbformat_minor": 2
}
