{
 "cells": [
  {
   "cell_type": "code",
   "execution_count": null,
   "metadata": {},
   "outputs": [],
   "source": [
    "# default_exp coco"
   ]
  },
  {
   "cell_type": "code",
   "execution_count": null,
   "metadata": {},
   "outputs": [],
   "source": [
    "# hide\n",
    "from IPython.display import display"
   ]
  },
  {
   "cell_type": "code",
   "execution_count": null,
   "metadata": {},
   "outputs": [],
   "source": [
    "# export\n",
    "\n",
    "import logging\n",
    "from abc import abstractmethod\n",
    "from datetime import datetime\n",
    "from dataclasses_json import dataclass_json\n",
    "from dataclasses import dataclass, fields, asdict, field\n",
    "from dataclasses_serialization.json import JSONSerializer\n",
    "from typing import *\n",
    "\n",
    "from cocorepr.utils import sanitize_filename\n",
    "\n",
    "logger = logging.getLogger()\n",
    "\n",
    "# Type helpers:\n",
    "X, Y, W, H = Type[int], int, int, int"
   ]
  },
  {
   "cell_type": "code",
   "execution_count": null,
   "metadata": {},
   "outputs": [],
   "source": [
    "# export\n",
    "\n",
    "@dataclass_json\n",
    "@dataclass\n",
    "class CocoElement:\n",
    "    def to_dict_skip_nulls(self):\n",
    "        \"\"\" Same as `self.to_dict()` but does not add those fields\n",
    "            whose values are `None`.\n",
    "            WARNING! If you explicitly set a `None` value to a field\n",
    "                     that has a non-`None` default value, it still\n",
    "                     won't be dumped and will be deserialized wrongly.\n",
    "        \"\"\"\n",
    "        return asdict(\n",
    "            self,\n",
    "            dict_factory=(\n",
    "                lambda kv: {\n",
    "                    k: v\n",
    "                    for k, v in kv\n",
    "                    if v is not None\n",
    "                }\n",
    "            )\n",
    "        )\n",
    "\n",
    "    @property\n",
    "    def collection_name(self) -> str:\n",
    "        raise NotImplementedError"
   ]
  },
  {
   "cell_type": "code",
   "execution_count": null,
   "metadata": {},
   "outputs": [],
   "source": [
    "# hide\n",
    "@dataclass\n",
    "class SampleCocoElement(CocoElement):\n",
    "    a: Optional[int] = None\n",
    "    b: int = 3\n",
    "\n",
    "# 'b' has default 3, so we have to preserve it\n",
    "d = SampleCocoElement(a=2).to_dict_skip_nulls()\n",
    "assert d == {'a': 2, 'b': 3}, d\n",
    "\n",
    "d = SampleCocoElement().to_dict_skip_nulls()\n",
    "assert d == {'b': 3}, d\n",
    "\n",
    "# 'b' gets non-default value None, so we have to preserve it\n",
    "d = SampleCocoElement(b=None).to_dict_skip_nulls()\n",
    "assert d == {}, d"
   ]
  },
  {
   "cell_type": "code",
   "execution_count": null,
   "metadata": {},
   "outputs": [],
   "source": [
    "# hide\n",
    "@dataclass\n",
    "class SampleCocoElementList(CocoElement):\n",
    "    c: List[SampleCocoElement]\n",
    "\n",
    "# 'b' has default 3, so we have to preserve it\n",
    "d = SampleCocoElementList(c=[SampleCocoElement()]).to_dict_skip_nulls()\n",
    "assert d == {'c': [{'b': 3}]}, d"
   ]
  },
  {
   "cell_type": "code",
   "execution_count": null,
   "metadata": {},
   "outputs": [],
   "source": [
    "# export\n",
    "\n",
    "@dataclass\n",
    "class CocoInfo(CocoElement):\n",
    "    year: Optional[int] = None\n",
    "    version: Optional[str] = None\n",
    "    description: Optional[str] = None\n",
    "    contributor: Optional[str] = None\n",
    "    url: Optional[str] = None\n",
    "    date_created: Optional[str] = None\n",
    "\n",
    "    @property\n",
    "    def collection_name(self):\n",
    "        return \"info\""
   ]
  },
  {
   "cell_type": "code",
   "execution_count": null,
   "metadata": {},
   "outputs": [
    {
     "data": {
      "text/plain": [
       "CocoInfo(year=2020, version='v1', description='desc', contributor='me', url='http://url', date_created=None)"
      ]
     },
     "metadata": {},
     "output_type": "display_data"
    },
    {
     "data": {
      "text/plain": [
       "{'year': 2020,\n",
       " 'version': 'v1',\n",
       " 'description': 'desc',\n",
       " 'contributor': 'me',\n",
       " 'url': 'http://url'}"
      ]
     },
     "metadata": {},
     "output_type": "display_data"
    }
   ],
   "source": [
    "coco_info_dict = {\n",
    " 'year': 2020,\n",
    " 'version': 'v1',\n",
    " 'description': 'desc',\n",
    " 'contributor': 'me',\n",
    " 'url': 'http://url',\n",
    "}\n",
    "\n",
    "coco_info = CocoInfo.from_dict(coco_info_dict)\n",
    "coco_info_dict2 = coco_info.to_dict_skip_nulls()\n",
    "\n",
    "display(coco_info)\n",
    "display(coco_info_dict2)\n",
    "assert coco_info_dict2 == coco_info_dict, coco_info_dict2\n",
    "\n",
    "assert coco_info.collection_name == 'info'"
   ]
  },
  {
   "cell_type": "code",
   "execution_count": null,
   "metadata": {},
   "outputs": [],
   "source": [
    "# export\n",
    "\n",
    "@dataclass\n",
    "class CocoLicense(CocoElement):\n",
    "    id: int\n",
    "    name: str\n",
    "    url: Optional[str] = None\n",
    "\n",
    "    @property\n",
    "    def collection_name(self):\n",
    "        return \"licenses\""
   ]
  },
  {
   "cell_type": "code",
   "execution_count": null,
   "metadata": {},
   "outputs": [
    {
     "data": {
      "text/plain": [
       "CocoLicense(id=1, name='Attribution-NonCommercial-NoDerivatives 4.0 International', url='https://creativecommons.org/licenses/by-nc-nd/4.0/')"
      ]
     },
     "metadata": {},
     "output_type": "display_data"
    },
    {
     "data": {
      "text/plain": [
       "{'id': 1,\n",
       " 'name': 'Attribution-NonCommercial-NoDerivatives 4.0 International',\n",
       " 'url': 'https://creativecommons.org/licenses/by-nc-nd/4.0/'}"
      ]
     },
     "metadata": {},
     "output_type": "display_data"
    }
   ],
   "source": [
    "coco_license_dict = {\n",
    " 'id': 1,\n",
    " 'name': 'Attribution-NonCommercial-NoDerivatives 4.0 International',\n",
    " 'url': 'https://creativecommons.org/licenses/by-nc-nd/4.0/',\n",
    "}\n",
    "\n",
    "coco_license = CocoLicense.from_dict(coco_license_dict)\n",
    "coco_license_dict2 = coco_license.to_dict_skip_nulls()\n",
    "display(coco_license)\n",
    "display(coco_license_dict2)\n",
    "\n",
    "assert coco_license_dict2 == coco_license_dict, coco_license_dict2\n",
    "assert coco_license.collection_name == 'licenses'\n",
    "\n",
    "# --\n",
    "# test minimal required fields\n",
    "assert CocoLicense.from_dict({'id': 2, 'name': 'Apache 2.0'}) == CocoLicense(id=2, name='Apache 2.0')"
   ]
  },
  {
   "cell_type": "code",
   "execution_count": null,
   "metadata": {},
   "outputs": [],
   "source": [
    "# export\n",
    "\n",
    "@dataclass\n",
    "class CocoImage(CocoElement):\n",
    "    id: int\n",
    "    coco_url: str\n",
    "    width: Optional[int] = None\n",
    "    height: Optional[int] = None\n",
    "    license: Optional[int] = None\n",
    "    file_name: Optional[str] = None\n",
    "    flickr_url: Optional[str] = None\n",
    "    date_captured: Optional[str] = None\n",
    "\n",
    "    @property\n",
    "    def collection_name(self):\n",
    "        return \"images\""
   ]
  },
  {
   "cell_type": "code",
   "execution_count": null,
   "metadata": {},
   "outputs": [
    {
     "data": {
      "text/plain": [
       "CocoImage(id=204800, coco_url='https://outforz.s3.amazonaws.com/media/public/content/2021/01/10/e2e76667-f7e.jpg', width=1920, height=2560, license=1, file_name='e2e76667-f7e.jpg', flickr_url=None, date_captured='2021-01-05 13:18:13')"
      ]
     },
     "metadata": {},
     "output_type": "display_data"
    }
   ],
   "source": [
    "coco_image_dict = {\n",
    " 'id': 204800,\n",
    " 'license': 1,\n",
    " 'coco_url': 'https://outforz.s3.amazonaws.com/media/public/content/2021/01/10/e2e76667-f7e.jpg',\n",
    " 'width': 1920,\n",
    " 'height': 2560,\n",
    " 'file_name': 'e2e76667-f7e.jpg',\n",
    " 'date_captured': '2021-01-05 13:18:13',\n",
    "}\n",
    "\n",
    "\n",
    "coco_image = CocoImage.from_dict(coco_image_dict)\n",
    "display(coco_image)\n",
    "\n",
    "assert coco_image.to_dict_skip_nulls() == coco_image_dict, coco_image.to_dict_skip_nulls()\n",
    "assert coco_image.collection_name == 'images'\n",
    "\n",
    "# --\n",
    "# test minimal required fields\n",
    "assert CocoImage.from_dict({'id': 2, 'coco_url': 'http://image'}) == CocoImage(id=2, coco_url='http://image')"
   ]
  },
  {
   "cell_type": "code",
   "execution_count": null,
   "metadata": {},
   "outputs": [],
   "source": [
    "# export\n",
    "\n",
    "@dataclass\n",
    "class CocoAnnotation(CocoElement):\n",
    "    id: int\n",
    "    image_id: int\n",
    "\n",
    "@dataclass\n",
    "class CocoObjectDetectionAnnotation(CocoAnnotation):\n",
    "    category_id: int\n",
    "    bbox: Tuple[X, Y, W, H]\n",
    "    supercategory: Optional[str] = None\n",
    "    area: Optional[int] = None\n",
    "    iscrowd: Optional[int] = None"
   ]
  },
  {
   "cell_type": "code",
   "execution_count": null,
   "metadata": {},
   "outputs": [],
   "source": [
    "# export\n",
    "\n",
    "@dataclass\n",
    "class CocoCategory(CocoElement):\n",
    "    id: int\n",
    "\n",
    "    @abstractmethod\n",
    "    def get_alias(self):\n",
    "        raise NotImplementedError\n",
    "\n",
    "\n",
    "@dataclass\n",
    "class CocoObjectDetectionCategory(CocoCategory):\n",
    "    name: str\n",
    "    supercategory: Optional[str] = None\n",
    "\n",
    "    def get_dir_name(self):\n",
    "        name = sanitize_filename(self.name)\n",
    "        return f'{name}--{self.id}'"
   ]
  },
  {
   "cell_type": "code",
   "execution_count": null,
   "metadata": {},
   "outputs": [],
   "source": [
    "c = CocoObjectDetectionCategory(id='12345678', name='Бреф Кольорова вода Евкаліпт НОВИНКА!!! 50 г')\n",
    "a = c.get_dir_name()\n",
    "assert a == 'Бреф_Кольорова_вода_Евкаліпт_НОВИНКА_50_г--12345678', a"
   ]
  },
  {
   "cell_type": "code",
   "execution_count": null,
   "metadata": {},
   "outputs": [],
   "source": [
    "# export\n",
    "\n",
    "@dataclass\n",
    "class CocoDataset(CocoElement):\n",
    "    images: List[CocoImage] = field(default_factory=list)\n",
    "    info: CocoInfo = CocoInfo()\n",
    "    licenses: List[CocoLicense] = field(default_factory=list)\n",
    "\n",
    "    @classmethod\n",
    "    def get_non_collective_elements(cls):\n",
    "        # TODO: rename to get_individual_elements()\n",
    "        return ['info']\n",
    "\n",
    "    @classmethod\n",
    "    def get_collective_elements(cls):\n",
    "        default_self = cls()\n",
    "        non_collective = set(cls.get_non_collective_elements())\n",
    "        return [f.name for f in fields(default_self) if f.name not in non_collective]\n",
    "\n",
    "    def to_full_str(self):\n",
    "        return (\n",
    "            f'{self.__class__.__name__}(' + \\\n",
    "            ', '.join(f'{k}={len(getattr(self, k))}' for k in self.get_collective_elements()) + \\\n",
    "            ')'\n",
    "        )"
   ]
  },
  {
   "cell_type": "code",
   "execution_count": null,
   "metadata": {},
   "outputs": [],
   "source": [
    "non_col = CocoDataset.get_non_collective_elements()\n",
    "col = CocoDataset.get_collective_elements()\n",
    "\n",
    "assert non_col == ['info'], non_col\n",
    "assert col == ['images', 'licenses'], col"
   ]
  },
  {
   "cell_type": "code",
   "execution_count": null,
   "metadata": {},
   "outputs": [],
   "source": [
    "# export\n",
    "\n",
    "@dataclass\n",
    "class CocoObjectDetectionDataset(CocoDataset):\n",
    "    annotations: List[CocoObjectDetectionAnnotation] = field(default_factory=list)\n",
    "    categories: List[CocoObjectDetectionCategory] = field(default_factory=list)"
   ]
  },
  {
   "cell_type": "code",
   "execution_count": null,
   "metadata": {},
   "outputs": [],
   "source": [
    "non_col = CocoObjectDetectionDataset.get_non_collective_elements()\n",
    "col = CocoObjectDetectionDataset.get_collective_elements()\n",
    "\n",
    "assert non_col == ['info'], non_col\n",
    "assert col == ['images', 'licenses', 'annotations', 'categories'], col"
   ]
  },
  {
   "cell_type": "code",
   "execution_count": null,
   "metadata": {},
   "outputs": [
    {
     "data": {
      "text/plain": [
       "{'images': [{'id': 362343, 'coco_url': 'http://image'}],\n",
       " 'info': {'year': 2017,\n",
       "  'version': '1.0',\n",
       "  'description': 'COCO 2017 Dataset',\n",
       "  'contributor': 'COCO Consortium',\n",
       "  'url': 'http://cocodataset.org',\n",
       "  'date_created': '2017/09/01'},\n",
       " 'licenses': [],\n",
       " 'annotations': [{'id': 402717,\n",
       "   'image_id': 362343,\n",
       "   'category_id': 10,\n",
       "   'bbox': (196.7, 254.52, 9.89, 23.19),\n",
       "   'iscrowd': 0}],\n",
       " 'categories': [{'id': 10, 'name': 'person'}]}"
      ]
     },
     "execution_count": null,
     "metadata": {},
     "output_type": "execute_result"
    }
   ],
   "source": [
    "dataset = CocoObjectDetectionDataset(\n",
    "    info=CocoInfo(year=2017, version='1.0', description='COCO 2017 Dataset', contributor='COCO Consortium', url='http://cocodataset.org', date_created='2017/09/01'),\n",
    "    images=[CocoImage(id=362343, coco_url='http://image')], \n",
    "    annotations=[\n",
    "      CocoObjectDetectionAnnotation(id=402717, image_id=362343, category_id=10, bbox=(196.7, 254.52, 9.89, 23.19), iscrowd=0),\n",
    "    ],\n",
    "    categories=[CocoObjectDetectionCategory(id=10, name=\"person\")],\n",
    ")\n",
    "\n",
    "dataset.to_dict_skip_nulls()"
   ]
  },
  {
   "cell_type": "code",
   "execution_count": null,
   "metadata": {},
   "outputs": [],
   "source": [
    "dataset2 = CocoObjectDetectionDataset.from_dict(dataset.to_dict())\n",
    "assert dataset2 == dataset, display(dataset2, dataset)"
   ]
  },
  {
   "cell_type": "code",
   "execution_count": null,
   "metadata": {},
   "outputs": [
    {
     "data": {
      "text/plain": [
       "'CocoObjectDetectionDataset(images=1, licenses=0, annotations=1, categories=1)'"
      ]
     },
     "execution_count": null,
     "metadata": {},
     "output_type": "execute_result"
    }
   ],
   "source": [
    "dataset.to_full_str()"
   ]
  },
  {
   "cell_type": "code",
   "execution_count": null,
   "metadata": {},
   "outputs": [
    {
     "data": {
      "text/plain": [
       "CocoObjectDetectionDataset(images=[CocoImage(id=204800, coco_url='https://e2e76667-f7e.jpg', width=1920, height=2560, license=1, file_name='e2e76667-f7e.jpg', flickr_url=None, date_captured='2021-01-05 13:18:13')], info=CocoInfo(year=2017, version='1.0', description='COCO 2017 Dataset', contributor='COCO Consortium', url='http://cocodataset.org', date_created='2017/09/01'), licenses=None, annotations=[CocoObjectDetectionAnnotation(id=402717, image_id=362343, category_id=10, bbox=(196.7, 254.52, 9.89, 23.19), supercategory=None, area=None, iscrowd=0)], categories=[])"
      ]
     },
     "execution_count": null,
     "metadata": {},
     "output_type": "execute_result"
    }
   ],
   "source": [
    "d = {'info': {'year': 2017,\n",
    "  'version': '1.0',\n",
    "  'description': 'COCO 2017 Dataset',\n",
    "  'contributor': 'COCO Consortium',\n",
    "  'url': 'http://cocodataset.org',\n",
    "  'date_created': '2017/09/01'},\n",
    " 'images': [\n",
    "     {'id': 204800,\n",
    "      'width': 1920,\n",
    "      'height': 2560,\n",
    "      'file_name': 'e2e76667-f7e.jpg',\n",
    "      'license': 1,\n",
    "      'coco_url': 'https://e2e76667-f7e.jpg',\n",
    "      'date_captured': '2021-01-05 13:18:13'},\n",
    " ],\n",
    " 'annotations': [{'id': 402717,\n",
    "   'image_id': 362343,\n",
    "   'category_id': 10,\n",
    "   'bbox': (196.7, 254.52, 9.89, 23.19),\n",
    "   'iscrowd': 0}],\n",
    "    'categories':[]}\n",
    "\n",
    "CocoObjectDetectionDataset.from_dict(d)"
   ]
  },
  {
   "cell_type": "code",
   "execution_count": null,
   "metadata": {},
   "outputs": [
    {
     "data": {
      "text/plain": [
       "CocoImage(id=204800, coco_url='https://outforz.s3.amazonaws.com/media/public/content/2021/01/05/e2e76667-f7e.jpg', width=1920, height=2560, license=1, file_name='e2e76667-f7e.jpg', flickr_url=None, date_captured='2021-01-05 13:18:13')"
      ]
     },
     "metadata": {},
     "output_type": "display_data"
    },
    {
     "data": {
      "text/plain": [
       "CocoImage(id=204800, coco_url='https://outforz.s3.amazonaws.com/media/public/content/2021/01/05/e2e76667-f7e.jpg', width=1920, height=2560, license=1, file_name='e2e76667-f7e.jpg', flickr_url=None, date_captured=None)"
      ]
     },
     "metadata": {},
     "output_type": "display_data"
    }
   ],
   "source": [
    "raw = {\n",
    "    \"id\": 204800,\n",
    "    \"license\": 1,\n",
    "    \"coco_url\": \"https://e2e76667-f7e.jpg\",\n",
    "    \"width\": 1920,\n",
    "    \"height\": 2560,\n",
    "    \"file_name\": \"e2e76667-f7e.jpg\",\n",
    "    \"date_captured\": \"2021-01-05 13:18:13\"\n",
    "}\n",
    "display(CocoImage.from_dict(raw))\n",
    "del raw[\"date_captured\"]\n",
    "display(CocoImage.from_dict(raw))\n",
    "del raw[\"id\"]\n",
    "try:\n",
    "    display(CocoImage.from_dict(raw))\n",
    "except KeyError:\n",
    "    pass\n",
    "else:\n",
    "    assert False, \"no exception\""
   ]
  },
  {
   "cell_type": "code",
   "execution_count": null,
   "metadata": {},
   "outputs": [],
   "source": [
    "# export\n",
    "\n",
    "MAP_COCO_TYPE_TO_DATASET_CLASS = {\n",
    "    \"object_detection\": CocoObjectDetectionDataset,\n",
    "}\n",
    "\n",
    "def get_dataset_class(coco_kind: str):\n",
    "    try:\n",
    "        return MAP_COCO_TYPE_TO_DATASET_CLASS[coco_kind]\n",
    "    except KeyError:\n",
    "        raise ValueError(f\"Not supported dataset kind: {kind}\")"
   ]
  },
  {
   "cell_type": "code",
   "execution_count": null,
   "metadata": {},
   "outputs": [
    {
     "data": {
      "text/plain": [
       "__main__.CocoObjectDetectionDataset"
      ]
     },
     "execution_count": null,
     "metadata": {},
     "output_type": "execute_result"
    }
   ],
   "source": [
    "get_dataset_class(\"object_detection\")"
   ]
  },
  {
   "cell_type": "code",
   "execution_count": null,
   "metadata": {},
   "outputs": [],
   "source": [
    "# export\n",
    "\n",
    "def merge_datasets(d1: CocoDataset, d2: CocoDataset) -> CocoDataset:\n",
    "    if d1 is None:\n",
    "        return d2\n",
    "    if d2 is None:\n",
    "        return d1\n",
    "    assert isinstance(d1, CocoDataset), (type(d1), d1)\n",
    "    assert isinstance(d2, CocoDataset), (type(d1), d1)\n",
    "    t1 = type(d1)\n",
    "    t2 = type(d2)\n",
    "    assert t1 == t2, f'Cannot merge datasets: {t1} != {t2}'\n",
    "\n",
    "    D1 = d1.to_dict()\n",
    "    D2 = d2.to_dict()\n",
    "    K1 = set(D1.keys())\n",
    "    K2 = set(D2.keys())\n",
    "    assert K1 == K2, f'Cannot merge datasets: {K1} != {K2}'\n",
    "\n",
    "    res = {}\n",
    "    for k in K1:\n",
    "        if isinstance(D1[k], list):\n",
    "            v1 = {x['id']: x for x in (D1[k] or [])}\n",
    "            v2 = {x['id']: x for x in (D2[k] or [])}\n",
    "            v_res = {}\n",
    "            for i in v1:\n",
    "                if i in v2 and v1[i] != v2[i]:\n",
    "                    raise ValueError(f'Invalid \"{k}\" of id={i}: {v1[i]} != {v2[i]}')\n",
    "                v_res[i] = v1[i]\n",
    "            for i in v2:\n",
    "                if i in v1 and v2[i] != v1[i]:\n",
    "                    raise ValueError(f'Invalid \"{k}\" of id={i}: {v2[i]} != {v1[i]}')\n",
    "                v_res[i] = v2[i]\n",
    "            res[k] = sorted(v_res.values(), key=lambda x: x['id'])\n",
    "        else:\n",
    "            v1 = D1[k] or {}\n",
    "            v2 = D2[k] or {}\n",
    "            if not v1:\n",
    "                res[k] = v2\n",
    "            elif not v2:\n",
    "                res[k] = v1\n",
    "            else:\n",
    "                assert v1 == v2, f'key={k}: unexpectedly: {v1} != {v2}'\n",
    "                res[k] = v1\n",
    "\n",
    "    return t1.from_dict(res)"
   ]
  },
  {
   "cell_type": "code",
   "execution_count": null,
   "metadata": {},
   "outputs": [],
   "source": [
    "d1 = {'info': {},\n",
    " 'images': [{'id': 1, 'coco_url': 'https://image1.jpg'}],\n",
    " 'annotations': [{'id': 10,\n",
    "   'image_id': 1,\n",
    "   'category_id': 1,\n",
    "   'bbox': (4,3,2,1)}],\n",
    " 'categories': [{'id': 1, 'name': 'human'}]}\n",
    "\n",
    "d2 = {'info': {},\n",
    " 'images': [{'id': 1, 'coco_url': 'https://image1.jpg'},\n",
    "            {'id': 2, 'coco_url': 'https://image2.jpg'}],\n",
    " 'annotations': [{'id': 10,\n",
    "   'image_id': 1,\n",
    "   'category_id': 1,\n",
    "   'bbox': (4,3,2,1)},\n",
    " {'id': 11,\n",
    "   'image_id': 2,\n",
    "   'category_id': 2,\n",
    "   'bbox': (1,2,3,4)}],\n",
    " 'categories': [{'id': 2, 'name': 'animal'}]}"
   ]
  },
  {
   "cell_type": "code",
   "execution_count": null,
   "metadata": {},
   "outputs": [
    {
     "data": {
      "text/plain": [
       "{'images': [{'id': 1, 'coco_url': 'https://image1.jpg'},\n",
       "  {'id': 2, 'coco_url': 'https://image2.jpg'}],\n",
       " 'info': {},\n",
       " 'licenses': [],\n",
       " 'annotations': [{'id': 10,\n",
       "   'image_id': 1,\n",
       "   'category_id': 1,\n",
       "   'bbox': (4, 3, 2, 1)},\n",
       "  {'id': 11, 'image_id': 2, 'category_id': 2, 'bbox': (1, 2, 3, 4)}],\n",
       " 'categories': [{'id': 1, 'name': 'human'}, {'id': 2, 'name': 'animal'}]}"
      ]
     },
     "metadata": {},
     "output_type": "display_data"
    }
   ],
   "source": [
    "d_res = merge_datasets(CocoObjectDetectionDataset.from_dict(d1),\n",
    "                       CocoObjectDetectionDataset.from_dict(d2))\n",
    "res = d_res.to_dict_skip_nulls()\n",
    "display(res)\n",
    "assert res == {'images': [{'id': 1, 'coco_url': 'https://image1.jpg'},\n",
    "  {'id': 2, 'coco_url': 'https://image2.jpg'}],\n",
    " 'info': {},\n",
    " 'licenses': [],\n",
    " 'annotations': [{'id': 10,\n",
    "   'image_id': 1,\n",
    "   'category_id': 1,\n",
    "   'bbox': (4, 3, 2, 1)},\n",
    "  {'id': 11, 'image_id': 2, 'category_id': 2, 'bbox': (1, 2, 3, 4)}],\n",
    " 'categories': [{'id': 1, 'name': 'human'}, {'id': 2, 'name': 'animal'}]}, res"
   ]
  },
  {
   "cell_type": "code",
   "execution_count": null,
   "metadata": {},
   "outputs": [],
   "source": [
    "d2['annotations'][0]['bbox'] = (100, 101, 102, 103)\n",
    "assert d1['annotations'][0]['id'] == d2['annotations'][0]['id'] \\\n",
    "    and d2['annotations'][0]['bbox'] != d1['annotations'][0]['bbox']\n",
    "\n",
    "try:\n",
    "    d_res = merge_datasets(CocoObjectDetectionDataset.from_dict(d1),\n",
    "                           CocoObjectDetectionDataset.from_dict(d2))\n",
    "except ValueError:\n",
    "    pass\n",
    "else:\n",
    "    assert False, 'test failed'"
   ]
  },
  {
   "cell_type": "code",
   "execution_count": null,
   "metadata": {},
   "outputs": [],
   "source": [
    "assert merge_datasets(None, CocoObjectDetectionDataset.from_dict(d2)) == CocoObjectDetectionDataset.from_dict(d2)"
   ]
  },
  {
   "cell_type": "code",
   "execution_count": null,
   "metadata": {},
   "outputs": [],
   "source": [
    "\n",
    "def extract_consistent_dataset(d: CocoDataset) -> Tuple[CocoDataset, CocoDataset]:\n",
    "    \"\"\"This method analyses the inter-links within the provided dataset and returns\n",
    "    the dataset (subset of the original one).\n",
    "    \"\"\"\n",
    "    imgid2img = {el['id']: el for el in d['images']}\n",
    "    catid2cat = {el['id']: el for el in d['categories']}\n",
    "    annotations = {}\n",
    "    images = {}\n",
    "    categories = {}\n",
    "    # TODO: analyse also licenses\n",
    "    for ann in d['annotations']:\n",
    "        img = imgid2img.get(ann['image_id'])\n",
    "        cat = catid2cat.get(ann['category_id'])\n",
    "        if img is not None and cat is not None:\n",
    "            annotations[ann['id']] = ann\n",
    "            images[img['id']] = img\n",
    "            categories[cat['id']] = cat\n",
    "    return type(d).from_dict({\n",
    "        **d.to_dict(),\n",
    "        'annotations': annotations,\n",
    "        'images': images,\n",
    "        'categories': categories,\n",
    "    })"
   ]
  },
  {
   "cell_type": "code",
   "execution_count": null,
   "metadata": {},
   "outputs": [
    {
     "ename": "KeyError",
     "evalue": "'bbox'",
     "output_type": "error",
     "traceback": [
      "\u001b[0;31m---------------------------------------------------------------------------\u001b[0m",
      "\u001b[0;31mKeyError\u001b[0m                                  Traceback (most recent call last)",
      "\u001b[0;32m<ipython-input-42-090e6ede0a60>\u001b[0m in \u001b[0;36m<module>\u001b[0;34m\u001b[0m\n\u001b[1;32m     11\u001b[0m         'categories': [\n\u001b[1;32m     12\u001b[0m             \u001b[0;34m{\u001b[0m\u001b[0;34m'id'\u001b[0m\u001b[0;34m:\u001b[0m \u001b[0;36m100\u001b[0m\u001b[0;34m,\u001b[0m \u001b[0;34m'name'\u001b[0m\u001b[0;34m:\u001b[0m \u001b[0;34m'cat1'\u001b[0m\u001b[0;34m,\u001b[0m \u001b[0;34m'bbox'\u001b[0m\u001b[0;34m:\u001b[0m \u001b[0;34m[\u001b[0m\u001b[0;36m1\u001b[0m\u001b[0;34m,\u001b[0m\u001b[0;36m2\u001b[0m\u001b[0;34m,\u001b[0m\u001b[0;36m3\u001b[0m\u001b[0;34m,\u001b[0m\u001b[0;36m4\u001b[0m\u001b[0;34m]\u001b[0m\u001b[0;34m}\u001b[0m\u001b[0;34m,\u001b[0m\u001b[0;34m\u001b[0m\u001b[0;34m\u001b[0m\u001b[0m\n\u001b[0;32m---> 13\u001b[0;31m             \u001b[0;34m{\u001b[0m\u001b[0;34m'id'\u001b[0m\u001b[0;34m:\u001b[0m \u001b[0;36m400\u001b[0m\u001b[0;34m,\u001b[0m \u001b[0;34m'name'\u001b[0m\u001b[0;34m:\u001b[0m \u001b[0;34m'cat4'\u001b[0m\u001b[0;34m,\u001b[0m \u001b[0;34m'bbox'\u001b[0m\u001b[0;34m:\u001b[0m \u001b[0;34m[\u001b[0m\u001b[0;36m1\u001b[0m\u001b[0;34m,\u001b[0m\u001b[0;36m2\u001b[0m\u001b[0;34m,\u001b[0m\u001b[0;36m3\u001b[0m\u001b[0;34m,\u001b[0m\u001b[0;36m4\u001b[0m\u001b[0;34m]\u001b[0m\u001b[0;34m}\u001b[0m\u001b[0;34m,\u001b[0m\u001b[0;34m\u001b[0m\u001b[0;34m\u001b[0m\u001b[0m\n\u001b[0m\u001b[1;32m     14\u001b[0m         ],\n\u001b[1;32m     15\u001b[0m     })\n",
      "\u001b[0;32m~/.pyenv/versions/3.7.6/lib/python3.7/site-packages/dataclasses_json/api.py\u001b[0m in \u001b[0;36mfrom_dict\u001b[0;34m(cls, kvs, infer_missing)\u001b[0m\n\u001b[1;32m     81\u001b[0m                   \u001b[0;34m*\u001b[0m\u001b[0;34m,\u001b[0m\u001b[0;34m\u001b[0m\u001b[0;34m\u001b[0m\u001b[0m\n\u001b[1;32m     82\u001b[0m                   infer_missing=False) -> A:\n\u001b[0;32m---> 83\u001b[0;31m         \u001b[0;32mreturn\u001b[0m \u001b[0m_decode_dataclass\u001b[0m\u001b[0;34m(\u001b[0m\u001b[0mcls\u001b[0m\u001b[0;34m,\u001b[0m \u001b[0mkvs\u001b[0m\u001b[0;34m,\u001b[0m \u001b[0minfer_missing\u001b[0m\u001b[0;34m)\u001b[0m\u001b[0;34m\u001b[0m\u001b[0;34m\u001b[0m\u001b[0m\n\u001b[0m\u001b[1;32m     84\u001b[0m \u001b[0;34m\u001b[0m\u001b[0m\n\u001b[1;32m     85\u001b[0m     \u001b[0;32mdef\u001b[0m \u001b[0mto_dict\u001b[0m\u001b[0;34m(\u001b[0m\u001b[0mself\u001b[0m\u001b[0;34m,\u001b[0m \u001b[0mencode_json\u001b[0m\u001b[0;34m=\u001b[0m\u001b[0;32mFalse\u001b[0m\u001b[0;34m)\u001b[0m \u001b[0;34m->\u001b[0m \u001b[0mDict\u001b[0m\u001b[0;34m[\u001b[0m\u001b[0mstr\u001b[0m\u001b[0;34m,\u001b[0m \u001b[0mJson\u001b[0m\u001b[0;34m]\u001b[0m\u001b[0;34m:\u001b[0m\u001b[0;34m\u001b[0m\u001b[0;34m\u001b[0m\u001b[0m\n",
      "\u001b[0;32m~/.pyenv/versions/3.7.6/lib/python3.7/site-packages/dataclasses_json/core.py\u001b[0m in \u001b[0;36m_decode_dataclass\u001b[0;34m(cls, kvs, infer_missing)\u001b[0m\n\u001b[1;32m    201\u001b[0m             init_kwargs[field.name] = _decode_generic(field_type,\n\u001b[1;32m    202\u001b[0m                                                       \u001b[0mfield_value\u001b[0m\u001b[0;34m,\u001b[0m\u001b[0;34m\u001b[0m\u001b[0;34m\u001b[0m\u001b[0m\n\u001b[0;32m--> 203\u001b[0;31m                                                       infer_missing)\n\u001b[0m\u001b[1;32m    204\u001b[0m         \u001b[0;32melse\u001b[0m\u001b[0;34m:\u001b[0m\u001b[0;34m\u001b[0m\u001b[0;34m\u001b[0m\u001b[0m\n\u001b[1;32m    205\u001b[0m             init_kwargs[field.name] = _support_extended_types(field_type,\n",
      "\u001b[0;32m~/.pyenv/versions/3.7.6/lib/python3.7/site-packages/dataclasses_json/core.py\u001b[0m in \u001b[0;36m_decode_generic\u001b[0;34m(type_, value, infer_missing)\u001b[0m\n\u001b[1;32m    261\u001b[0m         \u001b[0;31m# otherwise fallback on constructing using type_ itself\u001b[0m\u001b[0;34m\u001b[0m\u001b[0;34m\u001b[0m\u001b[0;34m\u001b[0m\u001b[0m\n\u001b[1;32m    262\u001b[0m         \u001b[0;32mtry\u001b[0m\u001b[0;34m:\u001b[0m\u001b[0;34m\u001b[0m\u001b[0;34m\u001b[0m\u001b[0m\n\u001b[0;32m--> 263\u001b[0;31m             \u001b[0mres\u001b[0m \u001b[0;34m=\u001b[0m \u001b[0m_get_type_cons\u001b[0m\u001b[0;34m(\u001b[0m\u001b[0mtype_\u001b[0m\u001b[0;34m)\u001b[0m\u001b[0;34m(\u001b[0m\u001b[0mxs\u001b[0m\u001b[0;34m)\u001b[0m\u001b[0;34m\u001b[0m\u001b[0;34m\u001b[0m\u001b[0m\n\u001b[0m\u001b[1;32m    264\u001b[0m         \u001b[0;32mexcept\u001b[0m \u001b[0;34m(\u001b[0m\u001b[0mTypeError\u001b[0m\u001b[0;34m,\u001b[0m \u001b[0mAttributeError\u001b[0m\u001b[0;34m)\u001b[0m\u001b[0;34m:\u001b[0m\u001b[0;34m\u001b[0m\u001b[0;34m\u001b[0m\u001b[0m\n\u001b[1;32m    265\u001b[0m             \u001b[0mres\u001b[0m \u001b[0;34m=\u001b[0m \u001b[0mtype_\u001b[0m\u001b[0;34m(\u001b[0m\u001b[0mxs\u001b[0m\u001b[0;34m)\u001b[0m\u001b[0;34m\u001b[0m\u001b[0;34m\u001b[0m\u001b[0m\n",
      "\u001b[0;32m~/.pyenv/versions/3.7.6/lib/python3.7/site-packages/dataclasses_json/core.py\u001b[0m in \u001b[0;36m<genexpr>\u001b[0;34m(.0)\u001b[0m\n\u001b[1;32m    305\u001b[0m     \u001b[0;32mif\u001b[0m \u001b[0mis_dataclass\u001b[0m\u001b[0;34m(\u001b[0m\u001b[0mtype_arg\u001b[0m\u001b[0;34m)\u001b[0m \u001b[0;32mor\u001b[0m \u001b[0mis_dataclass\u001b[0m\u001b[0;34m(\u001b[0m\u001b[0mxs\u001b[0m\u001b[0;34m)\u001b[0m\u001b[0;34m:\u001b[0m\u001b[0;34m\u001b[0m\u001b[0;34m\u001b[0m\u001b[0m\n\u001b[1;32m    306\u001b[0m         items = (_decode_dataclass(type_arg, x, infer_missing)\n\u001b[0;32m--> 307\u001b[0;31m                  for x in xs)\n\u001b[0m\u001b[1;32m    308\u001b[0m     \u001b[0;32melif\u001b[0m \u001b[0m_is_supported_generic\u001b[0m\u001b[0;34m(\u001b[0m\u001b[0mtype_arg\u001b[0m\u001b[0;34m)\u001b[0m\u001b[0;34m:\u001b[0m\u001b[0;34m\u001b[0m\u001b[0;34m\u001b[0m\u001b[0m\n\u001b[1;32m    309\u001b[0m         \u001b[0mitems\u001b[0m \u001b[0;34m=\u001b[0m \u001b[0;34m(\u001b[0m\u001b[0m_decode_generic\u001b[0m\u001b[0;34m(\u001b[0m\u001b[0mtype_arg\u001b[0m\u001b[0;34m,\u001b[0m \u001b[0mx\u001b[0m\u001b[0;34m,\u001b[0m \u001b[0minfer_missing\u001b[0m\u001b[0;34m)\u001b[0m \u001b[0;32mfor\u001b[0m \u001b[0mx\u001b[0m \u001b[0;32min\u001b[0m \u001b[0mxs\u001b[0m\u001b[0;34m)\u001b[0m\u001b[0;34m\u001b[0m\u001b[0;34m\u001b[0m\u001b[0m\n",
      "\u001b[0;32m~/.pyenv/versions/3.7.6/lib/python3.7/site-packages/dataclasses_json/core.py\u001b[0m in \u001b[0;36m_decode_dataclass\u001b[0;34m(cls, kvs, infer_missing)\u001b[0m\n\u001b[1;32m    157\u001b[0m             \u001b[0;32mcontinue\u001b[0m\u001b[0;34m\u001b[0m\u001b[0;34m\u001b[0m\u001b[0m\n\u001b[1;32m    158\u001b[0m \u001b[0;34m\u001b[0m\u001b[0m\n\u001b[0;32m--> 159\u001b[0;31m         \u001b[0mfield_value\u001b[0m \u001b[0;34m=\u001b[0m \u001b[0mkvs\u001b[0m\u001b[0;34m[\u001b[0m\u001b[0mfield\u001b[0m\u001b[0;34m.\u001b[0m\u001b[0mname\u001b[0m\u001b[0;34m]\u001b[0m\u001b[0;34m\u001b[0m\u001b[0;34m\u001b[0m\u001b[0m\n\u001b[0m\u001b[1;32m    160\u001b[0m         \u001b[0mfield_type\u001b[0m \u001b[0;34m=\u001b[0m \u001b[0mtypes\u001b[0m\u001b[0;34m[\u001b[0m\u001b[0mfield\u001b[0m\u001b[0;34m.\u001b[0m\u001b[0mname\u001b[0m\u001b[0;34m]\u001b[0m\u001b[0;34m\u001b[0m\u001b[0;34m\u001b[0m\u001b[0m\n\u001b[1;32m    161\u001b[0m         \u001b[0;32mif\u001b[0m \u001b[0mfield_value\u001b[0m \u001b[0;32mis\u001b[0m \u001b[0;32mNone\u001b[0m \u001b[0;32mand\u001b[0m \u001b[0;32mnot\u001b[0m \u001b[0m_is_optional\u001b[0m\u001b[0;34m(\u001b[0m\u001b[0mfield_type\u001b[0m\u001b[0;34m)\u001b[0m\u001b[0;34m:\u001b[0m\u001b[0;34m\u001b[0m\u001b[0;34m\u001b[0m\u001b[0m\n",
      "\u001b[0;31mKeyError\u001b[0m: 'bbox'"
     ]
    }
   ],
   "source": [
    "extract_consistent_dataset(\n",
    "    CocoObjectDetectionDataset.from_dict({\n",
    "        'annotations': [\n",
    "            {'id': 1, 'image_id': 10, 'category_id': 100},\n",
    "            {'id': 2, 'image_id': 20, 'category_id': 200},\n",
    "        ],\n",
    "        'images': [\n",
    "            {'id': 10, 'coco_url': 'http://url10'},\n",
    "            {'id': 30, 'coco_url': 'http://url30'},\n",
    "        ],\n",
    "        'categories': [\n",
    "            {'id': 100, 'name': 'cat1', 'bbox': [1,2,3,4]},\n",
    "            {'id': 400, 'name': 'cat4', 'bbox': [1,2,3,4]},\n",
    "        ],\n",
    "    })\n",
    ")"
   ]
  },
  {
   "cell_type": "code",
   "execution_count": null,
   "metadata": {},
   "outputs": [],
   "source": []
  }
 ],
 "metadata": {
  "kernelspec": {
   "display_name": "Python 3",
   "language": "python",
   "name": "python3"
  }
 },
 "nbformat": 4,
 "nbformat_minor": 4
}
