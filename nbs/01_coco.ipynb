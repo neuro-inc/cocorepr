{
 "cells": [
  {
   "cell_type": "markdown",
   "metadata": {},
   "source": [
    "# COCO dataset\n",
    "> Dataclasses defining the COCO dataset and how to convert it to/from a dict."
   ]
  },
  {
   "cell_type": "code",
   "execution_count": null,
   "metadata": {},
   "outputs": [],
   "source": [
    "# default_exp coco"
   ]
  },
  {
   "cell_type": "code",
   "execution_count": null,
   "metadata": {},
   "outputs": [],
   "source": [
    "%load_ext autoreload\n",
    "%autoreload 2"
   ]
  },
  {
   "cell_type": "code",
   "execution_count": null,
   "metadata": {},
   "outputs": [],
   "source": [
    "# hide\n",
    "from IPython.display import display"
   ]
  },
  {
   "cell_type": "code",
   "execution_count": null,
   "metadata": {},
   "outputs": [
    {
     "name": "stderr",
     "output_type": "stream",
     "text": [
      "Executing <Handle IOLoop.add_future.<locals>.<lambda>(<Future finis...queues.py:248>) at /Users/ysem/miniconda3/envs/cocorepr36/lib/python3.6/site-packages/tornado/ioloop.py:688 created at /Users/ysem/miniconda3/envs/cocorepr36/lib/python3.6/site-packages/tornado/concurrent.py:184> took 0.102 seconds\n"
     ]
    }
   ],
   "source": [
    "# export\n",
    "\n",
    "import logging\n",
    "import random\n",
    "from abc import abstractmethod\n",
    "from datetime import datetime\n",
    "from dataclasses_json import dataclass_json\n",
    "from dataclasses import fields, asdict, field, replace\n",
    "from pydantic.dataclasses import dataclass\n",
    "from typing import *\n",
    "from pathlib import Path\n",
    "from cocorepr.utils import sanitize_filename"
   ]
  },
  {
   "cell_type": "code",
   "execution_count": null,
   "metadata": {},
   "outputs": [],
   "source": [
    "# export\n",
    "logger = logging.getLogger()"
   ]
  },
  {
   "cell_type": "code",
   "execution_count": null,
   "metadata": {},
   "outputs": [],
   "source": [
    "# export\n",
    "@dataclass_json\n",
    "@dataclass\n",
    "class CocoElement:\n",
    "    def to_dict_skip_nulls(self):\n",
    "        \"\"\" Same as `self.to_dict()` but does not add those fields\n",
    "            whose values are `None`.\n",
    "            WARNING! If you explicitly set a `None` value to a field\n",
    "                     that has a non-`None` default value, it still\n",
    "                     won't be dumped and will be deserialized wrongly.\n",
    "        \"\"\"\n",
    "        return asdict(\n",
    "            self,\n",
    "            dict_factory=(\n",
    "                lambda kv: {\n",
    "                    k: v\n",
    "                    for k, v in kv\n",
    "                    if v is not None\n",
    "                }\n",
    "            )\n",
    "        )\n",
    "\n",
    "    @property\n",
    "    def collection_name(self) -> str:\n",
    "        raise NotImplementedError\n",
    "\n",
    "    def is_valid(self) -> bool:\n",
    "        raise NotImplementedError"
   ]
  },
  {
   "cell_type": "code",
   "execution_count": null,
   "metadata": {},
   "outputs": [],
   "source": [
    "# hide\n",
    "@dataclass\n",
    "class SampleCocoElement(CocoElement):\n",
    "    a: Optional[int] = None\n",
    "    b: int = 3\n",
    "\n",
    "# 'b' has default 3, so we have to preserve it\n",
    "d = SampleCocoElement(a=2).to_dict_skip_nulls()\n",
    "assert d == {'a': 2, 'b': 3}, d\n",
    "\n",
    "d = SampleCocoElement().to_dict_skip_nulls()\n",
    "assert d == {'b': 3}, d\n",
    "\n",
    "# 'b' gets non-default value 10, so we have to preserve it\n",
    "d = SampleCocoElement(b=10).to_dict_skip_nulls()\n",
    "assert d == {'b': 10}, d\n",
    "\n",
    "# 'b' gets non-int value '10', but pydantic parses it to int\n",
    "d = SampleCocoElement(b='10').to_dict_skip_nulls()\n",
    "assert d == {'b': 10}, d\n",
    "\n",
    "# 'b' gets non-int value 'abrakadabra', so pydantic cannot parse it and fails\n",
    "try:\n",
    "    d = SampleCocoElement(b='abrakadabra').to_dict_skip_nulls()\n",
    "except:\n",
    "    pass\n",
    "else:\n",
    "    raise RuntimeError(\"Pudantic did not raise error!\")"
   ]
  },
  {
   "cell_type": "code",
   "execution_count": null,
   "metadata": {},
   "outputs": [],
   "source": [
    "# hide\n",
    "@dataclass\n",
    "class SampleCocoElementList(CocoElement):\n",
    "    c: List[SampleCocoElement]\n",
    "\n",
    "# 'b' has default 3, so we have to preserve it\n",
    "d = SampleCocoElementList(c=[SampleCocoElement()]).to_dict_skip_nulls()\n",
    "assert d == {'c': [{'b': 3}]}, d"
   ]
  },
  {
   "cell_type": "code",
   "execution_count": null,
   "metadata": {},
   "outputs": [],
   "source": [
    "# export\n",
    "\n",
    "@dataclass\n",
    "class CocoInfo(CocoElement):\n",
    "    year: Optional[int] = None\n",
    "    version: Optional[str] = None\n",
    "    description: Optional[str] = None\n",
    "    contributor: Optional[str] = None\n",
    "    url: Optional[str] = None\n",
    "    date_created: Optional[str] = None\n",
    "\n",
    "    @property\n",
    "    def collection_name(self):\n",
    "        return \"info\"\n",
    "\n",
    "    def is_valid(self) -> bool:\n",
    "        return True  # no restrictions on the format"
   ]
  },
  {
   "cell_type": "code",
   "execution_count": null,
   "metadata": {},
   "outputs": [
    {
     "data": {
      "text/plain": [
       "CocoInfo(year=2020, version='v1', description='desc', contributor='me', url='http://url', date_created=None)"
      ]
     },
     "metadata": {},
     "output_type": "display_data"
    },
    {
     "data": {
      "text/plain": [
       "{'year': 2020,\n",
       " 'version': 'v1',\n",
       " 'description': 'desc',\n",
       " 'contributor': 'me',\n",
       " 'url': 'http://url'}"
      ]
     },
     "metadata": {},
     "output_type": "display_data"
    }
   ],
   "source": [
    "coco_info_dict = {\n",
    " 'year': 2020,\n",
    " 'version': 'v1',\n",
    " 'description': 'desc',\n",
    " 'contributor': 'me',\n",
    " 'url': 'http://url',\n",
    "}\n",
    "\n",
    "coco_info = CocoInfo.from_dict(coco_info_dict)\n",
    "coco_info_dict2 = coco_info.to_dict_skip_nulls()\n",
    "\n",
    "display(coco_info)\n",
    "display(coco_info_dict2)\n",
    "assert coco_info_dict2 == coco_info_dict, coco_info_dict2\n",
    "\n",
    "assert coco_info.collection_name == 'info'\n",
    "assert coco_info.is_valid()"
   ]
  },
  {
   "cell_type": "code",
   "execution_count": null,
   "metadata": {},
   "outputs": [],
   "source": [
    "# export\n",
    "\n",
    "@dataclass\n",
    "class CocoLicense(CocoElement):\n",
    "    id: str\n",
    "    name: str\n",
    "    url: Optional[str] = None\n",
    "\n",
    "    @property\n",
    "    def collection_name(self):\n",
    "        return \"licenses\"\n",
    "\n",
    "    def is_valid(self) -> bool:\n",
    "        return True  # no restrictions on the format"
   ]
  },
  {
   "cell_type": "code",
   "execution_count": null,
   "metadata": {},
   "outputs": [
    {
     "data": {
      "text/plain": [
       "CocoLicense(id='1', name='Attribution-NonCommercial-NoDerivatives 4.0 International', url='https://creativecommons.org/licenses/by-nc-nd/4.0/')"
      ]
     },
     "metadata": {},
     "output_type": "display_data"
    },
    {
     "data": {
      "text/plain": [
       "{'id': '1',\n",
       " 'name': 'Attribution-NonCommercial-NoDerivatives 4.0 International',\n",
       " 'url': 'https://creativecommons.org/licenses/by-nc-nd/4.0/'}"
      ]
     },
     "metadata": {},
     "output_type": "display_data"
    }
   ],
   "source": [
    "coco_license_dict = {\n",
    " 'id': '1',\n",
    " 'name': 'Attribution-NonCommercial-NoDerivatives 4.0 International',\n",
    " 'url': 'https://creativecommons.org/licenses/by-nc-nd/4.0/',\n",
    "}\n",
    "\n",
    "coco_license = CocoLicense.from_dict(coco_license_dict)\n",
    "coco_license_dict2 = coco_license.to_dict_skip_nulls()\n",
    "display(coco_license)\n",
    "display(coco_license_dict2)\n",
    "\n",
    "assert coco_license.is_valid()\n",
    "\n",
    "assert coco_license_dict2 == coco_license_dict, coco_license_dict2\n",
    "assert coco_license.collection_name == 'licenses'\n",
    "\n",
    "# --\n",
    "# test minimal required fields\n",
    "assert CocoLicense.from_dict({'id': 2, 'name': 'Apache 2.0'}) == CocoLicense(id=2, name='Apache 2.0')"
   ]
  },
  {
   "cell_type": "code",
   "execution_count": null,
   "metadata": {},
   "outputs": [],
   "source": [
    "# export\n",
    "\n",
    "@dataclass\n",
    "class CocoImage(CocoElement):\n",
    "    id: str\n",
    "    coco_url: str\n",
    "    width: Optional[int] = None\n",
    "    height: Optional[int] = None\n",
    "    license: Optional[int] = None\n",
    "    file_name: Optional[str] = None\n",
    "    flickr_url: Optional[str] = None\n",
    "    date_captured: Optional[str] = None\n",
    "\n",
    "    def is_valid(self) -> bool:\n",
    "        try:\n",
    "            assert self.id\n",
    "            assert self.coco_url\n",
    "            return True\n",
    "        except:\n",
    "            return False\n",
    "\n",
    "    @property\n",
    "    def collection_name(self):\n",
    "        return \"images\"\n",
    "\n",
    "    def get_file_name(self) -> str:\n",
    "        return self.file_name or Path(self.coco_url).name"
   ]
  },
  {
   "cell_type": "code",
   "execution_count": null,
   "metadata": {},
   "outputs": [
    {
     "data": {
      "text/plain": [
       "CocoImage(id='204800', coco_url='https://outforz.s3.amazonaws.com/media/public/content/2021/01/10/e2e76667-f7e.jpg', width=1920, height=2560, license=1, file_name='e2e76667-f7e.jpg', flickr_url=None, date_captured='2021-01-05 13:18:13')"
      ]
     },
     "metadata": {},
     "output_type": "display_data"
    }
   ],
   "source": [
    "coco_image_dict = {\n",
    " 'id': '204800',\n",
    " 'license': 1,\n",
    " 'coco_url': 'https://outforz.s3.amazonaws.com/media/public/content/2021/01/10/e2e76667-f7e.jpg',\n",
    " 'width': 1920,\n",
    " 'height': 2560,\n",
    " 'file_name': 'e2e76667-f7e.jpg',\n",
    " 'date_captured': '2021-01-05 13:18:13',\n",
    "}\n",
    "\n",
    "\n",
    "coco_image = CocoImage.from_dict(coco_image_dict)\n",
    "display(coco_image)\n",
    "\n",
    "assert coco_image.is_valid()\n",
    "\n",
    "assert coco_image.to_dict_skip_nulls() == coco_image_dict, coco_image.to_dict_skip_nulls()\n",
    "assert coco_image.collection_name == 'images'\n",
    "\n",
    "# --\n",
    "# test minimal required fields\n",
    "assert CocoImage.from_dict({'id': 2, 'coco_url': 'http://image'}) == CocoImage(id=2, coco_url='http://image')\n",
    "\n",
    "assert CocoImage(id=1, coco_url='http://abc.com/keks.jpg').get_file_name() == 'keks.jpg'"
   ]
  },
  {
   "cell_type": "code",
   "execution_count": null,
   "metadata": {},
   "outputs": [],
   "source": [
    "# export\n",
    "\n",
    "@dataclass\n",
    "class CocoAnnotation(CocoElement):\n",
    "    id: str\n",
    "    image_id: str\n",
    "\n",
    "    def is_valid(self) -> bool:\n",
    "        try:\n",
    "            assert self.id\n",
    "            assert self.image_id\n",
    "            return True\n",
    "        except:\n",
    "            return False\n",
    "\n",
    "    def get_file_name(self) -> str:\n",
    "        return f'{self.id}.png'\n",
    "\n",
    "@dataclass\n",
    "class CocoObjectDetectionAnnotation(CocoAnnotation):\n",
    "    category_id: str\n",
    "    bbox: Optional[Tuple[int, ...]]\n",
    "    supercategory: Optional[str] = None\n",
    "    area: Optional[int] = None\n",
    "    iscrowd: Optional[int] = None\n",
    "\n",
    "    def is_valid(self) -> bool:\n",
    "        if not super().is_valid():\n",
    "            return False\n",
    "        try:\n",
    "            assert self.category_id\n",
    "            x, y, w, h = map(int, self.bbox)\n",
    "            assert x >= 0, x\n",
    "            assert y >= 0, y\n",
    "            assert w >= 0, w\n",
    "            assert h >= 0, h\n",
    "            return True\n",
    "        except:\n",
    "            return False\n"
   ]
  },
  {
   "cell_type": "code",
   "execution_count": null,
   "metadata": {},
   "outputs": [],
   "source": [
    "c = CocoObjectDetectionAnnotation(id=1, image_id=2, category_id=3, bbox=[])\n",
    "assert not c.is_valid()\n",
    "\n",
    "c = replace(c, bbox=[1, -2, 3, 4])\n",
    "assert not c.is_valid()\n",
    "\n",
    "c = replace(c, bbox=[1, 2, 3, 4])\n",
    "assert c.is_valid()"
   ]
  },
  {
   "cell_type": "code",
   "execution_count": null,
   "metadata": {},
   "outputs": [],
   "source": [
    "# export\n",
    "\n",
    "@dataclass\n",
    "class CocoCategory(CocoElement):\n",
    "    id: str\n",
    "\n",
    "    @abstractmethod\n",
    "    def get_alias(self):\n",
    "        raise NotImplementedError\n",
    "\n",
    "    def is_valid(self) -> bool:\n",
    "        try:\n",
    "            assert self.id\n",
    "            return True\n",
    "        except:\n",
    "            return False\n",
    "\n",
    "\n",
    "@dataclass\n",
    "class CocoObjectDetectionCategory(CocoCategory):\n",
    "    name: str\n",
    "    supercategory: Optional[str] = None\n",
    "\n",
    "    def get_dir_name(self):\n",
    "        name = sanitize_filename(self.name)\n",
    "        return f'{name}--{self.id}'\n",
    "\n",
    "    def is_valid(self) -> bool:\n",
    "        if not super().is_valid():\n",
    "            return False\n",
    "        if not self.name:\n",
    "            return False\n",
    "        return True"
   ]
  },
  {
   "cell_type": "code",
   "execution_count": null,
   "metadata": {},
   "outputs": [],
   "source": [
    "c = CocoObjectDetectionCategory(id='12345678', name='Бреф Кольорова вода Евкаліпт НОВИНКА!!! 50 г')\n",
    "assert c.is_valid()\n",
    "a = c.get_dir_name()\n",
    "assert a == 'Бреф_Кольорова_вода_Евкаліпт_НОВИНКА_50_г--12345678', a"
   ]
  },
  {
   "cell_type": "code",
   "execution_count": null,
   "metadata": {},
   "outputs": [],
   "source": [
    "# export\n",
    "\n",
    "@dataclass\n",
    "class CocoDataset(CocoElement):\n",
    "    annotations: List[CocoAnnotation] = field(default_factory=list)\n",
    "    images: List[CocoImage] = field(default_factory=list)\n",
    "    info: CocoInfo = CocoInfo()\n",
    "    licenses: List[CocoLicense] = field(default_factory=list)\n",
    "\n",
    "    @classmethod\n",
    "    def get_non_collective_elements(cls):\n",
    "        # TODO: rename to get_individual_elements()\n",
    "        return ['info']\n",
    "\n",
    "    @classmethod\n",
    "    def get_collective_elements(cls):\n",
    "        default_self = cls()\n",
    "        non_collective = set(cls.get_non_collective_elements())\n",
    "        return sorted([f.name for f in fields(default_self) if f.name not in non_collective])\n",
    "\n",
    "    def to_full_str(self):\n",
    "        return (\n",
    "            f'{self.__class__.__name__}(' + \\\n",
    "            ', '.join(f'{k}={len(getattr(self, k))}' for k in self.get_collective_elements()) + \\\n",
    "            ')'\n",
    "        )\n",
    "\n",
    "    def is_valid(self) -> bool:\n",
    "        return all(\n",
    "            el.is_valid()\n",
    "            for el in self.annotations + self.images + [self.info] + self.licenses\n",
    "        )"
   ]
  },
  {
   "cell_type": "code",
   "execution_count": null,
   "metadata": {},
   "outputs": [],
   "source": [
    "non_col = CocoDataset.get_non_collective_elements()\n",
    "col = CocoDataset.get_collective_elements()\n",
    "\n",
    "assert non_col == ['info'], non_col\n",
    "assert col == ['annotations', 'images', 'licenses'], col"
   ]
  },
  {
   "cell_type": "code",
   "execution_count": null,
   "metadata": {},
   "outputs": [],
   "source": [
    "# export\n",
    "\n",
    "@dataclass\n",
    "class CocoObjectDetectionDataset(CocoDataset):\n",
    "    annotations: List[CocoObjectDetectionAnnotation] = field(default_factory=list)\n",
    "    categories: List[CocoObjectDetectionCategory] = field(default_factory=list)"
   ]
  },
  {
   "cell_type": "code",
   "execution_count": null,
   "metadata": {},
   "outputs": [],
   "source": [
    "non_col = CocoObjectDetectionDataset.get_non_collective_elements()\n",
    "col = CocoObjectDetectionDataset.get_collective_elements()\n",
    "\n",
    "assert non_col == ['info'], non_col\n",
    "assert col == ['annotations', 'categories', 'images', 'licenses'], col"
   ]
  },
  {
   "cell_type": "code",
   "execution_count": null,
   "metadata": {},
   "outputs": [
    {
     "data": {
      "text/plain": [
       "{'annotations': [{'id': '402717',\n",
       "   'image_id': '362343',\n",
       "   'category_id': '10',\n",
       "   'bbox': (196, 254, 9, 23),\n",
       "   'iscrowd': 0}],\n",
       " 'images': [{'id': '362343', 'coco_url': 'http://image'}],\n",
       " 'info': {'year': 2017,\n",
       "  'version': '1.0',\n",
       "  'description': 'COCO 2017 Dataset',\n",
       "  'contributor': 'COCO Consortium',\n",
       "  'url': 'http://cocodataset.org',\n",
       "  'date_created': '2017/09/01'},\n",
       " 'licenses': [],\n",
       " 'categories': [{'id': '10', 'name': 'person'}]}"
      ]
     },
     "execution_count": null,
     "metadata": {},
     "output_type": "execute_result"
    }
   ],
   "source": [
    "dataset = CocoObjectDetectionDataset(\n",
    "    info=CocoInfo(year=2017, version='1.0', description='COCO 2017 Dataset', contributor='COCO Consortium', url='http://cocodataset.org', date_created='2017/09/01'),\n",
    "    images=[CocoImage(id='362343', coco_url='http://image')], \n",
    "    annotations=[\n",
    "      CocoObjectDetectionAnnotation(id='402717', image_id='362343', category_id='10', bbox=(196.7, 254.52, 9.89, 23.19), iscrowd=0),\n",
    "    ],\n",
    "    categories=[CocoObjectDetectionCategory(id='10', name=\"person\")],\n",
    ")\n",
    "\n",
    "assert dataset.is_valid()\n",
    "dataset.to_dict_skip_nulls()"
   ]
  },
  {
   "cell_type": "code",
   "execution_count": null,
   "metadata": {},
   "outputs": [],
   "source": [
    "dataset2 = CocoObjectDetectionDataset.from_dict(dataset.to_dict())\n",
    "assert dataset2 == dataset, display(dataset2, dataset)"
   ]
  },
  {
   "cell_type": "code",
   "execution_count": null,
   "metadata": {},
   "outputs": [
    {
     "data": {
      "text/plain": [
       "'CocoObjectDetectionDataset(annotations=1, categories=1, images=1, licenses=0)'"
      ]
     },
     "execution_count": null,
     "metadata": {},
     "output_type": "execute_result"
    }
   ],
   "source": [
    "dataset.to_full_str()"
   ]
  },
  {
   "cell_type": "code",
   "execution_count": null,
   "metadata": {},
   "outputs": [
    {
     "data": {
      "text/plain": [
       "CocoObjectDetectionDataset(annotations=[CocoObjectDetectionAnnotation(id='402717', image_id='362343', category_id='10', bbox=(196, 254, 9, 23), supercategory=None, area=None, iscrowd=0)], images=[CocoImage(id='204800', coco_url='https://e2e76667-f7e.jpg', width=1920, height=2560, license=1, file_name='e2e76667-f7e.jpg', flickr_url=None, date_captured='2021-01-05 13:18:13')], info=CocoInfo(year=2017, version='1.0', description='COCO 2017 Dataset', contributor='COCO Consortium', url='http://cocodataset.org', date_created='2017/09/01'), licenses=[], categories=[])"
      ]
     },
     "execution_count": null,
     "metadata": {},
     "output_type": "execute_result"
    }
   ],
   "source": [
    "d = {'info': {'year': 2017,\n",
    "  'version': '1.0',\n",
    "  'description': 'COCO 2017 Dataset',\n",
    "  'contributor': 'COCO Consortium',\n",
    "  'url': 'http://cocodataset.org',\n",
    "  'date_created': '2017/09/01'},\n",
    " 'images': [\n",
    "     {'id': '204800',\n",
    "      'width': 1920,\n",
    "      'height': 2560,\n",
    "      'file_name': 'e2e76667-f7e.jpg',\n",
    "      'license': 1,\n",
    "      'coco_url': 'https://e2e76667-f7e.jpg',\n",
    "      'date_captured': '2021-01-05 13:18:13'},\n",
    " ],\n",
    " 'annotations': [{'id': '402717',\n",
    "   'image_id': '362343',\n",
    "   'category_id': '10',\n",
    "   'bbox': (196.7, 254.52, 9.89, 23.19),\n",
    "   'iscrowd': 0}],\n",
    "    'categories':[]}\n",
    "\n",
    "CocoObjectDetectionDataset.from_dict(d)"
   ]
  },
  {
   "cell_type": "code",
   "execution_count": null,
   "metadata": {},
   "outputs": [
    {
     "data": {
      "text/plain": [
       "CocoImage(id='204800', coco_url='https://e2e76667-f7e.jpg', width=1920, height=2560, license=1, file_name='e2e76667-f7e.jpg', flickr_url=None, date_captured='2021-01-05 13:18:13')"
      ]
     },
     "metadata": {},
     "output_type": "display_data"
    },
    {
     "data": {
      "text/plain": [
       "CocoImage(id='204800', coco_url='https://e2e76667-f7e.jpg', width=1920, height=2560, license=1, file_name='e2e76667-f7e.jpg', flickr_url=None, date_captured=None)"
      ]
     },
     "metadata": {},
     "output_type": "display_data"
    }
   ],
   "source": [
    "raw = {\n",
    "    \"id\": '204800',\n",
    "    \"license\": 1,\n",
    "    \"coco_url\": \"https://e2e76667-f7e.jpg\",\n",
    "    \"width\": 1920,\n",
    "    \"height\": 2560,\n",
    "    \"file_name\": \"e2e76667-f7e.jpg\",\n",
    "    \"date_captured\": \"2021-01-05 13:18:13\"\n",
    "}\n",
    "display(CocoImage.from_dict(raw))\n",
    "del raw[\"date_captured\"]\n",
    "display(CocoImage.from_dict(raw))\n",
    "del raw[\"id\"]\n",
    "try:\n",
    "    display(CocoImage.from_dict(raw))\n",
    "except KeyError:\n",
    "    pass\n",
    "else:\n",
    "    assert False, \"no exception\""
   ]
  },
  {
   "cell_type": "code",
   "execution_count": null,
   "metadata": {},
   "outputs": [],
   "source": [
    "# export\n",
    "\n",
    "MAP_COCO_TYPE_TO_DATASET_CLASS = {\n",
    "    \"object_detection\": CocoObjectDetectionDataset,\n",
    "}\n",
    "\n",
    "def get_dataset_class(coco_kind: str):\n",
    "    try:\n",
    "        return MAP_COCO_TYPE_TO_DATASET_CLASS[coco_kind]\n",
    "    except KeyError:\n",
    "        raise ValueError(f\"Not supported dataset kind: {kind}\")"
   ]
  },
  {
   "cell_type": "code",
   "execution_count": null,
   "metadata": {},
   "outputs": [
    {
     "data": {
      "text/plain": [
       "__main__.CocoObjectDetectionDataset"
      ]
     },
     "execution_count": null,
     "metadata": {},
     "output_type": "execute_result"
    }
   ],
   "source": [
    "get_dataset_class(\"object_detection\")"
   ]
  },
  {
   "cell_type": "code",
   "execution_count": null,
   "metadata": {},
   "outputs": [],
   "source": [
    "# export\n",
    "\n",
    "def merge_datasets(d1: CocoDataset, d2: CocoDataset) -> CocoDataset:\n",
    "    if d1 is None:\n",
    "        return d2\n",
    "    if d2 is None:\n",
    "        return d1\n",
    "    assert isinstance(d1, CocoDataset), (type(d1), d1)\n",
    "    assert isinstance(d2, CocoDataset), (type(d1), d1)\n",
    "    t1 = type(d1)\n",
    "    t2 = type(d2)\n",
    "    assert t1 == t2, f'Cannot merge datasets: {t1} != {t2}'\n",
    "\n",
    "    D1 = d1.to_dict()\n",
    "    D2 = d2.to_dict()\n",
    "    K1 = set(D1.keys())\n",
    "    K2 = set(D2.keys())\n",
    "    assert K1 == K2, f'Cannot merge datasets: {K1} != {K2}'\n",
    "\n",
    "    res = {}\n",
    "    for k in K1:\n",
    "        if isinstance(D1[k], list):\n",
    "            v1 = {x['id']: x for x in (D1[k] or [])}\n",
    "            v2 = {x['id']: x for x in (D2[k] or [])}\n",
    "            v_res = {}\n",
    "            for i in v1:\n",
    "                if i in v2 and v1[i] != v2[i]:\n",
    "                    raise ValueError(f'Invalid \"{k}\" of id={i}: {v1[i]} != {v2[i]}')\n",
    "                v_res[i] = v1[i]\n",
    "            for i in v2:\n",
    "                if i in v1 and v2[i] != v1[i]:\n",
    "                    raise ValueError(f'Invalid \"{k}\" of id={i}: {v2[i]} != {v1[i]}')\n",
    "                v_res[i] = v2[i]\n",
    "            res[k] = sorted(v_res.values(), key=lambda x: str(x['id']))\n",
    "            # we are converting ID to str since sometimes its integer\n",
    "        else:\n",
    "            v1 = D1[k] or {}\n",
    "            v2 = D2[k] or {}\n",
    "            if not v1:\n",
    "                res[k] = v2\n",
    "            elif not v2:\n",
    "                res[k] = v1\n",
    "            else:\n",
    "                assert v1 == v2, f'key={k}: unexpectedly: {v1} != {v2}'\n",
    "                res[k] = v1\n",
    "\n",
    "    return t1.from_dict(res)"
   ]
  },
  {
   "cell_type": "code",
   "execution_count": null,
   "metadata": {},
   "outputs": [],
   "source": [
    "d1 = {'info': {},\n",
    " 'images': [{'id': '1', 'coco_url': 'https://image1.jpg'}],\n",
    " 'annotations': [{'id': '10',\n",
    "   'image_id': '1',\n",
    "   'category_id': '1',\n",
    "   'bbox': (4,3,2,1)}],\n",
    " 'categories': [{'id': '1', 'name': 'human'}]}\n",
    "\n",
    "d2 = {'info': {},\n",
    " 'images': [{'id': '1', 'coco_url': 'https://image1.jpg'},\n",
    "            {'id': '2', 'coco_url': 'https://image2.jpg'}],\n",
    " 'annotations': [{'id': '10',\n",
    "   'image_id': '1',\n",
    "   'category_id': '1',\n",
    "   'bbox': (4,3,2,1)},\n",
    " {'id': '11',\n",
    "   'image_id': '2',\n",
    "   'category_id': '2',\n",
    "   'bbox': (1,2,3,4)}],\n",
    " 'categories': [{'id': '2', 'name': 'animal'}]}"
   ]
  },
  {
   "cell_type": "code",
   "execution_count": null,
   "metadata": {},
   "outputs": [
    {
     "data": {
      "text/plain": [
       "{'annotations': [{'id': '10',\n",
       "   'image_id': '1',\n",
       "   'category_id': '1',\n",
       "   'bbox': (4, 3, 2, 1)},\n",
       "  {'id': '11', 'image_id': '2', 'category_id': '2', 'bbox': (1, 2, 3, 4)}],\n",
       " 'images': [{'id': '1', 'coco_url': 'https://image1.jpg'},\n",
       "  {'id': '2', 'coco_url': 'https://image2.jpg'}],\n",
       " 'info': {},\n",
       " 'licenses': [],\n",
       " 'categories': [{'id': '1', 'name': 'human'}, {'id': '2', 'name': 'animal'}]}"
      ]
     },
     "metadata": {},
     "output_type": "display_data"
    }
   ],
   "source": [
    "d_res = merge_datasets(CocoObjectDetectionDataset.from_dict(d1),\n",
    "                       CocoObjectDetectionDataset.from_dict(d2))\n",
    "res = d_res.to_dict_skip_nulls()\n",
    "display(res)\n",
    "assert res == {'images': [{'id': '1', 'coco_url': 'https://image1.jpg'},\n",
    "  {'id': '2', 'coco_url': 'https://image2.jpg'}],\n",
    " 'info': {},\n",
    " 'licenses': [],\n",
    " 'annotations': [{'id': '10',\n",
    "   'image_id': '1',\n",
    "   'category_id': '1',\n",
    "   'bbox': (4, 3, 2, 1)},\n",
    "  {'id': '11', 'image_id': '2', 'category_id': '2', 'bbox': (1, 2, 3, 4)}],\n",
    " 'categories': [{'id': '1', 'name': 'human'}, {'id': '2', 'name': 'animal'}]}, res"
   ]
  },
  {
   "cell_type": "code",
   "execution_count": null,
   "metadata": {},
   "outputs": [],
   "source": [
    "d2['annotations'][0]['bbox'] = (100, 101, 102, 103)\n",
    "assert d1['annotations'][0]['id'] == d2['annotations'][0]['id'] \\\n",
    "    and d2['annotations'][0]['bbox'] != d1['annotations'][0]['bbox']\n",
    "\n",
    "try:\n",
    "    d_res = merge_datasets(CocoObjectDetectionDataset.from_dict(d1),\n",
    "                           CocoObjectDetectionDataset.from_dict(d2))\n",
    "except ValueError:\n",
    "    pass\n",
    "else:\n",
    "    assert False, 'test failed'"
   ]
  },
  {
   "cell_type": "code",
   "execution_count": null,
   "metadata": {},
   "outputs": [],
   "source": [
    "assert merge_datasets(None, CocoObjectDetectionDataset.from_dict(d2)) == CocoObjectDetectionDataset.from_dict(d2)"
   ]
  },
  {
   "cell_type": "code",
   "execution_count": null,
   "metadata": {},
   "outputs": [],
   "source": [
    "# export\n",
    "def shuffle(arr):\n",
    "    return random.sample(arr, k=len(arr))"
   ]
  },
  {
   "cell_type": "code",
   "execution_count": null,
   "metadata": {},
   "outputs": [
    {
     "data": {
      "text/plain": [
       "([1, 2, 3, 4, 5], [5, 1, 3, 4, 2])"
      ]
     },
     "execution_count": null,
     "metadata": {},
     "output_type": "execute_result"
    }
   ],
   "source": [
    "a = [1,2,3,4,5]\n",
    "b = shuffle(a)\n",
    "a, b"
   ]
  },
  {
   "cell_type": "code",
   "execution_count": null,
   "metadata": {},
   "outputs": [],
   "source": [
    "# export \n",
    "def cut_annotations_per_category(coco: CocoDataset, max_annotations_per_category: int) -> CocoDataset:\n",
    "    \"\"\" Returns a copy of the input dataset where each class (category)\n",
    "        contains up to `max_crops_per_class` crops (annotations)\n",
    "    \"\"\"\n",
    "    imgid2img = {img.id: img for img in coco.images}\n",
    "    catid2anns = {cat.id: [] for cat in coco.categories}\n",
    "    for ann in coco.annotations:\n",
    "        catid2anns[ann.category_id].append(ann)\n",
    "\n",
    "    images = {}\n",
    "    annotations = {}\n",
    "    for _, anns in catid2anns.items():\n",
    "        if len(anns) > max_annotations_per_category:\n",
    "            anns = shuffle(anns)[:max_annotations_per_category]\n",
    "        for ann in anns:\n",
    "            annotations[ann.id] = ann\n",
    "            images[ann.image_id] = imgid2img[ann.image_id]\n",
    "    coco = replace(coco, annotations=sorted(annotations.values(), key=lambda x: x.id))\n",
    "    coco = replace(coco, images=sorted(images.values(), key=lambda x: x.id))\n",
    "\n",
    "    return coco"
   ]
  },
  {
   "cell_type": "code",
   "execution_count": null,
   "metadata": {},
   "outputs": [],
   "source": [
    "res = cut_annotations_per_category(\n",
    "    CocoObjectDetectionDataset.from_dict(\n",
    "        {'info': {},\n",
    "         'images': [{'id': '1', 'coco_url': 'https://image1.jpg'}],\n",
    "         'annotations': [\n",
    "             {'id': '10', 'image_id': '1', 'category_id': '1', 'bbox': (4,3,2,1)},\n",
    "             {'id': '11', 'image_id': '1', 'category_id': '1', 'bbox': (4,3,2,1)},\n",
    "             {'id': '12', 'image_id': '1', 'category_id': '2', 'bbox': (4,3,2,1)},\n",
    "             {'id': '13', 'image_id': '1', 'category_id': '2', 'bbox': (4,3,2,1)},\n",
    "         ],\n",
    "         'categories': [\n",
    "             {'id': '1', 'name': 'animal'},\n",
    "             {'id': '2', 'name': 'animal'},\n",
    "         ]}\n",
    "    ),\n",
    "    max_annotations_per_category=1\n",
    ")\n",
    "assert len(res.annotations) == 2, res.to_dict_skip_nulls()"
   ]
  },
  {
   "cell_type": "code",
   "execution_count": null,
   "metadata": {},
   "outputs": [],
   "source": [
    "# export\n",
    "from collections import defaultdict\n",
    "\n",
    "def remove_invalid_elements(coco: CocoDataset) -> CocoDataset:\n",
    "    annid2ann = {ann.id: ann for ann in coco.annotations if ann.is_valid()}\n",
    "    imgid2img = {img.id: img for img in coco.images if img.is_valid()}\n",
    "    catid2cat = {cat.id: cat for cat in coco.categories if cat.is_valid()}\n",
    "\n",
    "    imgid2img_used = {}\n",
    "    catid2cat_used = {}\n",
    "    annid2ann_used = {}\n",
    "    for ann in annid2ann.values():\n",
    "        img = imgid2img.get(ann.image_id)\n",
    "        cat = catid2cat.get(ann.category_id)\n",
    "        if img is not None and cat is not None:\n",
    "            annid2ann_used[ann.id] = ann\n",
    "            imgid2img_used[img.id] = img\n",
    "            catid2cat_used[cat.id] = cat\n",
    "\n",
    "    coco = replace(\n",
    "        coco,\n",
    "        annotations=sorted(annid2ann_used.values(), key=lambda x: str(x.id)),\n",
    "        images=sorted(imgid2img_used.values(), key=lambda x: str(x.id)),\n",
    "        categories=sorted(catid2cat_used.values(), key=lambda x: str(x.id)),\n",
    "    )\n",
    "\n",
    "    # TODO: filter also licenses\n",
    "    # TODO: filter also get_non_collective_elements (info)\n",
    "    return coco"
   ]
  },
  {
   "cell_type": "code",
   "execution_count": null,
   "metadata": {},
   "outputs": [],
   "source": [
    "d = {'info': {},\n",
    " 'images': [{'id': '1', 'coco_url': 'https://image1.jpg'},\n",
    "            {'id': '', 'coco_url': 'https://image2.jpg'},\n",
    "            {'id': '2', 'coco_url': ''},\n",
    "            {'id': '3','coco_url': 'https://valid-but-unused'},\n",
    "           ],\n",
    " 'annotations': [\n",
    "     {'id': '10',\n",
    "      'image_id': '1',\n",
    "      'category_id': '1',\n",
    "      'bbox': (4,3,2,1)},\n",
    "     {'id': '',\n",
    "       'image_id': '2',\n",
    "       'category_id': '1',\n",
    "       'bbox': (1,2,3,4)},\n",
    "     {'id': 'ANN-01',\n",
    "       'image_id': '1',\n",
    "       'category_id': '1',\n",
    "       'bbox': (1,2,3,4)},\n",
    "     {'id': '3',\n",
    "       'image_id': '2',\n",
    "       'category_id': '',\n",
    "       'bbox': (1,2,3,4)},\n",
    "     {'id': '4',\n",
    "       'image_id': '2',\n",
    "       'category_id': '2',\n",
    "       'bbox': (1,2,3,0)},\n",
    "     {'id': '5',\n",
    "       'image_id': '2',\n",
    "       'category_id': '2',\n",
    "       'bbox': (1,2,-2,4)},\n",
    " ],\n",
    " 'categories': [\n",
    "     {'id': '1', 'name': 'animal'},\n",
    "     {'id': '', 'name': 'nobody'},\n",
    " ]}\n",
    "\n",
    "c = CocoObjectDetectionDataset.from_dict(d)\n",
    "c2 = remove_invalid_elements(c)\n",
    "d2 = c2.to_dict_skip_nulls()\n",
    "assert d2 == {\n",
    "    'annotations': [\n",
    "      {\n",
    "        'id': '10',\n",
    "        'image_id': '1',\n",
    "        'category_id': '1',\n",
    "        'bbox': (4, 3, 2, 1)\n",
    "      },\n",
    "      {\n",
    "        'id': 'ANN-01',\n",
    "        'image_id': '1',\n",
    "        'category_id': '1',\n",
    "        'bbox': (1,2,3,4)\n",
    "      },\n",
    "    ],\n",
    "    'images': [\n",
    "         {'id': '1', 'coco_url': 'https://image1.jpg'}],\n",
    "     'info': {},\n",
    "     'licenses': [],\n",
    "     'categories': [{'id': '1', 'name': 'animal'}],\n",
    "}, d2"
   ]
  }
 ],
 "metadata": {
  "kernelspec": {
   "display_name": "Python 3.6.13 64-bit ('cocorepr36': conda)",
   "name": "python3"
  }
 },
 "nbformat": 4,
 "nbformat_minor": 4
}
