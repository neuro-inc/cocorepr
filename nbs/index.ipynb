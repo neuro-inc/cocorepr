{
 "cells": [
  {
   "cell_type": "code",
   "execution_count": null,
   "metadata": {},
   "outputs": [],
   "source": [
    "# To test below, you need to do:\n",
    "# $ cd <project root>\n",
    "# $ make build\n",
    "# $ pip install -e .\n",
    "# reload current notebook kernel"
   ]
  },
  {
   "cell_type": "code",
   "execution_count": null,
   "metadata": {},
   "outputs": [
    {
     "name": "stdout",
     "output_type": "stream",
     "text": [
      "INFO: Arguments: Namespace(debug=False, in_crop_tree=None, in_json_files=[PosixPath('../examples/coco_chunk/json_file/instances_train2017_chunk3x2.json')], in_json_trees=[], indent=4, out_format='json_tree', out_path=PosixPath('/tmp/cococo/json_tree'), overwrite=True)\r\n",
      "INFO: Loading json file from file: ../examples/coco_chunk/json_file/instances_train2017_chunk3x2.json\r\n",
      "INFO: Loaded: images=6, annotations=6, categories=3\r\n",
      "INFO: Dumping json tree to dir: /tmp/cococo/json_tree\r\n",
      "INFO: [+] Success: json_tree dumped to /tmp/cococo/json_tree: ['info.json', 'info', 'categories', 'annotations', 'licenses', 'images']\r\n"
     ]
    }
   ],
   "source": [
    "# json_file -> json_tree\n",
    "\n",
    "! rm -rf /tmp/cococo/json_tree\n",
    "! cocorepr \\\n",
    "    --in_json_file ../examples/coco_chunk/json_file/instances_train2017_chunk3x2.json \\\n",
    "    --out_path /tmp/cococo/json_tree \\\n",
    "    --out_format json_tree \\\n",
    "    --overwrite"
   ]
  },
  {
   "cell_type": "code",
   "execution_count": null,
   "metadata": {},
   "outputs": [
    {
     "name": "stdout",
     "output_type": "stream",
     "text": [
      "INFO: Arguments: Namespace(debug=False, in_crop_tree=None, in_json_files=[], in_json_trees=[PosixPath('../examples/coco_chunk/json_tree')], indent=None, out_format='json_file', out_path=PosixPath('/tmp/cococo/json_file/annotations.json'), overwrite=False)\r\n",
      "INFO: Loading json tree from dir: ../examples/coco_chunk/json_tree\r\n",
      "INFO: Dumping json file to file: /tmp/cococo/json_file/annotations.json\r\n",
      "INFO: Writing dataset to json file: /tmp/cococo/json_file/annotations.json\r\n",
      "INFO: [+] Success: json_file dumped to /tmp/cococo/json_file/annotations.json\r\n"
     ]
    }
   ],
   "source": [
    "# json_tree -> json_file\n",
    "\n",
    "! rm -rf /tmp/cococo/json_file\n",
    "! cocorepr \\\n",
    "    --in_json_tree ../examples/coco_chunk/json_tree \\\n",
    "    --out_path /tmp/cococo/json_file/annotations.json \\\n",
    "    --out_format json_file \\\n",
    "    --indent=None"
   ]
  },
  {
   "cell_type": "code",
   "execution_count": null,
   "metadata": {},
   "outputs": [
    {
     "name": "stdout",
     "output_type": "stream",
     "text": [
      "INFO: Arguments: Namespace(debug=False, in_crop_tree=None, in_json_files=[PosixPath('../examples/coco_chunk/json_file/instances_train2017_chunk3x2.json')], in_json_trees=[], indent=4, out_format='crop_tree', out_path=PosixPath('/tmp/cococo/crop_tree'), overwrite=True)\n",
      "INFO: Loading json file from file: ../examples/coco_chunk/json_file/instances_train2017_chunk3x2.json\n",
      "INFO: Loaded: images=6, annotations=6, categories=3\n",
      "INFO: Dumping crop tree to dir: /tmp/cococo/crop_tree\n",
      "Processing images: 100%|██████████████████████████| 6/6 [00:03<00:00,  1.53it/s]\n",
      "INFO: [+] Success: crop_tree dumped to /tmp/cococo/crop_tree: ['crops', 'images']\n"
     ]
    }
   ],
   "source": [
    "# json_file -> crop_tree\n",
    "\n",
    "! rm -rf /tmp/cococo/crop_tree\n",
    "! cocorepr \\\n",
    "    --in_json_file ../examples/coco_chunk/json_file/instances_train2017_chunk3x2.json \\\n",
    "    --out_path /tmp/cococo/crop_tree \\\n",
    "    --out_format crop_tree \\\n",
    "    --overwrite"
   ]
  },
  {
   "cell_type": "code",
   "execution_count": null,
   "metadata": {},
   "outputs": [
    {
     "data": {
      "text/plain": [
       "'bicycle--2'"
      ]
     },
     "execution_count": null,
     "metadata": {},
     "output_type": "execute_result"
    }
   ],
   "source": [
    "cats = !ls /tmp/cococo/crop_tree/crops\n",
    "cat = cats[0]\n",
    "cat"
   ]
  },
  {
   "cell_type": "code",
   "execution_count": null,
   "metadata": {},
   "outputs": [],
   "source": [
    "# modify crop_tree"
   ]
  },
  {
   "cell_type": "code",
   "execution_count": null,
   "metadata": {},
   "outputs": [
    {
     "data": {
      "text/plain": [
       "'124710.png'"
      ]
     },
     "execution_count": null,
     "metadata": {},
     "output_type": "execute_result"
    }
   ],
   "source": [
    "crops = !ls /tmp/cococo/crop_tree/crops/{cat}\n",
    "deleted_crop = crops[0]\n",
    "deleted_crop"
   ]
  },
  {
   "cell_type": "code",
   "execution_count": null,
   "metadata": {},
   "outputs": [
    {
     "name": "stdout",
     "output_type": "stream",
     "text": [
      "124710.png  124713.png\n",
      "124713.png\n"
     ]
    }
   ],
   "source": [
    "! ls /tmp/cococo/crop_tree/crops/{cat}\n",
    "! rm /tmp/cococo/crop_tree/crops/{cat}/{deleted_crop}\n",
    "! ls /tmp/cococo/crop_tree/crops/{cat}"
   ]
  },
  {
   "cell_type": "code",
   "execution_count": null,
   "metadata": {},
   "outputs": [
    {
     "name": "stdout",
     "output_type": "stream",
     "text": [
      "INFO: Arguments: Namespace(debug=False, in_crop_tree=PosixPath('/tmp/cococo/crop_tree'), in_json_files=[PosixPath('../examples/coco_chunk/json_file/instances_train2017_chunk3x2.json')], in_json_trees=[], indent=4, out_format='json_tree', out_path=PosixPath('/tmp/cococo/json_tree_2'), overwrite=False)\n",
      "INFO: Loading json file from file: ../examples/coco_chunk/json_file/instances_train2017_chunk3x2.json\n",
      "INFO: Loaded: images=6, annotations=6, categories=3\n",
      "INFO: Loading blob list from dir: /tmp/cococo/crop_tree\n",
      "INFO: Loaded crop tree: len(annotations)=5 len(images)=5 len(categories)=3\n",
      "INFO: Dumping json tree to dir: /tmp/cococo/json_tree_2\n",
      "Traceback (most recent call last):\n",
      "  File \"/home/ay/.pyenv/versions/3.7.6/bin/cocorepr\", line 33, in <module>\n",
      "    sys.exit(load_entry_point('cocorepr', 'console_scripts', 'cocorepr')())\n",
      "  File \"/plain/github/nm/cocorepr/cocorepr/main.py\", line 81, in main\n",
      "    dump_fun(coco, out_path, skip_nulls=True, overwrite=overwrite, indent=indent)\n",
      "  File \"/plain/github/nm/cocorepr/cocorepr/json_tree.py\", line 78, in dump_json_tree\n",
      "    raise ValueError(f\"Destination json tree dir already exists: {target_dir}\")\n",
      "ValueError: Destination json tree dir already exists: /tmp/cococo/json_tree_2\n",
      "[+] File successfully not exists\n"
     ]
    }
   ],
   "source": [
    "# json_file + crop_tree (modified) -> json_tree\n",
    "\n",
    "! rm -rf /tmp/json_tree_2\n",
    "! cocorepr \\\n",
    "    --in_json_file ../examples/coco_chunk/json_file/instances_train2017_chunk3x2.json \\\n",
    "    --in_crop_tree /tmp/cococo/crop_tree \\\n",
    "    --out_path /tmp/cococo/json_tree_2 \\\n",
    "    --out_format json_tree\n",
    "\n",
    "! [ ! -f {TMP2}/annotations/{deleted_crop} ] && echo \"[+] File successfully not exists\""
   ]
  },
  {
   "cell_type": "code",
   "execution_count": null,
   "metadata": {},
   "outputs": [
    {
     "name": "stdout",
     "output_type": "stream",
     "text": [
      "INFO: Arguments: Namespace(debug=False, in_crop_tree=PosixPath('/tmp/cococo/crop_tree'), in_json_files=[], in_json_trees=[PosixPath('/tmp/cococo/json_tree_2')], indent=4, out_format='crop_tree', out_path=PosixPath('/tmp/cococo/crop_tree_2'), overwrite=False)\n",
      "INFO: Loading json tree from dir: /tmp/cococo/json_tree_2\n",
      "INFO: Loading blob list from dir: /tmp/cococo/crop_tree\n",
      "INFO: Loaded crop tree: len(annotations)=5 len(images)=5 len(categories)=3\n",
      "INFO: Dumping crop tree to dir: /tmp/cococo/crop_tree_2\n",
      "Processing images: 100%|██████████████████████████| 5/5 [00:04<00:00,  1.20it/s]\n",
      "INFO: [+] Success: crop_tree dumped to /tmp/cococo/crop_tree_2: ['crops', 'images']\n",
      "crops\n"
     ]
    }
   ],
   "source": [
    "# json_tree + crop_tree -> crop_tree\n",
    "\n",
    "! rm -rf /tmp/cococo/crop_tree_2\n",
    "! cocorepr \\\n",
    "    --in_json_tree /tmp/cococo/json_tree_2 \\\n",
    "    --in_crop_tree /tmp/cococo/crop_tree \\\n",
    "    --out_path /tmp/cococo/crop_tree_2 \\\n",
    "    --out_format crop_tree\n",
    "! ls /tmp/cococo/crop_tree_2 | grep crops"
   ]
  },
  {
   "cell_type": "code",
   "execution_count": null,
   "metadata": {},
   "outputs": [
    {
     "name": "stdout",
     "output_type": "stream",
     "text": [
      "INFO: Arguments: Namespace(debug=False, in_crop_tree=PosixPath('/tmp/cococo/crop_tree'), in_json_files=[], in_json_trees=[PosixPath('/tmp/cococo/json_tree_2')], indent=4, out_format='json_file', out_path=PosixPath('/tmp/cococo/json_file_2/annotations.json'), overwrite=False)\n",
      "INFO: Loading json tree from dir: /tmp/cococo/json_tree_2\n",
      "INFO: Loading blob list from dir: /tmp/cococo/crop_tree\n",
      "INFO: Loaded crop tree: len(annotations)=5 len(images)=5 len(categories)=3\n",
      "INFO: Dumping json file to file: /tmp/cococo/json_file_2/annotations.json\n",
      "INFO: Writing dataset to json file: /tmp/cococo/json_file_2/annotations.json\n",
      "INFO: [+] Success: json_file dumped to /tmp/cococo/json_file_2/annotations.json\n",
      "/tmp/cococo/json_file_2/annotations.json\n"
     ]
    }
   ],
   "source": [
    "# json_tree + crop_tree -> json_file\n",
    "\n",
    "! rm -rf /tmp/cococo/json_file_2\n",
    "! cocorepr \\\n",
    "    --in_json_tree /tmp/cococo/json_tree_2 \\\n",
    "    --in_crop_tree /tmp/cococo/crop_tree \\\n",
    "    --out_path /tmp/cococo/json_file_2/annotations.json \\\n",
    "    --out_format json_file\n",
    "\n",
    "! ls /tmp/cococo/json_file_2/annotations.json"
   ]
  },
  {
   "cell_type": "code",
   "execution_count": null,
   "metadata": {},
   "outputs": [
    {
     "name": "stdout",
     "output_type": "stream",
     "text": [
      "INFO: Arguments: Namespace(debug=False, in_crop_tree=None, in_json_files=[PosixPath('/tmp/cococo/json_file/annotations.json')], in_json_trees=[PosixPath('/tmp/cococo/json_tree_2')], indent=4, out_format='json_file', out_path=PosixPath('/tmp/cococo/json_file_3/annotations.json'), overwrite=True)\r\n",
      "INFO: Loading json tree from dir: /tmp/cococo/json_tree_2\r\n",
      "INFO: Loading json file from file: /tmp/cococo/json_file/annotations.json\r\n",
      "INFO: Loaded: images=6, annotations=6, categories=3\r\n",
      "INFO: Dumping json file to file: /tmp/cococo/json_file_3/annotations.json\r\n",
      "INFO: Writing dataset to json file: /tmp/cococo/json_file_3/annotations.json\r\n",
      "INFO: [+] Success: json_file dumped to /tmp/cococo/json_file_3/annotations.json\r\n"
     ]
    }
   ],
   "source": [
    "# json_tree + json_file + crop_tree -> json_tree\n",
    "\n",
    "! rm -rf /tmp/cococo/json_file_3/\n",
    "! cocorepr \\\n",
    "    --in_json_tree /tmp/cococo/json_tree_2 \\\n",
    "    --in_json_file /tmp/cococo/json_file/annotations.json \\\n",
    "    --out_path /tmp/cococo/json_file_3/annotations.json \\\n",
    "    --out_format json_file \\\n",
    "    --overwrite\n"
   ]
  },
  {
   "cell_type": "code",
   "execution_count": null,
   "metadata": {},
   "outputs": [],
   "source": []
  }
 ],
 "metadata": {
  "kernelspec": {
   "display_name": "Python 3",
   "language": "python",
   "name": "python3"
  },
  "language_info": {
   "codemirror_mode": {
    "name": "ipython",
    "version": 3
   },
   "file_extension": ".py",
   "mimetype": "text/x-python",
   "name": "python",
   "nbconvert_exporter": "python",
   "pygments_lexer": "ipython3",
   "version": "3.7.6"
  }
 },
 "nbformat": 4,
 "nbformat_minor": 2
}
